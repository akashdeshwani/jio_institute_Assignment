{
 "cells": [
  {
   "cell_type": "markdown",
   "id": "60d3a34c",
   "metadata": {},
   "source": [
    "## TM names : \n",
    "- Ahmed   : 23PGAI0120\n",
    "- Akash Deshwani: 23PGAI0035\n",
    "- Harshada Suresh Jadhav: 23PGAI0101\n",
    "- Rohan Mehta: 23PGAI0001"
   ]
  },
  {
   "cell_type": "markdown",
   "id": "2227179e",
   "metadata": {},
   "source": [
    "## Installing the required packages"
   ]
  },
  {
   "cell_type": "code",
   "execution_count": 20,
   "id": "6b234604",
   "metadata": {},
   "outputs": [
    {
     "name": "stdout",
     "output_type": "stream",
     "text": [
      "Requirement already satisfied: bs4 in d:\\installation\\miniconda3\\envs\\nlp\\lib\\site-packages (0.0.1)\n",
      "Requirement already satisfied: beautifulsoup4 in d:\\installation\\miniconda3\\envs\\nlp\\lib\\site-packages (from bs4) (4.11.1)\n",
      "Requirement already satisfied: soupsieve>1.2 in d:\\installation\\miniconda3\\envs\\nlp\\lib\\site-packages (from beautifulsoup4->bs4) (2.3.2.post1)\n",
      "Requirement already satisfied: numpy in d:\\installation\\miniconda3\\envs\\nlp\\lib\\site-packages (1.23.4)\n",
      "Requirement already satisfied: pandas in d:\\installation\\miniconda3\\envs\\nlp\\lib\\site-packages (1.5.1)\n",
      "Requirement already satisfied: python-dateutil>=2.8.1 in d:\\installation\\miniconda3\\envs\\nlp\\lib\\site-packages (from pandas) (2.8.2)\n",
      "Requirement already satisfied: pytz>=2020.1 in d:\\installation\\miniconda3\\envs\\nlp\\lib\\site-packages (from pandas) (2022.6)\n",
      "Requirement already satisfied: numpy>=1.21.0 in d:\\installation\\miniconda3\\envs\\nlp\\lib\\site-packages (from pandas) (1.23.4)\n",
      "Requirement already satisfied: six>=1.5 in d:\\installation\\miniconda3\\envs\\nlp\\lib\\site-packages (from python-dateutil>=2.8.1->pandas) (1.16.0)\n",
      "Requirement already satisfied: requests in d:\\installation\\miniconda3\\envs\\nlp\\lib\\site-packages (2.28.1)\n",
      "Requirement already satisfied: charset-normalizer<3,>=2 in d:\\installation\\miniconda3\\envs\\nlp\\lib\\site-packages (from requests) (2.1.1)\n",
      "Requirement already satisfied: idna<4,>=2.5 in d:\\installation\\miniconda3\\envs\\nlp\\lib\\site-packages (from requests) (3.4)\n",
      "Requirement already satisfied: urllib3<1.27,>=1.21.1 in d:\\installation\\miniconda3\\envs\\nlp\\lib\\site-packages (from requests) (1.26.12)\n",
      "Requirement already satisfied: certifi>=2017.4.17 in d:\\installation\\miniconda3\\envs\\nlp\\lib\\site-packages (from requests) (2022.9.24)\n"
     ]
    }
   ],
   "source": [
    "!pip install bs4\n",
    "!pip install numpy \n",
    "!pip install pandas\n",
    "!pip install requests"
   ]
  },
  {
   "cell_type": "markdown",
   "id": "1c8b34c2",
   "metadata": {},
   "source": [
    "## Importing the required packages"
   ]
  },
  {
   "cell_type": "code",
   "execution_count": 21,
   "id": "f79287a7",
   "metadata": {},
   "outputs": [],
   "source": [
    "import json\n",
    "import numpy as np\n",
    "import pandas as pd\n",
    "import re\n",
    "import requests\n",
    "from bs4 import BeautifulSoup\n",
    "import csv"
   ]
  },
  {
   "cell_type": "markdown",
   "id": "916c3193",
   "metadata": {},
   "source": [
    "#### Importing the dataset from Json file"
   ]
  },
  {
   "cell_type": "code",
   "execution_count": 42,
   "id": "c647b5df",
   "metadata": {},
   "outputs": [],
   "source": [
    "def read_file():\n",
    "    a = \"1_gg2015.json\"\n",
    "    df_original = pd.read_json(a)\n",
    "    print(len(df_original))\n",
    "    \n",
    "    # Creating a copy of the dataframe for manipulating\n",
    "    df = df_original.copy()\n",
    "    \n",
    "    # Creating a list of text for finding hosts\n",
    "    text_host = df['text'].tolist()\n",
    "    return(text_host)"
   ]
  },
  {
   "cell_type": "code",
   "execution_count": 46,
   "id": "fed20501",
   "metadata": {},
   "outputs": [
    {
     "name": "stdout",
     "output_type": "stream",
     "text": [
      "1754153\n",
      "<class 'list'>\n",
      "['just had to scramble to find a golden globes stream for my brother. :D', \"RT @ENews: Show us how you're watching the #GoldenGlobes -- tweet us a pic of your set up, we'll RT our faves! #ERedCarpet\", '@danaKStew @50ShadesWorldcm @ScarletteDrake Also Red Carpet um 12 &amp; die Show vill. um 1?!', 'RT @lisarinna: When your husband tells you that you Are going to the #GoldenGlobes parties like 5 minutes before you go.......\\nYou just gra…', '“@goldenglobes: Creating multiple mini Moët Moments on the @GoldenGlobes red carpet… http://t.co/vaLDYqbuD1\\n#MoetMoment” May I have one plz?']\n"
     ]
    }
   ],
   "source": [
    "df_test = read_file()\n",
    "print(type(df_test))\n",
    "print(df_test[:5])"
   ]
  },
  {
   "cell_type": "markdown",
   "id": "90349342",
   "metadata": {},
   "source": [
    "#### Preprocessing the data and converting it into a required list "
   ]
  },
  {
   "cell_type": "code",
   "execution_count": 52,
   "id": "fd022857",
   "metadata": {},
   "outputs": [],
   "source": [
    "# Preprocessing data\n",
    "def preprocessing(data):\n",
    "    processed_data = []\n",
    "    remove_list = ['think', 'thinking', 'should', 'would', 'maybe', 'could']\n",
    "    for i in data:\n",
    "        for j in remove_list:\n",
    "            if j not in i:\n",
    "                processed_data.append(i)\n",
    "    remove_words_list = ['golden', 'globe', 'globes']\n",
    "    for i in range(len(processed_data)):\n",
    "        for j in remove_words_list:\n",
    "            processed_data[i] = re.sub(j, '', processed_data[i], flags = re.IGNORECASE)\n",
    "    return processed_data"
   ]
  },
  {
   "cell_type": "code",
   "execution_count": 53,
   "id": "bd8b6da8",
   "metadata": {},
   "outputs": [
    {
     "name": "stdout",
     "output_type": "stream",
     "text": [
      "['just had to scramble to find a  s stream for my brother. :D', 'just had to scramble to find a  s stream for my brother. :D', 'just had to scramble to find a  s stream for my brother. :D', 'just had to scramble to find a  s stream for my brother. :D', 'just had to scramble to find a  s stream for my brother. :D']\n",
      "10442632\n"
     ]
    }
   ],
   "source": [
    "df_1 = preprocessing(df_test)\n",
    "print(df_1[:5])\n",
    "print(len(df_1))"
   ]
  },
  {
   "cell_type": "markdown",
   "id": "c3d553ab",
   "metadata": {},
   "source": [
    "#### Scraping the Top 1000 Actors and Actresses from the IMDB website"
   ]
  },
  {
   "cell_type": "code",
   "execution_count": 54,
   "id": "387028dc",
   "metadata": {},
   "outputs": [],
   "source": [
    "def scrape_actors():\n",
    "    actorNames = []\n",
    "    for single_page in range(1, 11):\n",
    "        URL = f\"https://www.imdb.com/list/ls058011111/?sort=list_order,asc&mode=detail&page={single_page}\"\n",
    "        r = requests.get(URL)\n",
    "        soup = BeautifulSoup(r.text, 'html.parser')\n",
    "        actorName = soup.find_all('h3',{'class':'lister-item-header'})\n",
    "        actorName = [i.find('a').text.strip() for i in actorName]\n",
    "        actorNames.extend(actorName)\n",
    "    return actorNames"
   ]
  },
  {
   "cell_type": "code",
   "execution_count": 55,
   "id": "97fa295c",
   "metadata": {},
   "outputs": [
    {
     "name": "stdout",
     "output_type": "stream",
     "text": [
      "['Robert De Niro', 'Jack Nicholson', 'Marlon Brando', 'Denzel Washington', 'Katharine Hepburn']\n",
      "1000\n"
     ]
    }
   ],
   "source": [
    "scrape_list = scrape_actors()\n",
    "print(scrape_list[:5])\n",
    "print(len(scrape_list))"
   ]
  },
  {
   "cell_type": "markdown",
   "id": "00c15f63",
   "metadata": {},
   "source": [
    "### Extracting Hosts name from the Tweet text"
   ]
  },
  {
   "cell_type": "code",
   "execution_count": 56,
   "id": "35768585",
   "metadata": {},
   "outputs": [],
   "source": [
    "# Finding Hosts\n",
    "def get_hosts(data, actorNames):\n",
    "    match = ''\n",
    "    result={}\n",
    "    for i in range(len(data)):\n",
    "        found = re.search('(H|h)ost', data[i])\n",
    "        if found:\n",
    "            patt = re.compile(r'[A-Z][a-z]+ [A-Z][a-z]+')\n",
    "            matches = patt.findall(data[i])\n",
    "            for match in matches:\n",
    "                if match in actorNames:\n",
    "                    if match in result:\n",
    "                        result[match] += 1\n",
    "                    else:\n",
    "                        result[match] = 1\n",
    "    sorted_hosts = sorted(result.items(), key=lambda x:x[1], reverse=True)\n",
    "    return(sorted_hosts[0:2])"
   ]
  },
  {
   "cell_type": "code",
   "execution_count": 57,
   "id": "3658afdd",
   "metadata": {},
   "outputs": [
    {
     "name": "stdout",
     "output_type": "stream",
     "text": [
      "[('Amy Poehler', 39778), ('Tina Fey', 34874)]\n"
     ]
    }
   ],
   "source": [
    "host = get_hosts(df_1, scrape_list)\n",
    "print(host)"
   ]
  },
  {
   "cell_type": "markdown",
   "id": "79679705",
   "metadata": {},
   "source": [
    "### Hurrah! We have successfully extracted the hosts name from the tweet text"
   ]
  },
  {
   "cell_type": "markdown",
   "id": "22bb015e",
   "metadata": {},
   "source": [
    "##### Extracting the awards from the tweet text and storing it in a list"
   ]
  },
  {
   "cell_type": "code",
   "execution_count": 58,
   "id": "77de122d",
   "metadata": {},
   "outputs": [],
   "source": [
    "def get_awards(data):\n",
    "    match = ''\n",
    "    result = {}\n",
    "    for i in range(len(data)):\n",
    "        found = re.search('(B|b)est', data[i])\n",
    "        if found:\n",
    "            found1 = re.search(r'\\bWin\\b | \\bWins\\b | \\bwin\\b | \\bwins\\b | \\bgoes to\\b|', data[i])\n",
    "            if found1:\n",
    "                patt = re.compile(r'Best [A-Z][a-z]+ [A-Z*a-z ]+ - [A-Z*a-z ]+')\n",
    "                matches = patt.findall(data[i])\n",
    "                for match in matches:\n",
    "                    if match.title() in result:\n",
    "                        result[match.title()] += 1\n",
    "                    else:\n",
    "                        result[match.title()] = 1\n",
    "    sorted_awards = sorted(result.items(), key=lambda x:x[1], reverse=True)\n",
    "    return(sorted_awards[0:50])"
   ]
  },
  {
   "cell_type": "code",
   "execution_count": 60,
   "id": "59cb29ab",
   "metadata": {},
   "outputs": [
    {
     "name": "stdout",
     "output_type": "stream",
     "text": [
      "[('Best Actor In A Motion Picture - Drama ', 13968), ('Best Motion Picture - Comedy Or Musical ', 11604), ('Best Supporting Actor In A Television Series - Matt Bomer ', 11238), ('Best Television Series Actor - Drama ', 10913), ('Best Actress In A Motion Picture - Comedy Or Musical ', 10415)]\n",
      "50\n"
     ]
    }
   ],
   "source": [
    "awards = get_awards(df_1)\n",
    "print(awards[:5])\n",
    "print(len(awards))"
   ]
  },
  {
   "cell_type": "markdown",
   "id": "9335984d",
   "metadata": {},
   "source": [
    "##### we have found the awards but it is not in the required format and it has some extra characters (noise) in it"
   ]
  },
  {
   "cell_type": "markdown",
   "id": "05b796c8",
   "metadata": {},
   "source": [
    "### Searching for the Presenters name in the tweet text"
   ]
  },
  {
   "cell_type": "code",
   "execution_count": null,
   "id": "fa4e0bd7",
   "metadata": {},
   "outputs": [],
   "source": [
    "# Finding Presenters\n",
    "def get_presenters(data, actorNames):\n",
    "    match = ''\n",
    "    result={}\n",
    "    for i in range(len(data)):\n",
    "        found = re.search('(P|p)resent(ing|ed|er|ers)', data[i])\n",
    "        if found:\n",
    "            patt = re.compile(r'[A-Z][a-z]+ [A-Z][a-z]+')\n",
    "            matches = patt.findall(data[i])\n",
    "            for match in matches:\n",
    "                if match in actorNames:\n",
    "                    if match in result:\n",
    "                        result[match] += 1\n",
    "                    else:\n",
    "                        result[match] = 1\n",
    "    sorted_presenters = sorted(result.items(), key=lambda x:x[1], reverse=True)\n",
    "    return(sorted_presenters[0:15])"
   ]
  },
  {
   "cell_type": "code",
   "execution_count": null,
   "id": "3e723e9a",
   "metadata": {},
   "outputs": [
    {
     "name": "stdout",
     "output_type": "stream",
     "text": [
      "[('Jennifer Aniston', 1589), ('Salma Hayek', 1530), ('Dakota Johnson', 1376), ('Naomi Watts', 1278), ('Benedict Cumberbatch', 1177)]\n",
      "50\n"
     ]
    }
   ],
   "source": [
    "presenters = get_presenters(df_1, scrape_list)\n",
    "print(presenters[:5])\n",
    "print(len(presenters))"
   ]
  },
  {
   "cell_type": "markdown",
   "id": "c32423dc",
   "metadata": {},
   "source": [
    "#### Nominees for all the awards"
   ]
  },
  {
   "cell_type": "code",
   "execution_count": 63,
   "id": "19214e8c",
   "metadata": {},
   "outputs": [],
   "source": [
    "# Finding Nominees\n",
    "def get_nominees(data, actorNames):\n",
    "    match = ''\n",
    "    result={}\n",
    "    for i in range(len(data)):\n",
    "        found = re.search('(N|n)omin(ee|ees|ated)', data[i])\n",
    "        if found:\n",
    "            patt = re.compile(r'[A-Z][a-z]+ [A-Z][a-z]+')\n",
    "            matches = patt.findall(data[i])\n",
    "            for match in matches:\n",
    "                if match in actorNames:\n",
    "                    if match in result:\n",
    "                        result[match] += 1\n",
    "                    else:\n",
    "                        result[match] = 1\n",
    "    sorted_presenters = sorted(result.items(), key=lambda x:x[1], reverse=True)\n",
    "    return(sorted_presenters[0:100])"
   ]
  },
  {
   "cell_type": "code",
   "execution_count": 64,
   "id": "dae356d5",
   "metadata": {},
   "outputs": [
    {
     "name": "stdout",
     "output_type": "stream",
     "text": [
      "[('George Clooney', 2351), ('Kevin Spacey', 2201), ('Amy Adams', 1295), ('Bill Murray', 769), ('Rosamund Pike', 701)]\n",
      "100\n"
     ]
    }
   ],
   "source": [
    "nom = get_nominees(df_1, scrape_list)\n",
    "print(nom[:5])\n",
    "print(len(nom))"
   ]
  },
  {
   "cell_type": "markdown",
   "id": "831e018f",
   "metadata": {},
   "source": [
    "#### Finally Winners of all the awards"
   ]
  },
  {
   "cell_type": "code",
   "execution_count": 65,
   "id": "98d963a9",
   "metadata": {},
   "outputs": [],
   "source": [
    "def get_winners(data, awards, actorNames):\n",
    "    match = ''\n",
    "    result = {}\n",
    "    for i in range(len(data)):\n",
    "        for j in range(len(awards)):\n",
    "            found = re.search(awards[j][0].lower(), data[i].lower())\n",
    "            if found:\n",
    "                found1 = re.search(r'\\bWin\\b | \\bWins\\b | \\bwin\\b | \\bwins\\b | \\bgoes to\\b|', data[i])\n",
    "                if found1:\n",
    "                    patt = re.compile(r'[A-Z][a-z]+ [A-Z][a-z]+')\n",
    "                    matches = patt.findall(data[i])\n",
    "                    for match in matches:\n",
    "                        if match in actorNames:\n",
    "                            if match.title() in result:\n",
    "                                result[match.title()] += 1\n",
    "                            else:\n",
    "                                result[match.title()] = 1\n",
    "    sorted_awards = sorted(result.items(), key=lambda x:x[1], reverse=True)\n",
    "    return(sorted_awards[0:50])"
   ]
  },
  {
   "cell_type": "code",
   "execution_count": 66,
   "id": "11680078",
   "metadata": {},
   "outputs": [
    {
     "name": "stdout",
     "output_type": "stream",
     "text": [
      "[('Julianne Moore', 20124), ('Patricia Arquette', 14622), ('Kevin Spacey', 12515), ('Amy Adams', 10589), ('Michael Keaton', 9762)]\n",
      "14\n"
     ]
    }
   ],
   "source": [
    "winnerslist = get_winners(df_1, awards, scrape_list)\n",
    "print(winnerslist[:5])\n",
    "print(len(winnerslist))"
   ]
  },
  {
   "cell_type": "code",
   "execution_count": 69,
   "id": "68801954",
   "metadata": {},
   "outputs": [],
   "source": [
    "def report(hosts, awards, presenters, nominees, winners):\n",
    "    \n",
    "    print('Hosts: ')\n",
    "    for i in hosts:\n",
    "        print(i[0])\n",
    "    print()\n",
    "    print('Presenters: ')\n",
    "    for i in presenters:\n",
    "        print(i[0])\n",
    "    print()\n",
    "    print('Award Names: ')\n",
    "    for i in awards:\n",
    "        print(i[0])\n",
    "    print()\n",
    "    print('Nominees: ')\n",
    "    for i in nominees:\n",
    "        print(i[0])\n",
    "    print()\n",
    "    print('Winners: ')\n",
    "    for i in winners:\n",
    "        print(i[0])\n",
    "    print()"
   ]
  },
  {
   "cell_type": "code",
   "execution_count": 70,
   "id": "06498e6b",
   "metadata": {},
   "outputs": [
    {
     "name": "stdout",
     "output_type": "stream",
     "text": [
      "1754153\n"
     ]
    }
   ],
   "source": [
    "text_host = read_file()\n",
    "text_host1 = preprocessing(text_host)\n",
    "actorNames = scrape_actors()\n",
    "hosts = get_hosts(text_host1, actorNames)\n",
    "awards = get_awards(text_host1)\n",
    "presenters = get_presenters(text_host1,actorNames)\n",
    "nominees = get_nominees(text_host1, actorNames)\n",
    "winners = get_winners(text_host1, awards, actorNames)\n",
    "report(hosts, awards, presenters, nominees, winners)"
   ]
  },
  {
   "cell_type": "code",
   "execution_count": null,
   "id": "66e827fc",
   "metadata": {},
   "outputs": [],
   "source": []
  }
 ],
 "metadata": {
  "kernelspec": {
   "display_name": "Python 3.11.0 ('NLP')",
   "language": "python",
   "name": "python3"
  },
  "language_info": {
   "codemirror_mode": {
    "name": "ipython",
    "version": 3
   },
   "file_extension": ".py",
   "mimetype": "text/x-python",
   "name": "python",
   "nbconvert_exporter": "python",
   "pygments_lexer": "ipython3",
   "version": "3.11.0"
  },
  "vscode": {
   "interpreter": {
    "hash": "5c3b18ba5c2576abae90977218ceffdd7d33c73d774a4fcd26485888a6ec8c71"
   }
  }
 },
 "nbformat": 4,
 "nbformat_minor": 5
}
