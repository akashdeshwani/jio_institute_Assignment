{
 "cells": [
  {
   "cell_type": "code",
   "execution_count": 2,
   "metadata": {},
   "outputs": [],
   "source": [
    "import pandas as pd\n",
    "# import os"
   ]
  },
  {
   "cell_type": "code",
   "execution_count": 3,
   "metadata": {},
   "outputs": [],
   "source": [
    "df = pd.read_json('NLP.json', encoding='utf-8')"
   ]
  },
  {
   "cell_type": "code",
   "execution_count": 4,
   "metadata": {},
   "outputs": [
    {
     "data": {
      "text/plain": [
       "pandas.core.frame.DataFrame"
      ]
     },
     "execution_count": 4,
     "metadata": {},
     "output_type": "execute_result"
    }
   ],
   "source": [
    "type(df)"
   ]
  },
  {
   "cell_type": "code",
   "execution_count": 5,
   "metadata": {},
   "outputs": [
    {
     "data": {
      "text/html": [
       "<div>\n",
       "<style scoped>\n",
       "    .dataframe tbody tr th:only-of-type {\n",
       "        vertical-align: middle;\n",
       "    }\n",
       "\n",
       "    .dataframe tbody tr th {\n",
       "        vertical-align: top;\n",
       "    }\n",
       "\n",
       "    .dataframe thead th {\n",
       "        text-align: right;\n",
       "    }\n",
       "</style>\n",
       "<table border=\"1\" class=\"dataframe\">\n",
       "  <thead>\n",
       "    <tr style=\"text-align: right;\">\n",
       "      <th></th>\n",
       "      <th>_id</th>\n",
       "      <th>text</th>\n",
       "      <th>timestamp_ms</th>\n",
       "      <th>user</th>\n",
       "      <th>id</th>\n",
       "    </tr>\n",
       "  </thead>\n",
       "  <tbody>\n",
       "    <tr>\n",
       "      <th>0</th>\n",
       "      <td>{'$oid': '6352be4ab582c55de42c5787'}</td>\n",
       "      <td>just had to scramble to find a golden globes s...</td>\n",
       "      <td>2015-01-11 22:20:13.011</td>\n",
       "      <td>{'id': 19904553, 'screen_name': 'baumbaTz'}</td>\n",
       "      <td>554402424728072192</td>\n",
       "    </tr>\n",
       "    <tr>\n",
       "      <th>1</th>\n",
       "      <td>{'$oid': '6352be4ab582c55de42c5788'}</td>\n",
       "      <td>RT @ENews: Show us how you're watching the #Go...</td>\n",
       "      <td>2015-01-11 22:25:13.824</td>\n",
       "      <td>{'id': 85020476, 'screen_name': 'devinaaaprilia'}</td>\n",
       "      <td>554403686428864513</td>\n",
       "    </tr>\n",
       "    <tr>\n",
       "      <th>2</th>\n",
       "      <td>{'$oid': '6352be4ab582c55de42c5789'}</td>\n",
       "      <td>@danaKStew @50ShadesWorldcm @ScarletteDrake Al...</td>\n",
       "      <td>2015-01-11 22:25:13.869</td>\n",
       "      <td>{'id': 1433214326, 'screen_name': 'jamiedornan...</td>\n",
       "      <td>554403686617985024</td>\n",
       "    </tr>\n",
       "    <tr>\n",
       "      <th>3</th>\n",
       "      <td>{'$oid': '6352be4ab582c55de42c578a'}</td>\n",
       "      <td>RT @lisarinna: When your husband tells you tha...</td>\n",
       "      <td>2015-01-11 22:25:13.928</td>\n",
       "      <td>{'id': 505974820, 'screen_name': 'WyAttDoRiAn'}</td>\n",
       "      <td>554403686865440769</td>\n",
       "    </tr>\n",
       "    <tr>\n",
       "      <th>4</th>\n",
       "      <td>{'$oid': '6352be4ab582c55de42c578b'}</td>\n",
       "      <td>“@goldenglobes: Creating multiple mini Moët Mo...</td>\n",
       "      <td>2015-01-11 22:25:14.067</td>\n",
       "      <td>{'id': 146599313, 'screen_name': 'Rascal207'}</td>\n",
       "      <td>554403687448469504</td>\n",
       "    </tr>\n",
       "  </tbody>\n",
       "</table>\n",
       "</div>"
      ],
      "text/plain": [
       "                                    _id  \\\n",
       "0  {'$oid': '6352be4ab582c55de42c5787'}   \n",
       "1  {'$oid': '6352be4ab582c55de42c5788'}   \n",
       "2  {'$oid': '6352be4ab582c55de42c5789'}   \n",
       "3  {'$oid': '6352be4ab582c55de42c578a'}   \n",
       "4  {'$oid': '6352be4ab582c55de42c578b'}   \n",
       "\n",
       "                                                text            timestamp_ms  \\\n",
       "0  just had to scramble to find a golden globes s... 2015-01-11 22:20:13.011   \n",
       "1  RT @ENews: Show us how you're watching the #Go... 2015-01-11 22:25:13.824   \n",
       "2  @danaKStew @50ShadesWorldcm @ScarletteDrake Al... 2015-01-11 22:25:13.869   \n",
       "3  RT @lisarinna: When your husband tells you tha... 2015-01-11 22:25:13.928   \n",
       "4  “@goldenglobes: Creating multiple mini Moët Mo... 2015-01-11 22:25:14.067   \n",
       "\n",
       "                                                user                  id  \n",
       "0        {'id': 19904553, 'screen_name': 'baumbaTz'}  554402424728072192  \n",
       "1  {'id': 85020476, 'screen_name': 'devinaaaprilia'}  554403686428864513  \n",
       "2  {'id': 1433214326, 'screen_name': 'jamiedornan...  554403686617985024  \n",
       "3    {'id': 505974820, 'screen_name': 'WyAttDoRiAn'}  554403686865440769  \n",
       "4      {'id': 146599313, 'screen_name': 'Rascal207'}  554403687448469504  "
      ]
     },
     "execution_count": 5,
     "metadata": {},
     "output_type": "execute_result"
    }
   ],
   "source": [
    "df.head()"
   ]
  },
  {
   "cell_type": "code",
   "execution_count": 6,
   "metadata": {},
   "outputs": [
    {
     "data": {
      "text/plain": [
       "(227257, 5)"
      ]
     },
     "execution_count": 6,
     "metadata": {},
     "output_type": "execute_result"
    }
   ],
   "source": [
    "df.shape"
   ]
  },
  {
   "cell_type": "code",
   "execution_count": 7,
   "metadata": {},
   "outputs": [
    {
     "data": {
      "text/plain": [
       "Index(['_id', 'text', 'timestamp_ms', 'user', 'id'], dtype='object')"
      ]
     },
     "execution_count": 7,
     "metadata": {},
     "output_type": "execute_result"
    }
   ],
   "source": [
    "df.columns"
   ]
  },
  {
   "cell_type": "code",
   "execution_count": 8,
   "metadata": {},
   "outputs": [
    {
     "name": "stdout",
     "output_type": "stream",
     "text": [
      "227257\n"
     ]
    }
   ],
   "source": [
    "print(len(df))"
   ]
  },
  {
   "cell_type": "code",
   "execution_count": null,
   "metadata": {},
   "outputs": [],
   "source": []
  }
 ],
 "metadata": {
  "kernelspec": {
   "display_name": "Python 3.9.13 ('base')",
   "language": "python",
   "name": "python3"
  },
  "language_info": {
   "codemirror_mode": {
    "name": "ipython",
    "version": 3
   },
   "file_extension": ".py",
   "mimetype": "text/x-python",
   "name": "python",
   "nbconvert_exporter": "python",
   "pygments_lexer": "ipython3",
   "version": "3.9.13"
  },
  "orig_nbformat": 4,
  "vscode": {
   "interpreter": {
    "hash": "77ce1daac4cc618906302d44b9c26097bb5a0acb9a6503c2e9d50863c642619c"
   }
  }
 },
 "nbformat": 4,
 "nbformat_minor": 2
}
