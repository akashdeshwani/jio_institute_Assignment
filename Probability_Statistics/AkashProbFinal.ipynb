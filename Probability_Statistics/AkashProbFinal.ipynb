{
 "cells": [
  {
   "cell_type": "markdown",
   "metadata": {},
   "source": [
    "# Probability and Statistics For AI&DS Final Exam\n",
    "\n",
    "### AKASH DESHWANI - 23PGAI0035"
   ]
  },
  {
   "cell_type": "markdown",
   "metadata": {},
   "source": [
    "## Problem Statement \n",
    "\n",
    "UlweTel good proportion of their customers doesn't recharge on time and thus loses out on revenue from these customers. UlweTel wants to find out the best way to maximize the revenue from their customers and retain their customers by increasing the number of customers that recharge on time. Analysis need to be done to find out the driving factors behind this problem.\n",
    "A dataset is available with the following information: (data Dictionary)\n"
   ]
  },
  {
   "cell_type": "markdown",
   "metadata": {},
   "source": [
    "### *Data Dictionary*"
   ]
  },
  {
   "cell_type": "markdown",
   "metadata": {},
   "source": [
    "<div style=\"font-size: 10px\">\n",
    "\n",
    "\n",
    "|   |                  |                                |                                                                                                                                                                                                                                                               |           |\n",
    "|----|-------------------|---------------------------------|----------------------------------------------------------------------------------------------------------------------------------------------------------------------------------------------------------------------------------------------------------------|------------|\n",
    "|S No|Feature type       |Feature Name                     |Description                                                                                                                                                                                                                                                     |Time period |\n",
    "|1   |Identification     |customer_id                      |Customer id - Unique for each customer or contract with the operator                                                                                                                                                                                            |NA          |\n",
    "|2   |Acquisition        |ownership                        |Individual or Corporate (Corporate is Corporate owned)                                                                                                                                                                                                          |NA          |\n",
    "|3   |Acquisition        |activation_plan_code             |The plan customer enrolled with at the time of activation                                                                                                                                                                                                       |NA          |\n",
    "|4   |Acquisition        |mnp_flag                         |Flag for identifying MNP customer (ported in from another operator)                                                                                                                                                                                             |NA          |\n",
    "|5   |Engagement         |calls_incoming_cnt               |Count of  incoming calls                                                                                                                                                                                                                                        |Last 30 days|\n",
    "|6   |Engagement         |calls_outgoing_cnt               |Count of outgoing calls                                                                                                                                                                                                                                         |Last 30 days|\n",
    "|7   |Engagement         |calls_incoming_duration          |Total minutes of incoming calls                                                                                                                                                                                                                                 |Last 30 days|\n",
    "|8   |Engagement         |calls_outgoing_duration          |Total minutes of outgoing calls                                                                                                                                                                                                                                 |Last 30 days|\n",
    "|9   |Engagement         |total_call_count                 |Total number of calls                                                                                                                                                                                                                                           |Last 30 days|\n",
    "|10  |Engagement         |total_sum_duration               |Total minutes of all calls (incoming + outgoing)                                                                                                                                                                                                                |Last 30 days|\n",
    "|11  |Engagement         |tot_usage_mb                     |Total data used in MBs                                                                                                                                                                                                                                          |Last 30 days|\n",
    "|12  |Engagement         |upload_usage_mb                  |Upload data usage in MBs                                                                                                                                                                                                                                        |Last 30 days|\n",
    "|13  |Engagement         |download_usage_mb                |Download data usage in MBs                                                                                                                                                                                                                                      |Last 30 days|\n",
    "|14  |Engagement         |days_since_latch                 |Days since last time the SIM connected to the network. Higher value means the SIM has been inactive for a longer duration                                                                                                                                       |NA          |\n",
    "|15  |Explicit experience|cnt_open_qrc                     |Count of open queries/requests/complaints                                                                                                                                                                                                                       |Last 30 days|\n",
    "|16  |Explicit experience|avg_days_to_close                |Average days taken to close requests made in the time period                                                                                                                                                                                                    |Last 30 days|\n",
    "|17  |Implicit experience|cnt_call_drops                   |Count of calls dropped                                                                                                                                                                                                                                          |Last 30 days|\n",
    "|18  |Implicit experience|pcnt_dropped_calls               |% of calls where call drop was experienced                                                                                                                                                                                                                      |Last 30 days|\n",
    "|19  |Implicit experience|rsrp_voice_pcnt_poor_duration    |Percentage of poor RSRP duration during voice calls (Poor RSRP implies poor network coverage)                                                                                                                                                                   |Last 30 days|\n",
    "|20  |Implicit experience|rsrp_data_pcnt_poor_duration     |Percentage of duration of network data-sessions (data only) with poor RSRP (Poor RSRP implies poor network coverage)                                                                                                                                            |Last 30 days|\n",
    "|21  |Implicit experience|mean_cqi_voice_pcnt_poor_duration|Percentage of poor mean CQI duration during voice calls (Poor CQI implies poor network quality)                                                                                                                                                                 |Last 30 days|\n",
    "|22  |Implicit experience|sinr_voice_pcnt_poor_duration    |Percentage duration of poor SINR (Signal to noise ratio) experienced while using voice (Poor SINR implies poor network quality)                                                                                                                                 |Last 30 days|\n",
    "|23  |Implicit experience|sinr_data_pcnt_poor_duration     |Percentage duration with poor SINR experienced while using data (Poor SINR implies poor network quality)                                                                                                                                                        |Last 30 days|\n",
    "|24  |Loyalty            |age_on_network                   |Age of the customer on the network in days                                                                                                                                                                                                                      |NA          |\n",
    "|25  |Loyalty            |cnt_connections                  |Total count of connections that a customer has with the company including the referred connection (It is based on the count of connections for the associated identity document - social security number, passport number, aadhaar card number - of the custome)|NA          |\n",
    "|26  |Payments           |current_plan_code                |Product / Plan ID of the current plan                                                                                                                                                                                                                           |NA          |\n",
    "|27  |Payments           |cnt_recharges_made               |Total count of recharges made by the customer                                                                                                                                                                                                                   |Till Date   |\n",
    "|28  |Payments           |total_payment_made               |Total payment made by the customer                                                                                                                                                                                                                              |Till Date   |\n",
    "|29  |Payments           |cnt_main_plans_taken             |Total count of base plans taken (base plans have validity and other benefits)                                                                                                                                                                                   |Till Date   |\n",
    "|30  |Payments           |total_main_plans_mrp             |Total payment made by the customer to purchase all the base plans                                                                                                                                                                                               |Till Date   |\n",
    "|31  |Payments           |cnt_addon_plans_taken            |Total count of addon plans (addon plans only have data benefits)                                                                                                                                                                                                |Till Date   |\n",
    "|32  |Payments           |total_addon_plans_mrp            |Total payment made by the customer to purchase all the addon plans                                                                                                                                                                                              |Till Date   |\n",
    "|33  |Payments           |cnt_rchg_offline                 |Total count of recharges made offline from retail stores                                                                                                                                                                                                        |Till Date   |\n",
    "|34  |Payments           |cnt_rchg_online                  |Total count of recharges made via online channels                                                                                                                                                                                                               |Till Date   |\n",
    "|35  |Payments           |cnt_rchg_on_or_before_expiry     |Total count of recharges done on or before expiry, historically                                                                                                                                                                                                 |Till Date   |\n",
    "|36  |Payments           |cnt_rchg_after_expiry            |Total count of recharges done after expiry, historically                                                                                                                                                                                                        |Till Date   |\n",
    "|37  |Payments           |current_active_plan_mrp          |Current active plan's mrp                                                                                                                                                                                                                                       |Till Date   |\n",
    "|38  |Payments           |current_active_plan_validity     |Current active plan's validity                                                                                                                                                                                                                                  |Till Date   |\n",
    "|39  |Payments           |last_cycle_plan_mrp              |MRP of last cycle's plan                                                                                                                                                                                                                                        |Till Date   |\n",
    "|40  |Payments           |last_cycle_plan_validity         |Validity of last cycle's plan                                                                                                                                                                                                                                   |Till Date   |\n",
    "|41  |Payments           |avg_days_bw_rchg_and_expiry      |Average of days between recharge and expiry. This can be negative (if a customer recharges before expiry on average) or positive (if a customer recharges after expiry on average)                                                                              |Till Date   |\n",
    "|42  |Payments           |stddev_days_bw_rchg_and_expiry   |Standard deviation in days between rchg and expiry                                                                                                                                                                                                              |Till Date   |\n",
    "|43  |Payments           |price_per_day                    |Price per day as per the current active plan (mrp/validity days)                                                                                                                                                                                                |Last 30 days|\n",
    "|44  |Payments           |gb_per_day_quota                 |Data-quota per day in GBs as per the current active plan                                                                                                                                                                                                        |Last 30 days|\n",
    "|45  |Payments           |pcnt_quota_used                  |Percentage of the data-quota used. This can be more than 100% (if one takes additional data packs) because quota is only computed for base plans                                                                                                                |Last 30 days|\n",
    "|46  |Value              |device_avg_asp                   |Average price of the device                                                                                                                                                                                                                                     |NA          |\n",
    "|47  |Value              |recharge_delay                   |recharge time priod after or before plan expires device                                                                                                                                                                                                                                     |NA          |\n",
    "\n",
    "</div >\n"
   ]
  },
  {
   "cell_type": "markdown",
   "metadata": {},
   "source": [
    "## *Project Initial Setup*"
   ]
  },
  {
   "cell_type": "code",
   "execution_count": 194,
   "metadata": {},
   "outputs": [],
   "source": [
    "# importing libraries\n",
    "import pandas as pd\n",
    "import numpy as np\n",
    "from matplotlib import pyplot as plt\n",
    "from scipy.stats import norm\n",
    "import seaborn as sns\n",
    "%matplotlib inline\n",
    "from statsmodels.stats.proportion import proportions_ztest\n",
    "import sklearn\n",
    "from sklearn.model_selection import train_test_split\n",
    "from pydoc import describe\n",
    "import scipy.stats as stats \n",
    "import statsmodels.api as sm\n"
   ]
  },
  {
   "cell_type": "markdown",
   "metadata": {},
   "source": [
    "### *Importing dataset*"
   ]
  },
  {
   "cell_type": "code",
   "execution_count": 153,
   "metadata": {},
   "outputs": [
    {
     "data": {
      "text/html": [
       "<div>\n",
       "<style scoped>\n",
       "    .dataframe tbody tr th:only-of-type {\n",
       "        vertical-align: middle;\n",
       "    }\n",
       "\n",
       "    .dataframe tbody tr th {\n",
       "        vertical-align: top;\n",
       "    }\n",
       "\n",
       "    .dataframe thead th {\n",
       "        text-align: right;\n",
       "    }\n",
       "</style>\n",
       "<table border=\"1\" class=\"dataframe\">\n",
       "  <thead>\n",
       "    <tr style=\"text-align: right;\">\n",
       "      <th></th>\n",
       "      <th>customer_id</th>\n",
       "      <th>ownership</th>\n",
       "      <th>activation_plan_code</th>\n",
       "      <th>mnp_flag</th>\n",
       "      <th>calls_incoming_cnt</th>\n",
       "      <th>calls_outgoing_cnt</th>\n",
       "      <th>calls_incoming_duration</th>\n",
       "      <th>calls_outgoing_duration</th>\n",
       "      <th>total_call_count</th>\n",
       "      <th>total_sum_duration</th>\n",
       "      <th>...</th>\n",
       "      <th>current_active_plan_validity</th>\n",
       "      <th>last_cycle_plan_mrp</th>\n",
       "      <th>last_cycle_plan_validity</th>\n",
       "      <th>avg_days_bw_rchg_and_expiry</th>\n",
       "      <th>stddev_days_bw_rchg_and_expiry</th>\n",
       "      <th>price_per_day</th>\n",
       "      <th>gb_per_day_quota</th>\n",
       "      <th>pcnt_quota_used</th>\n",
       "      <th>device_avg_asp</th>\n",
       "      <th>recharge_delay</th>\n",
       "    </tr>\n",
       "  </thead>\n",
       "  <tbody>\n",
       "    <tr>\n",
       "      <th>0</th>\n",
       "      <td>10000</td>\n",
       "      <td>individual</td>\n",
       "      <td>4</td>\n",
       "      <td>1</td>\n",
       "      <td>27.0</td>\n",
       "      <td>11.0</td>\n",
       "      <td>40.382315</td>\n",
       "      <td>14.489126</td>\n",
       "      <td>38.0</td>\n",
       "      <td>54.871441</td>\n",
       "      <td>...</td>\n",
       "      <td>28</td>\n",
       "      <td>99</td>\n",
       "      <td>15</td>\n",
       "      <td>-0.562420</td>\n",
       "      <td>2.084082</td>\n",
       "      <td>4.571429</td>\n",
       "      <td>1.0</td>\n",
       "      <td>3.753949</td>\n",
       "      <td>30K_to_50K</td>\n",
       "      <td>-1.373103</td>\n",
       "    </tr>\n",
       "    <tr>\n",
       "      <th>1</th>\n",
       "      <td>10001</td>\n",
       "      <td>individual</td>\n",
       "      <td>6</td>\n",
       "      <td>0</td>\n",
       "      <td>8.0</td>\n",
       "      <td>307.0</td>\n",
       "      <td>12.247104</td>\n",
       "      <td>350.255368</td>\n",
       "      <td>315.0</td>\n",
       "      <td>362.502472</td>\n",
       "      <td>...</td>\n",
       "      <td>365</td>\n",
       "      <td>300</td>\n",
       "      <td>90</td>\n",
       "      <td>-1.467173</td>\n",
       "      <td>1.718447</td>\n",
       "      <td>4.109589</td>\n",
       "      <td>3.0</td>\n",
       "      <td>16.575406</td>\n",
       "      <td>50K_above</td>\n",
       "      <td>-0.850781</td>\n",
       "    </tr>\n",
       "    <tr>\n",
       "      <th>2</th>\n",
       "      <td>10002</td>\n",
       "      <td>corporate</td>\n",
       "      <td>6</td>\n",
       "      <td>0</td>\n",
       "      <td>114.0</td>\n",
       "      <td>1.0</td>\n",
       "      <td>142.922447</td>\n",
       "      <td>1.517879</td>\n",
       "      <td>115.0</td>\n",
       "      <td>144.440327</td>\n",
       "      <td>...</td>\n",
       "      <td>90</td>\n",
       "      <td>500</td>\n",
       "      <td>120</td>\n",
       "      <td>-0.316646</td>\n",
       "      <td>6.710110</td>\n",
       "      <td>3.333333</td>\n",
       "      <td>1.5</td>\n",
       "      <td>7.637234</td>\n",
       "      <td>10K_to_20K</td>\n",
       "      <td>2.129722</td>\n",
       "    </tr>\n",
       "    <tr>\n",
       "      <th>3</th>\n",
       "      <td>10003</td>\n",
       "      <td>individual</td>\n",
       "      <td>8</td>\n",
       "      <td>1</td>\n",
       "      <td>125.0</td>\n",
       "      <td>26.0</td>\n",
       "      <td>227.445972</td>\n",
       "      <td>37.815528</td>\n",
       "      <td>151.0</td>\n",
       "      <td>265.261501</td>\n",
       "      <td>...</td>\n",
       "      <td>700</td>\n",
       "      <td>99</td>\n",
       "      <td>15</td>\n",
       "      <td>0.149529</td>\n",
       "      <td>1.753857</td>\n",
       "      <td>4.284286</td>\n",
       "      <td>4.0</td>\n",
       "      <td>19.110069</td>\n",
       "      <td>20K_to_30K</td>\n",
       "      <td>4.310525</td>\n",
       "    </tr>\n",
       "    <tr>\n",
       "      <th>4</th>\n",
       "      <td>10004</td>\n",
       "      <td>individual</td>\n",
       "      <td>6</td>\n",
       "      <td>1</td>\n",
       "      <td>51.0</td>\n",
       "      <td>126.0</td>\n",
       "      <td>69.485630</td>\n",
       "      <td>152.745394</td>\n",
       "      <td>177.0</td>\n",
       "      <td>222.231024</td>\n",
       "      <td>...</td>\n",
       "      <td>15</td>\n",
       "      <td>300</td>\n",
       "      <td>90</td>\n",
       "      <td>0.539949</td>\n",
       "      <td>1.878166</td>\n",
       "      <td>6.600000</td>\n",
       "      <td>0.5</td>\n",
       "      <td>111.684168</td>\n",
       "      <td>less_10K</td>\n",
       "      <td>-5.146369</td>\n",
       "    </tr>\n",
       "  </tbody>\n",
       "</table>\n",
       "<p>5 rows × 47 columns</p>\n",
       "</div>"
      ],
      "text/plain": [
       "   customer_id   ownership  activation_plan_code  mnp_flag  \\\n",
       "0        10000  individual                     4         1   \n",
       "1        10001  individual                     6         0   \n",
       "2        10002   corporate                     6         0   \n",
       "3        10003  individual                     8         1   \n",
       "4        10004  individual                     6         1   \n",
       "\n",
       "   calls_incoming_cnt  calls_outgoing_cnt  calls_incoming_duration  \\\n",
       "0                27.0                11.0                40.382315   \n",
       "1                 8.0               307.0                12.247104   \n",
       "2               114.0                 1.0               142.922447   \n",
       "3               125.0                26.0               227.445972   \n",
       "4                51.0               126.0                69.485630   \n",
       "\n",
       "   calls_outgoing_duration  total_call_count  total_sum_duration  ...  \\\n",
       "0                14.489126              38.0           54.871441  ...   \n",
       "1               350.255368             315.0          362.502472  ...   \n",
       "2                 1.517879             115.0          144.440327  ...   \n",
       "3                37.815528             151.0          265.261501  ...   \n",
       "4               152.745394             177.0          222.231024  ...   \n",
       "\n",
       "   current_active_plan_validity  last_cycle_plan_mrp  \\\n",
       "0                            28                   99   \n",
       "1                           365                  300   \n",
       "2                            90                  500   \n",
       "3                           700                   99   \n",
       "4                            15                  300   \n",
       "\n",
       "   last_cycle_plan_validity  avg_days_bw_rchg_and_expiry  \\\n",
       "0                        15                    -0.562420   \n",
       "1                        90                    -1.467173   \n",
       "2                       120                    -0.316646   \n",
       "3                        15                     0.149529   \n",
       "4                        90                     0.539949   \n",
       "\n",
       "   stddev_days_bw_rchg_and_expiry  price_per_day  gb_per_day_quota  \\\n",
       "0                        2.084082       4.571429               1.0   \n",
       "1                        1.718447       4.109589               3.0   \n",
       "2                        6.710110       3.333333               1.5   \n",
       "3                        1.753857       4.284286               4.0   \n",
       "4                        1.878166       6.600000               0.5   \n",
       "\n",
       "   pcnt_quota_used  device_avg_asp  recharge_delay  \n",
       "0         3.753949      30K_to_50K       -1.373103  \n",
       "1        16.575406       50K_above       -0.850781  \n",
       "2         7.637234      10K_to_20K        2.129722  \n",
       "3        19.110069      20K_to_30K        4.310525  \n",
       "4       111.684168        less_10K       -5.146369  \n",
       "\n",
       "[5 rows x 47 columns]"
      ]
     },
     "execution_count": 153,
     "metadata": {},
     "output_type": "execute_result"
    }
   ],
   "source": [
    "# importing data\n",
    "DATA_PATH = 'Akash+Deshwani.csv'\n",
    "df = pd.read_csv(DATA_PATH)\n",
    "\n",
    "# check first 5 entries\n",
    "df.head()"
   ]
  },
  {
   "cell_type": "markdown",
   "metadata": {},
   "source": [
    "### *Dataframe size and info*"
   ]
  },
  {
   "cell_type": "code",
   "execution_count": 154,
   "metadata": {},
   "outputs": [
    {
     "name": "stdout",
     "output_type": "stream",
     "text": [
      "Dataset dimensions \n",
      "# Attributes:  47 \n",
      "# Entries:  1000 \n",
      "\n"
     ]
    }
   ],
   "source": [
    "def get_df_size(df, header='Dataset dimensions'):\n",
    "  print(header,\n",
    "        '\\n# Attributes: ', df.shape[1], \n",
    "        '\\n# Entries: ', df.shape[0],'\\n')\n",
    "  \n",
    "get_df_size(df)"
   ]
  },
  {
   "cell_type": "markdown",
   "metadata": {},
   "source": [
    "### *Features and data types*"
   ]
  },
  {
   "cell_type": "code",
   "execution_count": 155,
   "metadata": {},
   "outputs": [
    {
     "name": "stdout",
     "output_type": "stream",
     "text": [
      "<class 'pandas.core.frame.DataFrame'>\n",
      "RangeIndex: 1000 entries, 0 to 999\n",
      "Data columns (total 47 columns):\n",
      " #   Column                             Non-Null Count  Dtype  \n",
      "---  ------                             --------------  -----  \n",
      " 0   customer_id                        1000 non-null   int64  \n",
      " 1   ownership                          1000 non-null   object \n",
      " 2   activation_plan_code               1000 non-null   int64  \n",
      " 3   mnp_flag                           1000 non-null   int64  \n",
      " 4   calls_incoming_cnt                 1000 non-null   float64\n",
      " 5   calls_outgoing_cnt                 1000 non-null   float64\n",
      " 6   calls_incoming_duration            1000 non-null   float64\n",
      " 7   calls_outgoing_duration            1000 non-null   float64\n",
      " 8   total_call_count                   1000 non-null   float64\n",
      " 9   total_sum_duration                 1000 non-null   float64\n",
      " 10  tot_usage_mb                       1000 non-null   float64\n",
      " 11  upload_usage_mb                    1000 non-null   float64\n",
      " 12  download_usage_mb                  1000 non-null   float64\n",
      " 13  days_since_latch                   1000 non-null   int64  \n",
      " 14  cnt_open_qrc                       1000 non-null   int64  \n",
      " 15  avg_days_to_close                  972 non-null    float64\n",
      " 16  cnt_call_drops                     1000 non-null   float64\n",
      " 17  pcnt_dropped_calls                 1000 non-null   float64\n",
      " 18  rsrp_voice_pcnt_poor_duration      1000 non-null   float64\n",
      " 19  rsrp_data_pcnt_poor_duration       1000 non-null   float64\n",
      " 20  mean_cqi_voice_pcnt_poor_duration  1000 non-null   float64\n",
      " 21  sinr_voice_pcnt_poor_duration      1000 non-null   float64\n",
      " 22  sinr_data_pcnt_poor_duration       1000 non-null   float64\n",
      " 23  age_on_network                     1000 non-null   int64  \n",
      " 24  cnt_connections                    1000 non-null   int64  \n",
      " 25  current_plan_code                  1000 non-null   int64  \n",
      " 26  cnt_recharges_made                 1000 non-null   int64  \n",
      " 27  total_payment_made                 1000 non-null   float64\n",
      " 28  cnt_main_plans_taken               1000 non-null   int64  \n",
      " 29  total_main_plans_mrp               1000 non-null   float64\n",
      " 30  cnt_addon_plans_taken              1000 non-null   int64  \n",
      " 31  total_addon_plans_mrp              1000 non-null   float64\n",
      " 32  cnt_rchg_offline                   1000 non-null   int64  \n",
      " 33  cnt_rchg_online                    1000 non-null   int64  \n",
      " 34  cnt_rchg_on_or_before_expiry       1000 non-null   float64\n",
      " 35  cnt_rchg_after_expiry              1000 non-null   float64\n",
      " 36  current_active_plan_mrp            1000 non-null   int64  \n",
      " 37  current_active_plan_validity       1000 non-null   int64  \n",
      " 38  last_cycle_plan_mrp                1000 non-null   int64  \n",
      " 39  last_cycle_plan_validity           1000 non-null   int64  \n",
      " 40  avg_days_bw_rchg_and_expiry        1000 non-null   float64\n",
      " 41  stddev_days_bw_rchg_and_expiry     1000 non-null   float64\n",
      " 42  price_per_day                      1000 non-null   float64\n",
      " 43  gb_per_day_quota                   1000 non-null   float64\n",
      " 44  pcnt_quota_used                    1000 non-null   float64\n",
      " 45  device_avg_asp                     1000 non-null   object \n",
      " 46  recharge_delay                     1000 non-null   float64\n",
      "dtypes: float64(28), int64(17), object(2)\n",
      "memory usage: 367.3+ KB\n"
     ]
    }
   ],
   "source": [
    "df.info()"
   ]
  },
  {
   "cell_type": "markdown",
   "metadata": {},
   "source": [
    "## Exploratory Analysis"
   ]
  },
  {
   "cell_type": "markdown",
   "metadata": {},
   "source": [
    "### Checking missing values\n",
    "\n",
    "Before checking the missing values, we are going to replace all the blank spaces ocurreces that this dataset might have."
   ]
  },
  {
   "cell_type": "code",
   "execution_count": 156,
   "metadata": {},
   "outputs": [
    {
     "name": "stdout",
     "output_type": "stream",
     "text": [
      "Missing values (per feature): \n",
      "customer_id                           0\n",
      "ownership                             0\n",
      "activation_plan_code                  0\n",
      "mnp_flag                              0\n",
      "calls_incoming_cnt                    0\n",
      "calls_outgoing_cnt                    0\n",
      "calls_incoming_duration               0\n",
      "calls_outgoing_duration               0\n",
      "total_call_count                      0\n",
      "total_sum_duration                    0\n",
      "tot_usage_mb                          0\n",
      "upload_usage_mb                       0\n",
      "download_usage_mb                     0\n",
      "days_since_latch                      0\n",
      "cnt_open_qrc                          0\n",
      "avg_days_to_close                    28\n",
      "cnt_call_drops                        0\n",
      "pcnt_dropped_calls                    0\n",
      "rsrp_voice_pcnt_poor_duration         0\n",
      "rsrp_data_pcnt_poor_duration          0\n",
      "mean_cqi_voice_pcnt_poor_duration     0\n",
      "sinr_voice_pcnt_poor_duration         0\n",
      "sinr_data_pcnt_poor_duration          0\n",
      "age_on_network                        0\n",
      "cnt_connections                       0\n",
      "current_plan_code                     0\n",
      "cnt_recharges_made                    0\n",
      "total_payment_made                    0\n",
      "cnt_main_plans_taken                  0\n",
      "total_main_plans_mrp                  0\n",
      "cnt_addon_plans_taken                 0\n",
      "total_addon_plans_mrp                 0\n",
      "cnt_rchg_offline                      0\n",
      "cnt_rchg_online                       0\n",
      "cnt_rchg_on_or_before_expiry          0\n",
      "cnt_rchg_after_expiry                 0\n",
      "current_active_plan_mrp               0\n",
      "current_active_plan_validity          0\n",
      "last_cycle_plan_mrp                   0\n",
      "last_cycle_plan_validity              0\n",
      "avg_days_bw_rchg_and_expiry           0\n",
      "stddev_days_bw_rchg_and_expiry        0\n",
      "price_per_day                         0\n",
      "gb_per_day_quota                      0\n",
      "pcnt_quota_used                       0\n",
      "device_avg_asp                        0\n",
      "recharge_delay                        0\n",
      "dtype: int64\n",
      "\n"
     ]
    }
   ],
   "source": [
    "# replacing all the blank values with NaN \n",
    "df_clean = df.replace(r'^\\s*$', np.nan, regex=True)\n",
    "\n",
    "# print missing values\n",
    "print(\"Missing values (per feature): \\n{}\\n\".format(df_clean.isnull().sum()))"
   ]
  },
  {
   "cell_type": "markdown",
   "metadata": {},
   "source": [
    "After that we can see that feature `Avg_days_to_close` has 28 missing values. We are going to replace these missing values by the `Avg_days_to_close` median."
   ]
  },
  {
   "cell_type": "code",
   "execution_count": 157,
   "metadata": {},
   "outputs": [],
   "source": [
    "avg_days_to_close_median = df_clean.avg_days_to_close.median()\n",
    "df_clean['avg_days_to_close'].fillna(avg_days_to_close_median, inplace=True)"
   ]
  },
  {
   "cell_type": "markdown",
   "metadata": {},
   "source": [
    "### Converting data types\n",
    "\n",
    "While importing dataset, Pandas read the column `avg_days_to_close` as object because it had some entries populated with blank spaces instead of `NaN` value. For the analysis we will convert datatype of this feature from `object` to `float64`."
   ]
  },
  {
   "cell_type": "code",
   "execution_count": 158,
   "metadata": {},
   "outputs": [],
   "source": [
    "df_clean['avg_days_to_close'] = df_clean['avg_days_to_close'].apply(pd.to_numeric)"
   ]
  },
  {
   "cell_type": "code",
   "execution_count": 159,
   "metadata": {},
   "outputs": [
    {
     "name": "stdout",
     "output_type": "stream",
     "text": [
      "Missing values (per feature): \n",
      "customer_id                          0\n",
      "ownership                            0\n",
      "activation_plan_code                 0\n",
      "mnp_flag                             0\n",
      "calls_incoming_cnt                   0\n",
      "calls_outgoing_cnt                   0\n",
      "calls_incoming_duration              0\n",
      "calls_outgoing_duration              0\n",
      "total_call_count                     0\n",
      "total_sum_duration                   0\n",
      "tot_usage_mb                         0\n",
      "upload_usage_mb                      0\n",
      "download_usage_mb                    0\n",
      "days_since_latch                     0\n",
      "cnt_open_qrc                         0\n",
      "avg_days_to_close                    0\n",
      "cnt_call_drops                       0\n",
      "pcnt_dropped_calls                   0\n",
      "rsrp_voice_pcnt_poor_duration        0\n",
      "rsrp_data_pcnt_poor_duration         0\n",
      "mean_cqi_voice_pcnt_poor_duration    0\n",
      "sinr_voice_pcnt_poor_duration        0\n",
      "sinr_data_pcnt_poor_duration         0\n",
      "age_on_network                       0\n",
      "cnt_connections                      0\n",
      "current_plan_code                    0\n",
      "cnt_recharges_made                   0\n",
      "total_payment_made                   0\n",
      "cnt_main_plans_taken                 0\n",
      "total_main_plans_mrp                 0\n",
      "cnt_addon_plans_taken                0\n",
      "total_addon_plans_mrp                0\n",
      "cnt_rchg_offline                     0\n",
      "cnt_rchg_online                      0\n",
      "cnt_rchg_on_or_before_expiry         0\n",
      "cnt_rchg_after_expiry                0\n",
      "current_active_plan_mrp              0\n",
      "current_active_plan_validity         0\n",
      "last_cycle_plan_mrp                  0\n",
      "last_cycle_plan_validity             0\n",
      "avg_days_bw_rchg_and_expiry          0\n",
      "stddev_days_bw_rchg_and_expiry       0\n",
      "price_per_day                        0\n",
      "gb_per_day_quota                     0\n",
      "pcnt_quota_used                      0\n",
      "device_avg_asp                       0\n",
      "recharge_delay                       0\n",
      "dtype: int64\n",
      "\n"
     ]
    }
   ],
   "source": [
    "# Check again for missing values\n",
    "print(\"Missing values (per feature): \\n{}\\n\".format(df_clean.isnull().sum()))"
   ]
  },
  {
   "cell_type": "markdown",
   "metadata": {},
   "source": [
    "#### Removing Unique Values from the Dataset"
   ]
  },
  {
   "cell_type": "code",
   "execution_count": 160,
   "metadata": {},
   "outputs": [
    {
     "data": {
      "text/plain": [
       "ownership                             object\n",
       "activation_plan_code                   int64\n",
       "mnp_flag                               int64\n",
       "calls_incoming_cnt                   float64\n",
       "calls_outgoing_cnt                   float64\n",
       "calls_incoming_duration              float64\n",
       "calls_outgoing_duration              float64\n",
       "total_call_count                     float64\n",
       "total_sum_duration                   float64\n",
       "tot_usage_mb                         float64\n",
       "upload_usage_mb                      float64\n",
       "download_usage_mb                    float64\n",
       "days_since_latch                       int64\n",
       "cnt_open_qrc                           int64\n",
       "avg_days_to_close                    float64\n",
       "cnt_call_drops                       float64\n",
       "pcnt_dropped_calls                   float64\n",
       "rsrp_voice_pcnt_poor_duration        float64\n",
       "rsrp_data_pcnt_poor_duration         float64\n",
       "mean_cqi_voice_pcnt_poor_duration    float64\n",
       "sinr_voice_pcnt_poor_duration        float64\n",
       "sinr_data_pcnt_poor_duration         float64\n",
       "age_on_network                         int64\n",
       "cnt_connections                        int64\n",
       "current_plan_code                      int64\n",
       "cnt_recharges_made                     int64\n",
       "total_payment_made                   float64\n",
       "cnt_main_plans_taken                   int64\n",
       "total_main_plans_mrp                 float64\n",
       "cnt_addon_plans_taken                  int64\n",
       "total_addon_plans_mrp                float64\n",
       "cnt_rchg_offline                       int64\n",
       "cnt_rchg_online                        int64\n",
       "cnt_rchg_on_or_before_expiry         float64\n",
       "cnt_rchg_after_expiry                float64\n",
       "current_active_plan_mrp                int64\n",
       "current_active_plan_validity           int64\n",
       "last_cycle_plan_mrp                    int64\n",
       "last_cycle_plan_validity               int64\n",
       "avg_days_bw_rchg_and_expiry          float64\n",
       "stddev_days_bw_rchg_and_expiry       float64\n",
       "price_per_day                        float64\n",
       "gb_per_day_quota                     float64\n",
       "pcnt_quota_used                      float64\n",
       "device_avg_asp                        object\n",
       "recharge_delay                       float64\n",
       "dtype: object"
      ]
     },
     "execution_count": 160,
     "metadata": {},
     "output_type": "execute_result"
    }
   ],
   "source": [
    "df_clean.drop('customer_id',axis='columns',inplace=True)\n",
    "df_clean.dtypes"
   ]
  },
  {
   "cell_type": "markdown",
   "metadata": {},
   "source": [
    "### Converting object to numeric"
   ]
  },
  {
   "cell_type": "code",
   "execution_count": 161,
   "metadata": {},
   "outputs": [],
   "source": [
    "def print_unique_col_values(df_clean):\n",
    "       for column in df_clean:\n",
    "            if df_clean[column].dtypes=='object':\n",
    "                print(f'{column}: {df_clean[column].unique()}')"
   ]
  },
  {
   "cell_type": "code",
   "execution_count": 162,
   "metadata": {},
   "outputs": [
    {
     "name": "stdout",
     "output_type": "stream",
     "text": [
      "ownership: ['individual' 'corporate']\n",
      "device_avg_asp: ['30K_to_50K' '50K_above' '10K_to_20K' '20K_to_30K' 'less_10K']\n"
     ]
    }
   ],
   "source": [
    "print_unique_col_values(df_clean)\n",
    "# thus we are printing Unique values all the categorical columns"
   ]
  },
  {
   "cell_type": "code",
   "execution_count": 163,
   "metadata": {},
   "outputs": [],
   "source": [
    "df_clean['ownership'].replace({'individual': 1,'corporate': 0},inplace=True)\n",
    "\n",
    "# ownership -> 1 for individual and 0 for corporate"
   ]
  },
  {
   "cell_type": "code",
   "execution_count": 164,
   "metadata": {},
   "outputs": [
    {
     "data": {
      "text/html": [
       "<div>\n",
       "<style scoped>\n",
       "    .dataframe tbody tr th:only-of-type {\n",
       "        vertical-align: middle;\n",
       "    }\n",
       "\n",
       "    .dataframe tbody tr th {\n",
       "        vertical-align: top;\n",
       "    }\n",
       "\n",
       "    .dataframe thead th {\n",
       "        text-align: right;\n",
       "    }\n",
       "</style>\n",
       "<table border=\"1\" class=\"dataframe\">\n",
       "  <thead>\n",
       "    <tr style=\"text-align: right;\">\n",
       "      <th>col_0</th>\n",
       "      <th>count</th>\n",
       "    </tr>\n",
       "    <tr>\n",
       "      <th>device_avg_asp</th>\n",
       "      <th></th>\n",
       "    </tr>\n",
       "  </thead>\n",
       "  <tbody>\n",
       "    <tr>\n",
       "      <th>10K_to_20K</th>\n",
       "      <td>194</td>\n",
       "    </tr>\n",
       "    <tr>\n",
       "      <th>20K_to_30K</th>\n",
       "      <td>214</td>\n",
       "    </tr>\n",
       "    <tr>\n",
       "      <th>30K_to_50K</th>\n",
       "      <td>207</td>\n",
       "    </tr>\n",
       "    <tr>\n",
       "      <th>50K_above</th>\n",
       "      <td>175</td>\n",
       "    </tr>\n",
       "    <tr>\n",
       "      <th>less_10K</th>\n",
       "      <td>210</td>\n",
       "    </tr>\n",
       "  </tbody>\n",
       "</table>\n",
       "</div>"
      ],
      "text/plain": [
       "col_0           count\n",
       "device_avg_asp       \n",
       "10K_to_20K        194\n",
       "20K_to_30K        214\n",
       "30K_to_50K        207\n",
       "50K_above         175\n",
       "less_10K          210"
      ]
     },
     "execution_count": 164,
     "metadata": {},
     "output_type": "execute_result"
    }
   ],
   "source": [
    "pd.crosstab(index=df_clean['device_avg_asp'], columns='count')"
   ]
  },
  {
   "cell_type": "code",
   "execution_count": 165,
   "metadata": {},
   "outputs": [],
   "source": [
    "df_clean['device_avg_asp'].replace({'less_10K': 1,'10K_to_20K': 2,'20K_to_30K':3,'30K_to_50K':4,'50K_above':5},inplace=True)\n",
    "# device_avg_asp -> 1 for less_10K, 2 for 10K_to_20K, 3 for 20K_to_30K, 4 for 30K_to_50K, 5 for 50K_above"
   ]
  },
  {
   "cell_type": "code",
   "execution_count": 166,
   "metadata": {},
   "outputs": [],
   "source": [
    "#checking again for missing values\n",
    "print_unique_col_values(df_clean)"
   ]
  },
  {
   "cell_type": "code",
   "execution_count": 167,
   "metadata": {},
   "outputs": [
    {
     "data": {
      "text/plain": [
       "ownership                              int64\n",
       "activation_plan_code                   int64\n",
       "mnp_flag                               int64\n",
       "calls_incoming_cnt                   float64\n",
       "calls_outgoing_cnt                   float64\n",
       "calls_incoming_duration              float64\n",
       "calls_outgoing_duration              float64\n",
       "total_call_count                     float64\n",
       "total_sum_duration                   float64\n",
       "tot_usage_mb                         float64\n",
       "upload_usage_mb                      float64\n",
       "download_usage_mb                    float64\n",
       "days_since_latch                       int64\n",
       "cnt_open_qrc                           int64\n",
       "avg_days_to_close                    float64\n",
       "cnt_call_drops                       float64\n",
       "pcnt_dropped_calls                   float64\n",
       "rsrp_voice_pcnt_poor_duration        float64\n",
       "rsrp_data_pcnt_poor_duration         float64\n",
       "mean_cqi_voice_pcnt_poor_duration    float64\n",
       "sinr_voice_pcnt_poor_duration        float64\n",
       "sinr_data_pcnt_poor_duration         float64\n",
       "age_on_network                         int64\n",
       "cnt_connections                        int64\n",
       "current_plan_code                      int64\n",
       "cnt_recharges_made                     int64\n",
       "total_payment_made                   float64\n",
       "cnt_main_plans_taken                   int64\n",
       "total_main_plans_mrp                 float64\n",
       "cnt_addon_plans_taken                  int64\n",
       "total_addon_plans_mrp                float64\n",
       "cnt_rchg_offline                       int64\n",
       "cnt_rchg_online                        int64\n",
       "cnt_rchg_on_or_before_expiry         float64\n",
       "cnt_rchg_after_expiry                float64\n",
       "current_active_plan_mrp                int64\n",
       "current_active_plan_validity           int64\n",
       "last_cycle_plan_mrp                    int64\n",
       "last_cycle_plan_validity               int64\n",
       "avg_days_bw_rchg_and_expiry          float64\n",
       "stddev_days_bw_rchg_and_expiry       float64\n",
       "price_per_day                        float64\n",
       "gb_per_day_quota                     float64\n",
       "pcnt_quota_used                      float64\n",
       "device_avg_asp                         int64\n",
       "recharge_delay                       float64\n",
       "dtype: object"
      ]
     },
     "execution_count": 167,
     "metadata": {},
     "output_type": "execute_result"
    }
   ],
   "source": [
    "#Now all the categorical columns are converted to numerical values\n",
    "df_clean.dtypes"
   ]
  },
  {
   "cell_type": "code",
   "execution_count": 116,
   "metadata": {},
   "outputs": [
    {
     "data": {
      "text/html": [
       "<div>\n",
       "<style scoped>\n",
       "    .dataframe tbody tr th:only-of-type {\n",
       "        vertical-align: middle;\n",
       "    }\n",
       "\n",
       "    .dataframe tbody tr th {\n",
       "        vertical-align: top;\n",
       "    }\n",
       "\n",
       "    .dataframe thead th {\n",
       "        text-align: right;\n",
       "    }\n",
       "</style>\n",
       "<table border=\"1\" class=\"dataframe\">\n",
       "  <thead>\n",
       "    <tr style=\"text-align: right;\">\n",
       "      <th></th>\n",
       "      <th>ownership</th>\n",
       "      <th>activation_plan_code</th>\n",
       "      <th>mnp_flag</th>\n",
       "      <th>calls_incoming_cnt</th>\n",
       "      <th>calls_outgoing_cnt</th>\n",
       "      <th>calls_incoming_duration</th>\n",
       "      <th>calls_outgoing_duration</th>\n",
       "      <th>total_call_count</th>\n",
       "      <th>total_sum_duration</th>\n",
       "      <th>tot_usage_mb</th>\n",
       "      <th>...</th>\n",
       "      <th>current_active_plan_validity</th>\n",
       "      <th>last_cycle_plan_mrp</th>\n",
       "      <th>last_cycle_plan_validity</th>\n",
       "      <th>avg_days_bw_rchg_and_expiry</th>\n",
       "      <th>stddev_days_bw_rchg_and_expiry</th>\n",
       "      <th>price_per_day</th>\n",
       "      <th>gb_per_day_quota</th>\n",
       "      <th>pcnt_quota_used</th>\n",
       "      <th>device_avg_asp</th>\n",
       "      <th>recharge_delay</th>\n",
       "    </tr>\n",
       "  </thead>\n",
       "  <tbody>\n",
       "    <tr>\n",
       "      <th>0</th>\n",
       "      <td>1</td>\n",
       "      <td>4</td>\n",
       "      <td>1</td>\n",
       "      <td>27.0</td>\n",
       "      <td>11.0</td>\n",
       "      <td>40.382315</td>\n",
       "      <td>14.489126</td>\n",
       "      <td>38.0</td>\n",
       "      <td>54.871441</td>\n",
       "      <td>1153.213066</td>\n",
       "      <td>...</td>\n",
       "      <td>28</td>\n",
       "      <td>99</td>\n",
       "      <td>15</td>\n",
       "      <td>-0.562420</td>\n",
       "      <td>2.084082</td>\n",
       "      <td>4.571429</td>\n",
       "      <td>1.0</td>\n",
       "      <td>3.753949</td>\n",
       "      <td>4</td>\n",
       "      <td>-1.373103</td>\n",
       "    </tr>\n",
       "    <tr>\n",
       "      <th>1</th>\n",
       "      <td>1</td>\n",
       "      <td>6</td>\n",
       "      <td>0</td>\n",
       "      <td>8.0</td>\n",
       "      <td>307.0</td>\n",
       "      <td>12.247104</td>\n",
       "      <td>350.255368</td>\n",
       "      <td>315.0</td>\n",
       "      <td>362.502472</td>\n",
       "      <td>15275.894108</td>\n",
       "      <td>...</td>\n",
       "      <td>365</td>\n",
       "      <td>300</td>\n",
       "      <td>90</td>\n",
       "      <td>-1.467173</td>\n",
       "      <td>1.718447</td>\n",
       "      <td>4.109589</td>\n",
       "      <td>3.0</td>\n",
       "      <td>16.575406</td>\n",
       "      <td>5</td>\n",
       "      <td>-0.850781</td>\n",
       "    </tr>\n",
       "    <tr>\n",
       "      <th>2</th>\n",
       "      <td>0</td>\n",
       "      <td>6</td>\n",
       "      <td>0</td>\n",
       "      <td>114.0</td>\n",
       "      <td>1.0</td>\n",
       "      <td>142.922447</td>\n",
       "      <td>1.517879</td>\n",
       "      <td>115.0</td>\n",
       "      <td>144.440327</td>\n",
       "      <td>3519.237248</td>\n",
       "      <td>...</td>\n",
       "      <td>90</td>\n",
       "      <td>500</td>\n",
       "      <td>120</td>\n",
       "      <td>-0.316646</td>\n",
       "      <td>6.710110</td>\n",
       "      <td>3.333333</td>\n",
       "      <td>1.5</td>\n",
       "      <td>7.637234</td>\n",
       "      <td>2</td>\n",
       "      <td>2.129722</td>\n",
       "    </tr>\n",
       "    <tr>\n",
       "      <th>3</th>\n",
       "      <td>1</td>\n",
       "      <td>8</td>\n",
       "      <td>1</td>\n",
       "      <td>125.0</td>\n",
       "      <td>26.0</td>\n",
       "      <td>227.445972</td>\n",
       "      <td>37.815528</td>\n",
       "      <td>151.0</td>\n",
       "      <td>265.261501</td>\n",
       "      <td>23482.452519</td>\n",
       "      <td>...</td>\n",
       "      <td>700</td>\n",
       "      <td>99</td>\n",
       "      <td>15</td>\n",
       "      <td>0.149529</td>\n",
       "      <td>1.753857</td>\n",
       "      <td>4.284286</td>\n",
       "      <td>4.0</td>\n",
       "      <td>19.110069</td>\n",
       "      <td>3</td>\n",
       "      <td>4.310525</td>\n",
       "    </tr>\n",
       "    <tr>\n",
       "      <th>4</th>\n",
       "      <td>1</td>\n",
       "      <td>6</td>\n",
       "      <td>1</td>\n",
       "      <td>51.0</td>\n",
       "      <td>126.0</td>\n",
       "      <td>69.485630</td>\n",
       "      <td>152.745394</td>\n",
       "      <td>177.0</td>\n",
       "      <td>222.231024</td>\n",
       "      <td>17154.688281</td>\n",
       "      <td>...</td>\n",
       "      <td>15</td>\n",
       "      <td>300</td>\n",
       "      <td>90</td>\n",
       "      <td>0.539949</td>\n",
       "      <td>1.878166</td>\n",
       "      <td>6.600000</td>\n",
       "      <td>0.5</td>\n",
       "      <td>111.684168</td>\n",
       "      <td>1</td>\n",
       "      <td>-5.146369</td>\n",
       "    </tr>\n",
       "  </tbody>\n",
       "</table>\n",
       "<p>5 rows × 46 columns</p>\n",
       "</div>"
      ],
      "text/plain": [
       "   ownership  activation_plan_code  mnp_flag  calls_incoming_cnt  \\\n",
       "0          1                     4         1                27.0   \n",
       "1          1                     6         0                 8.0   \n",
       "2          0                     6         0               114.0   \n",
       "3          1                     8         1               125.0   \n",
       "4          1                     6         1                51.0   \n",
       "\n",
       "   calls_outgoing_cnt  calls_incoming_duration  calls_outgoing_duration  \\\n",
       "0                11.0                40.382315                14.489126   \n",
       "1               307.0                12.247104               350.255368   \n",
       "2                 1.0               142.922447                 1.517879   \n",
       "3                26.0               227.445972                37.815528   \n",
       "4               126.0                69.485630               152.745394   \n",
       "\n",
       "   total_call_count  total_sum_duration  tot_usage_mb  ...  \\\n",
       "0              38.0           54.871441   1153.213066  ...   \n",
       "1             315.0          362.502472  15275.894108  ...   \n",
       "2             115.0          144.440327   3519.237248  ...   \n",
       "3             151.0          265.261501  23482.452519  ...   \n",
       "4             177.0          222.231024  17154.688281  ...   \n",
       "\n",
       "   current_active_plan_validity  last_cycle_plan_mrp  \\\n",
       "0                            28                   99   \n",
       "1                           365                  300   \n",
       "2                            90                  500   \n",
       "3                           700                   99   \n",
       "4                            15                  300   \n",
       "\n",
       "   last_cycle_plan_validity  avg_days_bw_rchg_and_expiry  \\\n",
       "0                        15                    -0.562420   \n",
       "1                        90                    -1.467173   \n",
       "2                       120                    -0.316646   \n",
       "3                        15                     0.149529   \n",
       "4                        90                     0.539949   \n",
       "\n",
       "   stddev_days_bw_rchg_and_expiry  price_per_day  gb_per_day_quota  \\\n",
       "0                        2.084082       4.571429               1.0   \n",
       "1                        1.718447       4.109589               3.0   \n",
       "2                        6.710110       3.333333               1.5   \n",
       "3                        1.753857       4.284286               4.0   \n",
       "4                        1.878166       6.600000               0.5   \n",
       "\n",
       "   pcnt_quota_used  device_avg_asp  recharge_delay  \n",
       "0         3.753949               4       -1.373103  \n",
       "1        16.575406               5       -0.850781  \n",
       "2         7.637234               2        2.129722  \n",
       "3        19.110069               3        4.310525  \n",
       "4       111.684168               1       -5.146369  \n",
       "\n",
       "[5 rows x 46 columns]"
      ]
     },
     "execution_count": 116,
     "metadata": {},
     "output_type": "execute_result"
    }
   ],
   "source": [
    "#check first 5 entries\n",
    "df_clean.head()"
   ]
  },
  {
   "cell_type": "markdown",
   "metadata": {},
   "source": [
    "#### Question 1 (15 points)\n",
    "Churn rate is a measure of the number of customers who leave a company during a\n",
    "given period. Changes in a business's churn rate can provide valuable insights into an\n",
    "organization. Based on the recharge delay and business priorities, the AI&DS team is\n",
    "interested in marking some of its customers as churned customers. To that purpose:\n"
   ]
  },
  {
   "cell_type": "markdown",
   "metadata": {},
   "source": [
    "\n",
    "We do have have recharge delay for historical data that can be categoried as potential churned customers. let plot that recharge delay histogram with current avg_days_bw_rchg_and_expiry. {Average of days between recharge and expiry. This can be negative (if a customer recharges before expiry on average) or positive (if a customer recharges after expiry on average)}"
   ]
  },
  {
   "cell_type": "code",
   "execution_count": 117,
   "metadata": {},
   "outputs": [
    {
     "name": "stdout",
     "output_type": "stream",
     "text": [
      "(1000, 46)\n",
      "(499, 46)\n"
     ]
    }
   ],
   "source": [
    "recharge_delay_df = df_clean[df_clean['recharge_delay']>= 0]\n",
    "print(df_clean.shape)\n",
    "print(recharge_delay_df.shape)"
   ]
  },
  {
   "cell_type": "code",
   "execution_count": 118,
   "metadata": {},
   "outputs": [],
   "source": [
    "# recharge_delay_1 = df_clean['recharge_delay'] \n",
    "# plt.xlabel(\"Recharge Delay\")\n",
    "# plt.ylabel(\"Number Of Customers\")\n",
    "# plt.title(\"Historical Customer Churn Visualiztion\")\n",
    "# plt.hist(recharge_delay_1, color = 'red', edgecolor = 'black', bins=10, label='recharge_delay')\n",
    "# plt.legend()"
   ]
  },
  {
   "cell_type": "code",
   "execution_count": 119,
   "metadata": {},
   "outputs": [
    {
     "data": {
      "text/plain": [
       "<matplotlib.legend.Legend at 0x280acaafb80>"
      ]
     },
     "execution_count": 119,
     "metadata": {},
     "output_type": "execute_result"
    },
    {
     "data": {
      "image/png": "[encoded data removed]",
      "text/plain": [
       "<Figure size 640x480 with 1 Axes>"
      ]
     },
     "metadata": {},
     "output_type": "display_data"
    }
   ],
   "source": [
    "recharge_delay_1 = df_clean['recharge_delay'] \n",
    "plt.xlabel(\"Recharge Delay\")\n",
    "plt.ylabel(\"Number Of Customers\")\n",
    "plt.title(\"Historical Customer Churn Visualiztion\")\n",
    "binwidth = 1\n",
    "plt.hist(recharge_delay_1, color = 'red', edgecolor = 'black', bins=range(int(min(recharge_delay_1)), int(max(recharge_delay_1)) + binwidth, binwidth), label='recharge_delay')\n",
    "plt.legend()"
   ]
  },
  {
   "cell_type": "markdown",
   "metadata": {},
   "source": [
    "As we can see from the histogram, the recharge delay is more than 30 days for some customers and few customers have recharge before date of expire before 40 days. So we can categorize those customers who's have recharge delay more than 30 days as historical potential churn customers. (thus we take only >= 0 values for recharge delay)"
   ]
  },
  {
   "cell_type": "code",
   "execution_count": 120,
   "metadata": {},
   "outputs": [
    {
     "data": {
      "text/plain": [
       "<matplotlib.legend.Legend at 0x280b188c970>"
      ]
     },
     "execution_count": 120,
     "metadata": {},
     "output_type": "execute_result"
    },
    {
     "data": {
      "image/png": "[encoded data removed]",
      "text/plain": [
       "<Figure size 640x480 with 1 Axes>"
      ]
     },
     "metadata": {},
     "output_type": "display_data"
    }
   ],
   "source": [
    "recharge_delay = recharge_delay_df['recharge_delay'] \n",
    "plt.xlabel(\"Recharge Delay\")\n",
    "plt.ylabel(\"Number Of Customers\")\n",
    "plt.title(\"Historical Customer Churn Visualiztion\")\n",
    "plt.hist(recharge_delay, color = 'red', edgecolor = 'black', bins = 50, label='recharge_delay')\n",
    "plt.legend()"
   ]
  },
  {
   "cell_type": "code",
   "execution_count": 121,
   "metadata": {},
   "outputs": [
    {
     "data": {
      "text/plain": [
       "<AxesSubplot:xlabel='recharge_delay', ylabel='Count'>"
      ]
     },
     "execution_count": 121,
     "metadata": {},
     "output_type": "execute_result"
    },
    {
     "data": {
      "image/png": "[encoded data removed]",
      "text/plain": [
       "<Figure size 640x480 with 1 Axes>"
      ]
     },
     "metadata": {},
     "output_type": "display_data"
    }
   ],
   "source": [
    "sns.histplot(data=recharge_delay_df, x=\"recharge_delay\", bins=50, kde = True,color = 'red', edgecolor = 'black')"
   ]
  },
  {
   "cell_type": "markdown",
   "metadata": {},
   "source": [
    "Exploratory Data Analysis: Let’s try to explore and visualize our data set by doing distribution of variables to better understand the patterns in the data and to potentially form some hypothesis."
   ]
  },
  {
   "cell_type": "markdown",
   "metadata": {},
   "source": [
    "To check what is the relation of recharge delay with dataset, we can use the following code: to generate heatmap of correlation between features."
   ]
  },
  {
   "cell_type": "code",
   "execution_count": 122,
   "metadata": {},
   "outputs": [
    {
     "data": {
      "text/html": [
       "<div>\n",
       "<style scoped>\n",
       "    .dataframe tbody tr th:only-of-type {\n",
       "        vertical-align: middle;\n",
       "    }\n",
       "\n",
       "    .dataframe tbody tr th {\n",
       "        vertical-align: top;\n",
       "    }\n",
       "\n",
       "    .dataframe thead th {\n",
       "        text-align: right;\n",
       "    }\n",
       "</style>\n",
       "<table border=\"1\" class=\"dataframe\">\n",
       "  <thead>\n",
       "    <tr style=\"text-align: right;\">\n",
       "      <th></th>\n",
       "      <th>ownership</th>\n",
       "      <th>activation_plan_code</th>\n",
       "      <th>mnp_flag</th>\n",
       "      <th>calls_incoming_cnt</th>\n",
       "      <th>calls_outgoing_cnt</th>\n",
       "      <th>calls_incoming_duration</th>\n",
       "      <th>calls_outgoing_duration</th>\n",
       "      <th>total_call_count</th>\n",
       "      <th>total_sum_duration</th>\n",
       "      <th>tot_usage_mb</th>\n",
       "      <th>...</th>\n",
       "      <th>current_active_plan_validity</th>\n",
       "      <th>last_cycle_plan_mrp</th>\n",
       "      <th>last_cycle_plan_validity</th>\n",
       "      <th>avg_days_bw_rchg_and_expiry</th>\n",
       "      <th>stddev_days_bw_rchg_and_expiry</th>\n",
       "      <th>price_per_day</th>\n",
       "      <th>gb_per_day_quota</th>\n",
       "      <th>pcnt_quota_used</th>\n",
       "      <th>device_avg_asp</th>\n",
       "      <th>recharge_delay</th>\n",
       "    </tr>\n",
       "  </thead>\n",
       "  <tbody>\n",
       "    <tr>\n",
       "      <th>count</th>\n",
       "      <td>1000.00000</td>\n",
       "      <td>1000.000000</td>\n",
       "      <td>1000.000000</td>\n",
       "      <td>1000.000000</td>\n",
       "      <td>1000.000000</td>\n",
       "      <td>1000.000000</td>\n",
       "      <td>1000.000000</td>\n",
       "      <td>1000.00000</td>\n",
       "      <td>1000.000000</td>\n",
       "      <td>1000.000000</td>\n",
       "      <td>...</td>\n",
       "      <td>1000.000000</td>\n",
       "      <td>1000.000000</td>\n",
       "      <td>1000.000000</td>\n",
       "      <td>1000.000000</td>\n",
       "      <td>1000.000000</td>\n",
       "      <td>1000.000000</td>\n",
       "      <td>1000.000000</td>\n",
       "      <td>1000.000000</td>\n",
       "      <td>1000.000000</td>\n",
       "      <td>1.000000e+03</td>\n",
       "    </tr>\n",
       "    <tr>\n",
       "      <th>mean</th>\n",
       "      <td>0.70800</td>\n",
       "      <td>5.453000</td>\n",
       "      <td>0.206000</td>\n",
       "      <td>58.826000</td>\n",
       "      <td>57.647000</td>\n",
       "      <td>88.433230</td>\n",
       "      <td>84.983287</td>\n",
       "      <td>116.47300</td>\n",
       "      <td>173.416517</td>\n",
       "      <td>11617.013688</td>\n",
       "      <td>...</td>\n",
       "      <td>213.124000</td>\n",
       "      <td>929.161000</td>\n",
       "      <td>214.072000</td>\n",
       "      <td>-0.060285</td>\n",
       "      <td>2.972423</td>\n",
       "      <td>4.622445</td>\n",
       "      <td>2.148500</td>\n",
       "      <td>26.408369</td>\n",
       "      <td>2.943000</td>\n",
       "      <td>1.051603e-15</td>\n",
       "    </tr>\n",
       "    <tr>\n",
       "      <th>std</th>\n",
       "      <td>0.45491</td>\n",
       "      <td>2.820593</td>\n",
       "      <td>0.404633</td>\n",
       "      <td>57.843631</td>\n",
       "      <td>58.548701</td>\n",
       "      <td>91.711854</td>\n",
       "      <td>90.769556</td>\n",
       "      <td>81.16284</td>\n",
       "      <td>128.375227</td>\n",
       "      <td>9800.261450</td>\n",
       "      <td>...</td>\n",
       "      <td>225.644051</td>\n",
       "      <td>976.514026</td>\n",
       "      <td>228.371185</td>\n",
       "      <td>2.813097</td>\n",
       "      <td>2.963804</td>\n",
       "      <td>0.993568</td>\n",
       "      <td>1.144993</td>\n",
       "      <td>34.746969</td>\n",
       "      <td>1.392728</td>\n",
       "      <td>8.524193e+00</td>\n",
       "    </tr>\n",
       "    <tr>\n",
       "      <th>min</th>\n",
       "      <td>0.00000</td>\n",
       "      <td>1.000000</td>\n",
       "      <td>0.000000</td>\n",
       "      <td>0.000000</td>\n",
       "      <td>0.000000</td>\n",
       "      <td>0.000000</td>\n",
       "      <td>0.000000</td>\n",
       "      <td>1.00000</td>\n",
       "      <td>1.497667</td>\n",
       "      <td>59.573486</td>\n",
       "      <td>...</td>\n",
       "      <td>15.000000</td>\n",
       "      <td>99.000000</td>\n",
       "      <td>15.000000</td>\n",
       "      <td>-10.789307</td>\n",
       "      <td>0.003019</td>\n",
       "      <td>3.333333</td>\n",
       "      <td>0.500000</td>\n",
       "      <td>0.226984</td>\n",
       "      <td>1.000000</td>\n",
       "      <td>-3.864425e+01</td>\n",
       "    </tr>\n",
       "    <tr>\n",
       "      <th>25%</th>\n",
       "      <td>0.00000</td>\n",
       "      <td>3.000000</td>\n",
       "      <td>0.000000</td>\n",
       "      <td>16.000000</td>\n",
       "      <td>17.000000</td>\n",
       "      <td>24.136606</td>\n",
       "      <td>23.286150</td>\n",
       "      <td>58.00000</td>\n",
       "      <td>85.367720</td>\n",
       "      <td>4379.787758</td>\n",
       "      <td>...</td>\n",
       "      <td>28.000000</td>\n",
       "      <td>128.000000</td>\n",
       "      <td>28.000000</td>\n",
       "      <td>-1.390058</td>\n",
       "      <td>0.885391</td>\n",
       "      <td>4.109589</td>\n",
       "      <td>1.000000</td>\n",
       "      <td>7.185535</td>\n",
       "      <td>2.000000</td>\n",
       "      <td>-5.113013e+00</td>\n",
       "    </tr>\n",
       "    <tr>\n",
       "      <th>50%</th>\n",
       "      <td>1.00000</td>\n",
       "      <td>5.000000</td>\n",
       "      <td>0.000000</td>\n",
       "      <td>41.000000</td>\n",
       "      <td>38.000000</td>\n",
       "      <td>57.734710</td>\n",
       "      <td>55.605511</td>\n",
       "      <td>99.00000</td>\n",
       "      <td>141.969383</td>\n",
       "      <td>8672.930402</td>\n",
       "      <td>...</td>\n",
       "      <td>120.000000</td>\n",
       "      <td>500.000000</td>\n",
       "      <td>120.000000</td>\n",
       "      <td>-0.008028</td>\n",
       "      <td>2.105796</td>\n",
       "      <td>4.284286</td>\n",
       "      <td>2.000000</td>\n",
       "      <td>14.855461</td>\n",
       "      <td>3.000000</td>\n",
       "      <td>-1.211399e-02</td>\n",
       "    </tr>\n",
       "    <tr>\n",
       "      <th>75%</th>\n",
       "      <td>1.00000</td>\n",
       "      <td>8.000000</td>\n",
       "      <td>0.000000</td>\n",
       "      <td>82.250000</td>\n",
       "      <td>78.000000</td>\n",
       "      <td>123.069389</td>\n",
       "      <td>112.408839</td>\n",
       "      <td>151.00000</td>\n",
       "      <td>232.706878</td>\n",
       "      <td>15903.793248</td>\n",
       "      <td>...</td>\n",
       "      <td>365.000000</td>\n",
       "      <td>1500.000000</td>\n",
       "      <td>365.000000</td>\n",
       "      <td>1.393225</td>\n",
       "      <td>4.135264</td>\n",
       "      <td>5.550000</td>\n",
       "      <td>3.000000</td>\n",
       "      <td>32.101162</td>\n",
       "      <td>4.000000</td>\n",
       "      <td>5.087383e+00</td>\n",
       "    </tr>\n",
       "    <tr>\n",
       "      <th>max</th>\n",
       "      <td>1.00000</td>\n",
       "      <td>10.000000</td>\n",
       "      <td>1.000000</td>\n",
       "      <td>378.000000</td>\n",
       "      <td>408.000000</td>\n",
       "      <td>699.988995</td>\n",
       "      <td>795.166354</td>\n",
       "      <td>505.00000</td>\n",
       "      <td>881.545694</td>\n",
       "      <td>56047.491086</td>\n",
       "      <td>...</td>\n",
       "      <td>700.000000</td>\n",
       "      <td>2999.000000</td>\n",
       "      <td>700.000000</td>\n",
       "      <td>16.625547</td>\n",
       "      <td>24.553518</td>\n",
       "      <td>6.600000</td>\n",
       "      <td>4.000000</td>\n",
       "      <td>355.320865</td>\n",
       "      <td>5.000000</td>\n",
       "      <td>3.220238e+01</td>\n",
       "    </tr>\n",
       "  </tbody>\n",
       "</table>\n",
       "<p>8 rows × 46 columns</p>\n",
       "</div>"
      ],
      "text/plain": [
       "        ownership  activation_plan_code     mnp_flag  calls_incoming_cnt  \\\n",
       "count  1000.00000           1000.000000  1000.000000         1000.000000   \n",
       "mean      0.70800              5.453000     0.206000           58.826000   \n",
       "std       0.45491              2.820593     0.404633           57.843631   \n",
       "min       0.00000              1.000000     0.000000            0.000000   \n",
       "25%       0.00000              3.000000     0.000000           16.000000   \n",
       "50%       1.00000              5.000000     0.000000           41.000000   \n",
       "75%       1.00000              8.000000     0.000000           82.250000   \n",
       "max       1.00000             10.000000     1.000000          378.000000   \n",
       "\n",
       "       calls_outgoing_cnt  calls_incoming_duration  calls_outgoing_duration  \\\n",
       "count         1000.000000              1000.000000              1000.000000   \n",
       "mean            57.647000                88.433230                84.983287   \n",
       "std             58.548701                91.711854                90.769556   \n",
       "min              0.000000                 0.000000                 0.000000   \n",
       "25%             17.000000                24.136606                23.286150   \n",
       "50%             38.000000                57.734710                55.605511   \n",
       "75%             78.000000               123.069389               112.408839   \n",
       "max            408.000000               699.988995               795.166354   \n",
       "\n",
       "       total_call_count  total_sum_duration  tot_usage_mb  ...  \\\n",
       "count        1000.00000         1000.000000   1000.000000  ...   \n",
       "mean          116.47300          173.416517  11617.013688  ...   \n",
       "std            81.16284          128.375227   9800.261450  ...   \n",
       "min             1.00000            1.497667     59.573486  ...   \n",
       "25%            58.00000           85.367720   4379.787758  ...   \n",
       "50%            99.00000          141.969383   8672.930402  ...   \n",
       "75%           151.00000          232.706878  15903.793248  ...   \n",
       "max           505.00000          881.545694  56047.491086  ...   \n",
       "\n",
       "       current_active_plan_validity  last_cycle_plan_mrp  \\\n",
       "count                   1000.000000          1000.000000   \n",
       "mean                     213.124000           929.161000   \n",
       "std                      225.644051           976.514026   \n",
       "min                       15.000000            99.000000   \n",
       "25%                       28.000000           128.000000   \n",
       "50%                      120.000000           500.000000   \n",
       "75%                      365.000000          1500.000000   \n",
       "max                      700.000000          2999.000000   \n",
       "\n",
       "       last_cycle_plan_validity  avg_days_bw_rchg_and_expiry  \\\n",
       "count               1000.000000                  1000.000000   \n",
       "mean                 214.072000                    -0.060285   \n",
       "std                  228.371185                     2.813097   \n",
       "min                   15.000000                   -10.789307   \n",
       "25%                   28.000000                    -1.390058   \n",
       "50%                  120.000000                    -0.008028   \n",
       "75%                  365.000000                     1.393225   \n",
       "max                  700.000000                    16.625547   \n",
       "\n",
       "       stddev_days_bw_rchg_and_expiry  price_per_day  gb_per_day_quota  \\\n",
       "count                     1000.000000    1000.000000       1000.000000   \n",
       "mean                         2.972423       4.622445          2.148500   \n",
       "std                          2.963804       0.993568          1.144993   \n",
       "min                          0.003019       3.333333          0.500000   \n",
       "25%                          0.885391       4.109589          1.000000   \n",
       "50%                          2.105796       4.284286          2.000000   \n",
       "75%                          4.135264       5.550000          3.000000   \n",
       "max                         24.553518       6.600000          4.000000   \n",
       "\n",
       "       pcnt_quota_used  device_avg_asp  recharge_delay  \n",
       "count      1000.000000     1000.000000    1.000000e+03  \n",
       "mean         26.408369        2.943000    1.051603e-15  \n",
       "std          34.746969        1.392728    8.524193e+00  \n",
       "min           0.226984        1.000000   -3.864425e+01  \n",
       "25%           7.185535        2.000000   -5.113013e+00  \n",
       "50%          14.855461        3.000000   -1.211399e-02  \n",
       "75%          32.101162        4.000000    5.087383e+00  \n",
       "max         355.320865        5.000000    3.220238e+01  \n",
       "\n",
       "[8 rows x 46 columns]"
      ]
     },
     "execution_count": 122,
     "metadata": {},
     "output_type": "execute_result"
    }
   ],
   "source": [
    "##describe(df_clean)\n",
    "#to check the distribution of the data\n",
    "df_clean.describe()"
   ]
  },
  {
   "cell_type": "code",
   "execution_count": 123,
   "metadata": {},
   "outputs": [],
   "source": [
    "def related_col(table, col):\n",
    "    drop_these = list(set(list(table)) - set(col))\n",
    "    return table.drop(drop_these, axis = 1)\n",
    "\n",
    "data_relation = df_clean.pipe(related_col, ['avg_days_bw_rchg_and_expiry','recharge_delay', 'age_on_network' ,'mnp_flag' , 'age_on_network','tot_usage_mb', 'cnt_open_qrc', 'total_sum_duration'])\n"
   ]
  },
  {
   "cell_type": "code",
   "execution_count": 124,
   "metadata": {},
   "outputs": [
    {
     "data": {
      "text/plain": [
       "<AxesSubplot:>"
      ]
     },
     "execution_count": 124,
     "metadata": {},
     "output_type": "execute_result"
    },
    {
     "data": {
      "image/png": "[encoded data removed]",
      "text/plain": [
       "<Figure size 640x480 with 2 Axes>"
      ]
     },
     "metadata": {},
     "output_type": "display_data"
    }
   ],
   "source": [
    "correlationOfData= data_relation.corr()\n",
    "sns.heatmap(correlationOfData, xticklabels=correlationOfData.columns, yticklabels=correlationOfData.columns, annot=True)"
   ]
  },
  {
   "cell_type": "markdown",
   "metadata": {},
   "source": [
    "From the above heatmap, we can see that the recharge delay is correlated with the following features maximum avg_days_bw_rchg_and_expiry and cnt_open_qrc. \n",
    "(avg_days_bw_rchg_and_expiry) Average of days between recharge and expiry. This can be negative is highly related with the recharge delay. Most probably we will use this in future to predict the churn rate."
   ]
  },
  {
   "cell_type": "markdown",
   "metadata": {},
   "source": [
    "## Q1 a) \n",
    "The team becomes interested in the number of subjects that recharge across\n",
    "several days after their plan expires. After an exploratory data analysis which\n",
    "includes drawing the observed histogram of the data, discuss a theoretical\n",
    "distribution that could be used to model such data. (5)"
   ]
  },
  {
   "cell_type": "code",
   "execution_count": 125,
   "metadata": {},
   "outputs": [
    {
     "name": "stdout",
     "output_type": "stream",
     "text": [
      "(1000, 46)\n",
      "(497, 46)\n"
     ]
    }
   ],
   "source": [
    "avg_days_bw_rchg_and_expiry_df = df_clean[df_clean['avg_days_bw_rchg_and_expiry']>= 0]\n",
    "print(df_clean.shape)\n",
    "print(avg_days_bw_rchg_and_expiry_df.shape)"
   ]
  },
  {
   "cell_type": "code",
   "execution_count": 126,
   "metadata": {},
   "outputs": [
    {
     "data": {
      "text/plain": [
       "<matplotlib.legend.Legend at 0x280b1b16940>"
      ]
     },
     "execution_count": 126,
     "metadata": {},
     "output_type": "execute_result"
    },
    {
     "data": {
      "image/png": "[encoded data removed]",
      "text/plain": [
       "<Figure size 640x480 with 1 Axes>"
      ]
     },
     "metadata": {},
     "output_type": "display_data"
    }
   ],
   "source": [
    "avg_days_bw_rchg_and_expiry = avg_days_bw_rchg_and_expiry_df['avg_days_bw_rchg_and_expiry'] \n",
    "plt.xlabel(\"Recharge Delay\")\n",
    "plt.ylabel(\"Number Of Customers\")\n",
    "plt.title(\"Potential Customer Churn Visualiztion\")\n",
    "plt.hist(avg_days_bw_rchg_and_expiry, color ='green', edgecolor = 'black', bins = 50, label='avg_days_bw_rchg_and_expiry')\n",
    "plt.legend()"
   ]
  },
  {
   "cell_type": "code",
   "execution_count": 127,
   "metadata": {},
   "outputs": [
    {
     "data": {
      "text/plain": [
       "<AxesSubplot:xlabel='avg_days_bw_rchg_and_expiry', ylabel='Count'>"
      ]
     },
     "execution_count": 127,
     "metadata": {},
     "output_type": "execute_result"
    },
    {
     "data": {
      "image/png": "[encoded data removed]",
      "text/plain": [
       "<Figure size 640x480 with 1 Axes>"
      ]
     },
     "metadata": {},
     "output_type": "display_data"
    }
   ],
   "source": [
    "sns.histplot(data=avg_days_bw_rchg_and_expiry_df, x=\"avg_days_bw_rchg_and_expiry\", bins=50, kde = True,color = 'green', edgecolor = 'black')"
   ]
  },
  {
   "cell_type": "code",
   "execution_count": 128,
   "metadata": {},
   "outputs": [
    {
     "data": {
      "text/html": [
       "<div>\n",
       "<style scoped>\n",
       "    .dataframe tbody tr th:only-of-type {\n",
       "        vertical-align: middle;\n",
       "    }\n",
       "\n",
       "    .dataframe tbody tr th {\n",
       "        vertical-align: top;\n",
       "    }\n",
       "\n",
       "    .dataframe thead th {\n",
       "        text-align: right;\n",
       "    }\n",
       "</style>\n",
       "<table border=\"1\" class=\"dataframe\">\n",
       "  <thead>\n",
       "    <tr style=\"text-align: right;\">\n",
       "      <th></th>\n",
       "      <th>ownership</th>\n",
       "      <th>activation_plan_code</th>\n",
       "      <th>mnp_flag</th>\n",
       "      <th>calls_incoming_cnt</th>\n",
       "      <th>calls_outgoing_cnt</th>\n",
       "      <th>calls_incoming_duration</th>\n",
       "      <th>calls_outgoing_duration</th>\n",
       "      <th>total_call_count</th>\n",
       "      <th>total_sum_duration</th>\n",
       "      <th>tot_usage_mb</th>\n",
       "      <th>...</th>\n",
       "      <th>current_active_plan_validity</th>\n",
       "      <th>last_cycle_plan_mrp</th>\n",
       "      <th>last_cycle_plan_validity</th>\n",
       "      <th>avg_days_bw_rchg_and_expiry</th>\n",
       "      <th>stddev_days_bw_rchg_and_expiry</th>\n",
       "      <th>price_per_day</th>\n",
       "      <th>gb_per_day_quota</th>\n",
       "      <th>pcnt_quota_used</th>\n",
       "      <th>device_avg_asp</th>\n",
       "      <th>recharge_delay</th>\n",
       "    </tr>\n",
       "  </thead>\n",
       "  <tbody>\n",
       "    <tr>\n",
       "      <th>count</th>\n",
       "      <td>497.000000</td>\n",
       "      <td>497.000000</td>\n",
       "      <td>497.000000</td>\n",
       "      <td>497.000000</td>\n",
       "      <td>497.000000</td>\n",
       "      <td>497.000000</td>\n",
       "      <td>497.000000</td>\n",
       "      <td>497.000000</td>\n",
       "      <td>497.000000</td>\n",
       "      <td>497.000000</td>\n",
       "      <td>...</td>\n",
       "      <td>497.000000</td>\n",
       "      <td>497.000000</td>\n",
       "      <td>497.000000</td>\n",
       "      <td>497.000000</td>\n",
       "      <td>497.000000</td>\n",
       "      <td>497.000000</td>\n",
       "      <td>497.000000</td>\n",
       "      <td>497.000000</td>\n",
       "      <td>497.000000</td>\n",
       "      <td>497.000000</td>\n",
       "    </tr>\n",
       "    <tr>\n",
       "      <th>mean</th>\n",
       "      <td>0.714286</td>\n",
       "      <td>5.462777</td>\n",
       "      <td>0.203219</td>\n",
       "      <td>59.221328</td>\n",
       "      <td>54.678068</td>\n",
       "      <td>89.496978</td>\n",
       "      <td>79.542257</td>\n",
       "      <td>113.899396</td>\n",
       "      <td>169.039235</td>\n",
       "      <td>11489.717812</td>\n",
       "      <td>...</td>\n",
       "      <td>205.122736</td>\n",
       "      <td>970.486922</td>\n",
       "      <td>223.921529</td>\n",
       "      <td>1.952053</td>\n",
       "      <td>3.130756</td>\n",
       "      <td>4.635135</td>\n",
       "      <td>2.110664</td>\n",
       "      <td>25.986453</td>\n",
       "      <td>2.903421</td>\n",
       "      <td>1.736447</td>\n",
       "    </tr>\n",
       "    <tr>\n",
       "      <th>std</th>\n",
       "      <td>0.452209</td>\n",
       "      <td>2.875635</td>\n",
       "      <td>0.402800</td>\n",
       "      <td>59.713693</td>\n",
       "      <td>56.270381</td>\n",
       "      <td>94.776437</td>\n",
       "      <td>83.860657</td>\n",
       "      <td>81.758212</td>\n",
       "      <td>127.027765</td>\n",
       "      <td>9741.190303</td>\n",
       "      <td>...</td>\n",
       "      <td>220.495389</td>\n",
       "      <td>1012.492280</td>\n",
       "      <td>237.151714</td>\n",
       "      <td>1.908490</td>\n",
       "      <td>2.909369</td>\n",
       "      <td>1.016227</td>\n",
       "      <td>1.134959</td>\n",
       "      <td>31.661646</td>\n",
       "      <td>1.405178</td>\n",
       "      <td>7.841715</td>\n",
       "    </tr>\n",
       "    <tr>\n",
       "      <th>min</th>\n",
       "      <td>0.000000</td>\n",
       "      <td>1.000000</td>\n",
       "      <td>0.000000</td>\n",
       "      <td>0.000000</td>\n",
       "      <td>0.000000</td>\n",
       "      <td>0.000000</td>\n",
       "      <td>0.000000</td>\n",
       "      <td>1.000000</td>\n",
       "      <td>1.497667</td>\n",
       "      <td>59.573486</td>\n",
       "      <td>...</td>\n",
       "      <td>15.000000</td>\n",
       "      <td>99.000000</td>\n",
       "      <td>15.000000</td>\n",
       "      <td>0.001460</td>\n",
       "      <td>0.009429</td>\n",
       "      <td>3.333333</td>\n",
       "      <td>0.500000</td>\n",
       "      <td>0.226984</td>\n",
       "      <td>1.000000</td>\n",
       "      <td>-34.767262</td>\n",
       "    </tr>\n",
       "    <tr>\n",
       "      <th>25%</th>\n",
       "      <td>0.000000</td>\n",
       "      <td>3.000000</td>\n",
       "      <td>0.000000</td>\n",
       "      <td>17.000000</td>\n",
       "      <td>16.000000</td>\n",
       "      <td>25.002409</td>\n",
       "      <td>22.763202</td>\n",
       "      <td>57.000000</td>\n",
       "      <td>83.684650</td>\n",
       "      <td>4383.924816</td>\n",
       "      <td>...</td>\n",
       "      <td>28.000000</td>\n",
       "      <td>128.000000</td>\n",
       "      <td>28.000000</td>\n",
       "      <td>0.565089</td>\n",
       "      <td>1.001407</td>\n",
       "      <td>4.109589</td>\n",
       "      <td>1.000000</td>\n",
       "      <td>7.023045</td>\n",
       "      <td>2.000000</td>\n",
       "      <td>-3.114580</td>\n",
       "    </tr>\n",
       "    <tr>\n",
       "      <th>50%</th>\n",
       "      <td>1.000000</td>\n",
       "      <td>5.000000</td>\n",
       "      <td>0.000000</td>\n",
       "      <td>39.000000</td>\n",
       "      <td>36.000000</td>\n",
       "      <td>57.439477</td>\n",
       "      <td>51.177920</td>\n",
       "      <td>94.000000</td>\n",
       "      <td>134.457260</td>\n",
       "      <td>8912.704062</td>\n",
       "      <td>...</td>\n",
       "      <td>120.000000</td>\n",
       "      <td>500.000000</td>\n",
       "      <td>120.000000</td>\n",
       "      <td>1.441390</td>\n",
       "      <td>2.234084</td>\n",
       "      <td>4.284286</td>\n",
       "      <td>2.000000</td>\n",
       "      <td>15.778998</td>\n",
       "      <td>3.000000</td>\n",
       "      <td>1.433838</td>\n",
       "    </tr>\n",
       "    <tr>\n",
       "      <th>75%</th>\n",
       "      <td>1.000000</td>\n",
       "      <td>8.000000</td>\n",
       "      <td>0.000000</td>\n",
       "      <td>83.000000</td>\n",
       "      <td>74.000000</td>\n",
       "      <td>125.696524</td>\n",
       "      <td>103.058745</td>\n",
       "      <td>145.000000</td>\n",
       "      <td>222.231024</td>\n",
       "      <td>15377.600549</td>\n",
       "      <td>...</td>\n",
       "      <td>365.000000</td>\n",
       "      <td>1500.000000</td>\n",
       "      <td>365.000000</td>\n",
       "      <td>2.683414</td>\n",
       "      <td>4.590986</td>\n",
       "      <td>5.550000</td>\n",
       "      <td>3.000000</td>\n",
       "      <td>32.321859</td>\n",
       "      <td>4.000000</td>\n",
       "      <td>5.978439</td>\n",
       "    </tr>\n",
       "    <tr>\n",
       "      <th>max</th>\n",
       "      <td>1.000000</td>\n",
       "      <td>10.000000</td>\n",
       "      <td>1.000000</td>\n",
       "      <td>351.000000</td>\n",
       "      <td>383.000000</td>\n",
       "      <td>699.466897</td>\n",
       "      <td>582.003017</td>\n",
       "      <td>505.000000</td>\n",
       "      <td>881.545694</td>\n",
       "      <td>56047.491086</td>\n",
       "      <td>...</td>\n",
       "      <td>700.000000</td>\n",
       "      <td>2999.000000</td>\n",
       "      <td>700.000000</td>\n",
       "      <td>16.625547</td>\n",
       "      <td>17.162580</td>\n",
       "      <td>6.600000</td>\n",
       "      <td>4.000000</td>\n",
       "      <td>333.157284</td>\n",
       "      <td>5.000000</td>\n",
       "      <td>32.202376</td>\n",
       "    </tr>\n",
       "  </tbody>\n",
       "</table>\n",
       "<p>8 rows × 46 columns</p>\n",
       "</div>"
      ],
      "text/plain": [
       "        ownership  activation_plan_code    mnp_flag  calls_incoming_cnt  \\\n",
       "count  497.000000            497.000000  497.000000          497.000000   \n",
       "mean     0.714286              5.462777    0.203219           59.221328   \n",
       "std      0.452209              2.875635    0.402800           59.713693   \n",
       "min      0.000000              1.000000    0.000000            0.000000   \n",
       "25%      0.000000              3.000000    0.000000           17.000000   \n",
       "50%      1.000000              5.000000    0.000000           39.000000   \n",
       "75%      1.000000              8.000000    0.000000           83.000000   \n",
       "max      1.000000             10.000000    1.000000          351.000000   \n",
       "\n",
       "       calls_outgoing_cnt  calls_incoming_duration  calls_outgoing_duration  \\\n",
       "count          497.000000               497.000000               497.000000   \n",
       "mean            54.678068                89.496978                79.542257   \n",
       "std             56.270381                94.776437                83.860657   \n",
       "min              0.000000                 0.000000                 0.000000   \n",
       "25%             16.000000                25.002409                22.763202   \n",
       "50%             36.000000                57.439477                51.177920   \n",
       "75%             74.000000               125.696524               103.058745   \n",
       "max            383.000000               699.466897               582.003017   \n",
       "\n",
       "       total_call_count  total_sum_duration  tot_usage_mb  ...  \\\n",
       "count        497.000000          497.000000    497.000000  ...   \n",
       "mean         113.899396          169.039235  11489.717812  ...   \n",
       "std           81.758212          127.027765   9741.190303  ...   \n",
       "min            1.000000            1.497667     59.573486  ...   \n",
       "25%           57.000000           83.684650   4383.924816  ...   \n",
       "50%           94.000000          134.457260   8912.704062  ...   \n",
       "75%          145.000000          222.231024  15377.600549  ...   \n",
       "max          505.000000          881.545694  56047.491086  ...   \n",
       "\n",
       "       current_active_plan_validity  last_cycle_plan_mrp  \\\n",
       "count                    497.000000           497.000000   \n",
       "mean                     205.122736           970.486922   \n",
       "std                      220.495389          1012.492280   \n",
       "min                       15.000000            99.000000   \n",
       "25%                       28.000000           128.000000   \n",
       "50%                      120.000000           500.000000   \n",
       "75%                      365.000000          1500.000000   \n",
       "max                      700.000000          2999.000000   \n",
       "\n",
       "       last_cycle_plan_validity  avg_days_bw_rchg_and_expiry  \\\n",
       "count                497.000000                   497.000000   \n",
       "mean                 223.921529                     1.952053   \n",
       "std                  237.151714                     1.908490   \n",
       "min                   15.000000                     0.001460   \n",
       "25%                   28.000000                     0.565089   \n",
       "50%                  120.000000                     1.441390   \n",
       "75%                  365.000000                     2.683414   \n",
       "max                  700.000000                    16.625547   \n",
       "\n",
       "       stddev_days_bw_rchg_and_expiry  price_per_day  gb_per_day_quota  \\\n",
       "count                      497.000000     497.000000        497.000000   \n",
       "mean                         3.130756       4.635135          2.110664   \n",
       "std                          2.909369       1.016227          1.134959   \n",
       "min                          0.009429       3.333333          0.500000   \n",
       "25%                          1.001407       4.109589          1.000000   \n",
       "50%                          2.234084       4.284286          2.000000   \n",
       "75%                          4.590986       5.550000          3.000000   \n",
       "max                         17.162580       6.600000          4.000000   \n",
       "\n",
       "       pcnt_quota_used  device_avg_asp  recharge_delay  \n",
       "count       497.000000      497.000000      497.000000  \n",
       "mean         25.986453        2.903421        1.736447  \n",
       "std          31.661646        1.405178        7.841715  \n",
       "min           0.226984        1.000000      -34.767262  \n",
       "25%           7.023045        2.000000       -3.114580  \n",
       "50%          15.778998        3.000000        1.433838  \n",
       "75%          32.321859        4.000000        5.978439  \n",
       "max         333.157284        5.000000       32.202376  \n",
       "\n",
       "[8 rows x 46 columns]"
      ]
     },
     "execution_count": 128,
     "metadata": {},
     "output_type": "execute_result"
    }
   ],
   "source": [
    "avg_days_bw_rchg_and_expiry_df.describe()"
   ]
  },
  {
   "cell_type": "markdown",
   "metadata": {},
   "source": [
    "The above data shows that as there is a exponential relation between customers and avg_days_bw_rchg_and_expiry. i.e. as days increases, number of people doing late recharge decreases.Therefore we can use an exponential distribution to model this data."
   ]
  },
  {
   "cell_type": "code",
   "execution_count": 129,
   "metadata": {},
   "outputs": [
    {
     "data": {
      "text/plain": [
       "<matplotlib.legend.Legend at 0x280b1d420a0>"
      ]
     },
     "execution_count": 129,
     "metadata": {},
     "output_type": "execute_result"
    },
    {
     "data": {
      "image/png": "[encoded data removed]",
      "text/plain": [
       "<Figure size 640x480 with 1 Axes>"
      ]
     },
     "metadata": {},
     "output_type": "display_data"
    }
   ],
   "source": [
    "plt.xlabel(\"Recharge Delay\")\n",
    "plt.ylabel(\"Number Of Customers\")\n",
    "plt.title(\"Customer Churn Potential Visualiztion\")\n",
    "plt.hist([df_clean.recharge_delay, df_clean.avg_days_bw_rchg_and_expiry], rwidth=0.95, color=['red','green'],bins = 10,edgecolor = 'black',label=['Potential Churn data','Features data for churn'])\n",
    "plt.legend()"
   ]
  },
  {
   "cell_type": "code",
   "execution_count": 130,
   "metadata": {},
   "outputs": [
    {
     "data": {
      "text/plain": [
       "<AxesSubplot:ylabel='Count'>"
      ]
     },
     "execution_count": 130,
     "metadata": {},
     "output_type": "execute_result"
    },
    {
     "data": {
      "image/png": "[encoded data removed]",
      "text/plain": [
       "<Figure size 640x480 with 1 Axes>"
      ]
     },
     "metadata": {},
     "output_type": "display_data"
    }
   ],
   "source": [
    "sns.histplot(df_clean[[\"avg_days_bw_rchg_and_expiry\", \"recharge_delay\"]], bins=50, kde=True)"
   ]
  },
  {
   "cell_type": "markdown",
   "metadata": {},
   "source": [
    "### Q1 b) \n",
    "Find the point estimate(s) and 95\\% confidence interval(s) for the values of the\n",
    "parameter(s) that provide(s) the best fit to the observed data."
   ]
  },
  {
   "cell_type": "code",
   "execution_count": 131,
   "metadata": {},
   "outputs": [
    {
     "data": {
      "text/plain": [
       "count    497.000000\n",
       "mean       1.952053\n",
       "std        1.908490\n",
       "min        0.001460\n",
       "25%        0.565089\n",
       "50%        1.441390\n",
       "75%        2.683414\n",
       "max       16.625547\n",
       "Name: avg_days_bw_rchg_and_expiry, dtype: float64"
      ]
     },
     "execution_count": 131,
     "metadata": {},
     "output_type": "execute_result"
    }
   ],
   "source": [
    "df_b= avg_days_bw_rchg_and_expiry_df['avg_days_bw_rchg_and_expiry']\n",
    "df_b.describe()"
   ]
  },
  {
   "cell_type": "code",
   "execution_count": 132,
   "metadata": {},
   "outputs": [
    {
     "name": "stdout",
     "output_type": "stream",
     "text": [
      "After looking at the output of of sample mean and varience, we can say that 95% confidence interval is between [-1.7976133954060487, 5.701719395406049]\n"
     ]
    }
   ],
   "source": [
    "confidence_interval= stats.t.interval(0.95,500-1 , loc=1.952053, scale=1.908490)\n",
    "print(f\"After looking at the output of of sample mean and varience, we can say that 95% confidence interval is between [{confidence_interval[0]}, {confidence_interval[1]}]\")"
   ]
  },
  {
   "cell_type": "markdown",
   "metadata": {},
   "source": [
    "### Q1 c) \n",
    "It is customary in the industry to consider the top x percentile of the customers with delayed recharges as churners (i.e., the customers with the greatest delay -after sorting by decreasing recharge delay). Different companies may consider different values of x as they feel appropriate, based on the observed data and related inference. Therefore, typically, the value of x is chosen to be between 10 and\n",
    "40. Based on the data provided to you by Ghansoli Raja, suggest a value x that the company should use to define the churners. In other words, after how many days since the plan expiration would you suggest that a customer is leaving the company?\n"
   ]
  },
  {
   "cell_type": "code",
   "execution_count": null,
   "metadata": {},
   "outputs": [],
   "source": []
  },
  {
   "cell_type": "markdown",
   "metadata": {},
   "source": [
    "### Question 2 \n",
    "Vashi Kumari is interested in testing some specific hypotheses on the customers'behavior. Based on the data provided to you, would you reject or fail to reject the following hypotheses?\n"
   ]
  },
  {
   "cell_type": "markdown",
   "metadata": {},
   "source": [
    "Creating a function to calulate null hypothesis probability on the basis of customers pvalue."
   ]
  },
  {
   "cell_type": "code",
   "execution_count": 133,
   "metadata": {},
   "outputs": [],
   "source": [
    "def check_nullhypothesis(pvalue):\n",
    "    if pvalue < 0.05:\n",
    "        print(\"Null hypothesis rejected, Alternate hypothesis is accepted\")\n",
    "    else:\n",
    "        print(\"Null hypothesis failed to be rejected, Alternate hypothesis is rejected\")\n",
    "    return"
   ]
  },
  {
   "cell_type": "markdown",
   "metadata": {},
   "source": [
    "a) Customers who are not ready to forego their phone numbers (mnp_flag=1)\n",
    "recharge earlier than the rest"
   ]
  },
  {
   "cell_type": "markdown",
   "metadata": {},
   "source": [
    "Understanding the mnp_flag feature, we can see that the customers who are not ready to forego their phone numbers (mnp_flag=1). Flag for identifying MNP customer (ported in from another operator)."
   ]
  },
  {
   "cell_type": "code",
   "execution_count": 134,
   "metadata": {},
   "outputs": [
    {
     "data": {
      "text/plain": [
       "count    1000.000000\n",
       "mean        0.206000\n",
       "std         0.404633\n",
       "min         0.000000\n",
       "25%         0.000000\n",
       "50%         0.000000\n",
       "75%         0.000000\n",
       "max         1.000000\n",
       "Name: mnp_flag, dtype: float64"
      ]
     },
     "execution_count": 134,
     "metadata": {},
     "output_type": "execute_result"
    },
    {
     "data": {
      "image/png": "[encoded data removed]",
      "text/plain": [
       "<Figure size 640x480 with 1 Axes>"
      ]
     },
     "metadata": {},
     "output_type": "display_data"
    }
   ],
   "source": [
    "df_clean.mnp_flag.value_counts()\n",
    "df_clean.mnp_flag.value_counts().plot(kind='bar')\n",
    "df_clean.mnp_flag.describe()"
   ]
  },
  {
   "cell_type": "code",
   "execution_count": 135,
   "metadata": {},
   "outputs": [],
   "source": [
    "df_mnp_1 = df_clean[df_clean.mnp_flag == 1]\n",
    "df_mnp_0 = df_clean[df_clean.mnp_flag == 0]\n",
    "array_mnp1 = df_mnp_1['avg_days_bw_rchg_and_expiry'].to_numpy()\n",
    "array_mnp0 = df_mnp_0['avg_days_bw_rchg_and_expiry'].to_numpy()\n"
   ]
  },
  {
   "cell_type": "code",
   "execution_count": 136,
   "metadata": {},
   "outputs": [
    {
     "name": "stdout",
     "output_type": "stream",
     "text": [
      "-0.009545107533602548 0.9923861293490214\n",
      "Null hypothesis failed to be rejected, Alternate hypothesis is rejected\n"
     ]
    }
   ],
   "source": [
    "statvalue_mnp, pvalue_mnp = stats.ttest_ind(array_mnp0, array_mnp1 )\n",
    "print(statvalue_mnp, pvalue_mnp)\n",
    "check_nullhypothesis(pvalue_mnp)"
   ]
  },
  {
   "cell_type": "markdown",
   "metadata": {},
   "source": [
    "b) Committed customers (customers with current plan validity more than last cycle plan validity) recharge earlier than the rest"
   ]
  },
  {
   "cell_type": "code",
   "execution_count": 139,
   "metadata": {},
   "outputs": [
    {
     "data": {
      "text/plain": [
       "count    1000.000000\n",
       "mean      213.124000\n",
       "std       225.644051\n",
       "min        15.000000\n",
       "25%        28.000000\n",
       "50%       120.000000\n",
       "75%       365.000000\n",
       "max       700.000000\n",
       "Name: current_active_plan_validity, dtype: float64"
      ]
     },
     "execution_count": 139,
     "metadata": {},
     "output_type": "execute_result"
    },
    {
     "data": {
      "image/png": "[encoded data removed]",
      "text/plain": [
       "<Figure size 640x480 with 1 Axes>"
      ]
     },
     "metadata": {},
     "output_type": "display_data"
    }
   ],
   "source": [
    "df_clean.current_active_plan_validity.value_counts()\n",
    "df_clean.current_active_plan_validity.value_counts().plot(kind='bar')\n",
    "df_clean.current_active_plan_validity.describe()"
   ]
  },
  {
   "cell_type": "code",
   "execution_count": 144,
   "metadata": {},
   "outputs": [],
   "source": [
    "df_active_plan1 = df_clean[df_clean.current_active_plan_validity >= df_clean.last_cycle_plan_validity]\n",
    "df_active_plan0 = df_clean[df_clean.current_active_plan_validity < df_clean.last_cycle_plan_validity]\n",
    "array_activeplan1 = df_active_plan1['avg_days_bw_rchg_and_expiry'].to_numpy()\n",
    "array_activeplan0 = df_active_plan0['avg_days_bw_rchg_and_expiry'].to_numpy()"
   ]
  },
  {
   "cell_type": "code",
   "execution_count": 145,
   "metadata": {},
   "outputs": [
    {
     "name": "stdout",
     "output_type": "stream",
     "text": [
      "-2.22175139803806 0.026523761096139326\n",
      "Null hypothesis rejected, Alternate hypothesis is accepted\n"
     ]
    }
   ],
   "source": [
    "statvalue_active_plan, pvalue_active_plan = stats.ttest_ind(array_activeplan1, array_activeplan0)\n",
    "print(statvalue_active_plan, pvalue_active_plan)\n",
    "check_nullhypothesis(pvalue_active_plan)"
   ]
  },
  {
   "cell_type": "markdown",
   "metadata": {},
   "source": [
    "c) Customers who are not ready to forego their phone numbers (mnp_flag=1) show\n",
    "better engagement (tot_usage_mb and total_sum_duration) "
   ]
  },
  {
   "cell_type": "code",
   "execution_count": 180,
   "metadata": {},
   "outputs": [
    {
     "data": {
      "text/plain": [
       "count     1000.000000\n",
       "mean     11617.013688\n",
       "std       9800.261450\n",
       "min         59.573486\n",
       "25%       4379.787758\n",
       "50%       8672.930402\n",
       "75%      15903.793248\n",
       "max      56047.491086\n",
       "Name: tot_usage_mb, dtype: float64"
      ]
     },
     "execution_count": 180,
     "metadata": {},
     "output_type": "execute_result"
    }
   ],
   "source": [
    "df_clean.tot_usage_mb.value_counts()\n",
    "df_clean.tot_usage_mb.describe()\n"
   ]
  },
  {
   "cell_type": "code",
   "execution_count": 181,
   "metadata": {},
   "outputs": [
    {
     "data": {
      "text/plain": [
       "count    1000.000000\n",
       "mean      173.416517\n",
       "std       128.375227\n",
       "min         1.497667\n",
       "25%        85.367720\n",
       "50%       141.969383\n",
       "75%       232.706878\n",
       "max       881.545694\n",
       "Name: total_sum_duration, dtype: float64"
      ]
     },
     "execution_count": 181,
     "metadata": {},
     "output_type": "execute_result"
    }
   ],
   "source": [
    "df_clean.total_sum_duration.value_counts()\n",
    "df_clean.total_sum_duration.describe()"
   ]
  },
  {
   "cell_type": "code",
   "execution_count": 175,
   "metadata": {},
   "outputs": [],
   "source": [
    "df_tot_usage_mb1 = df_mnp_1['tot_usage_mb'].to_numpy()\n",
    "df_tot_usage_mb0 = df_mnp_0['tot_usage_mb'].to_numpy()"
   ]
  },
  {
   "cell_type": "code",
   "execution_count": 176,
   "metadata": {},
   "outputs": [
    {
     "name": "stdout",
     "output_type": "stream",
     "text": [
      "-1.490429667466017 0.13642726793240947\n",
      "Null hypothesis failed to be rejected, Alternate hypothesis is rejected\n"
     ]
    }
   ],
   "source": [
    "stat, pvalue = stats.ttest_ind(df_tot_usage_mb1, df_tot_usage_mb0)\n",
    "print(stat, pvalue)\n",
    "\n",
    "check_nullhypothesis(pvalue)"
   ]
  },
  {
   "cell_type": "code",
   "execution_count": 177,
   "metadata": {},
   "outputs": [
    {
     "name": "stdout",
     "output_type": "stream",
     "text": [
      "-0.9787759036165652 0.3279279163821345\n",
      "Null hypothesis failed to be rejected, Alternate hypothesis is rejected\n"
     ]
    }
   ],
   "source": [
    "df_total_sum_duration1 = df_mnp_1['total_sum_duration'].to_numpy()\n",
    "df_total_sum_duration0 = df_mnp_0['total_sum_duration'].to_numpy()\n",
    "\n",
    "stat, pvalue = stats.ttest_ind(df_total_sum_duration1, df_total_sum_duration0)\n",
    "print(stat, pvalue)\n",
    "\n",
    "check_nullhypothesis(pvalue)"
   ]
  },
  {
   "cell_type": "markdown",
   "metadata": {},
   "source": [
    "D) We are asked to Check Promotional schemes at time of activation are associated with the engagement (say internet usage and call duration) of the customers and inturn make them do timely recharge or recharge delay.\n",
    "\n",
    "Hence\n",
    "\n",
    "$H_a$: $\\theta$ are not equal and\n",
    "$H_0$: $\\theta_1$ = $\\theta_2$ = $\\theta_3$ = ... till Theta n\n",
    "\n",
    "\n",
    "Here $\\theta$ is the mean of total usage in mb and the total sum of call duration cummulated with their respective timely recharge or recharge delay"
   ]
  },
  {
   "cell_type": "code",
   "execution_count": 184,
   "metadata": {},
   "outputs": [
    {
     "name": "stdout",
     "output_type": "stream",
     "text": [
      "[ 4  6  8  9  7  1  3  2  5 10]\n"
     ]
    }
   ],
   "source": [
    "unique_activation_plan_code = df_clean[\"activation_plan_code\"].unique()\n",
    "print(unique_activation_plan_code)"
   ]
  },
  {
   "cell_type": "code",
   "execution_count": 185,
   "metadata": {},
   "outputs": [
    {
     "name": "stdout",
     "output_type": "stream",
     "text": [
      "0.632144367660318\n",
      "Null hypothesis failed to be rejected, Alternate hypothesis is rejected\n"
     ]
    }
   ],
   "source": [
    "tot_usage_mb_by_activation_code = []\n",
    "\n",
    "for single_activation_plan_code in unique_activation_plan_code:\n",
    "    tot_usage_mb_by_activation_code.append(df_clean[df_clean[\"activation_plan_code\"] == single_activation_plan_code][\"tot_usage_mb\"])\n",
    "\n",
    "stat, p_value = stats.f_oneway(*tot_usage_mb_by_activation_code)\n",
    "print(p_value)\n",
    "\n",
    "check_nullhypothesis(p_value)"
   ]
  },
  {
   "cell_type": "code",
   "execution_count": 186,
   "metadata": {},
   "outputs": [
    {
     "name": "stdout",
     "output_type": "stream",
     "text": [
      "0.5039132902101298\n",
      "Null hypothesis failed to be rejected, Alternate hypothesis is rejected\n"
     ]
    }
   ],
   "source": [
    "total_sum_duration_by_activation_code = []\n",
    "\n",
    "for single_activation_plan_code in unique_activation_plan_code:\n",
    "    total_sum_duration_by_activation_code.append(df_clean[df_clean[\"activation_plan_code\"] == single_activation_plan_code][\"total_sum_duration\"]    )\n",
    "\n",
    "stat, p_value = stats.f_oneway(*total_sum_duration_by_activation_code)\n",
    "print(p_value)\n",
    "\n",
    "check_nullhypothesis(p_value)"
   ]
  },
  {
   "cell_type": "code",
   "execution_count": 187,
   "metadata": {},
   "outputs": [
    {
     "name": "stdout",
     "output_type": "stream",
     "text": [
      "0.6779450165721779\n",
      "Null hypothesis failed to be rejected, Alternate hypothesis is rejected\n"
     ]
    }
   ],
   "source": [
    "avg_days_bw_rchg_and_expiry_by_activation_code = []\n",
    "\n",
    "for single_activation_plan_code in unique_activation_plan_code:\n",
    "    avg_days_bw_rchg_and_expiry_by_activation_code.append(df_clean[df_clean[\"activation_plan_code\"] == single_activation_plan_code][\"avg_days_bw_rchg_and_expiry\"])\n",
    "\n",
    "stat, p_value = stats.f_oneway(*avg_days_bw_rchg_and_expiry_by_activation_code)\n",
    "print(p_value)\n",
    "\n",
    "check_nullhypothesis(p_value)\n"
   ]
  },
  {
   "cell_type": "markdown",
   "metadata": {},
   "source": [
    "From the above tests, we can say that the promotional schemes will not make much differece"
   ]
  },
  {
   "cell_type": "markdown",
   "metadata": {},
   "source": [
    "##### e) Customers with better experience (implicit - pcnt_dropped_calls or explicit - cnt_open_qrc) recharge earlier than the rest"
   ]
  },
  {
   "cell_type": "code",
   "execution_count": 188,
   "metadata": {},
   "outputs": [
    {
     "name": "stdout",
     "output_type": "stream",
     "text": [
      "Implicit customer experience\n",
      "statistic_value =  -3.3299848624208916\n",
      "pvalue =  0.0009003059003205057\n",
      "Null hypothesis rejected, Alternate hypothesis is accepted\n"
     ]
    }
   ],
   "source": [
    "better_exp_implicit = df_clean [ df_clean['pcnt_dropped_calls'] < df_clean['pcnt_dropped_calls'].mean()]\n",
    "better_exp_implicitRem = df_clean [ df_clean['pcnt_dropped_calls'] > df_clean['pcnt_dropped_calls'].mean()]\n",
    "implicit_exp = better_exp_implicit['avg_days_bw_rchg_and_expiry']\n",
    "implicit_expRem = better_exp_implicitRem['avg_days_bw_rchg_and_expiry']\n",
    "print(\"Implicit customer experience\")\n",
    "#perform_ttest(implicit_expRem,implicit_exp)\n",
    "statistic_value,pvalue=stats.ttest_ind(implicit_expRem, implicit_exp)\n",
    "print('statistic_value = ',statistic_value)\n",
    "print('pvalue = ',pvalue)\n",
    "check_nullhypothesis(pvalue)"
   ]
  },
  {
   "cell_type": "code",
   "execution_count": 189,
   "metadata": {},
   "outputs": [
    {
     "name": "stdout",
     "output_type": "stream",
     "text": [
      "Explicit customer experience\n",
      "statistic_value =  0.2703906805295118\n",
      "pvalue =  0.786915614278989\n",
      "Null hypothesis failed to be rejected, Alternate hypothesis is rejected\n"
     ]
    }
   ],
   "source": [
    "better_exp_explicit=df_clean [ df_clean['cnt_open_qrc'] < (df_clean['cnt_open_qrc']).mean()]\n",
    "better_exp_explicitRem=df_clean [ df_clean['cnt_open_qrc'] > (df_clean['cnt_open_qrc']).mean()]\n",
    "explicit_exp = better_exp_explicit['avg_days_bw_rchg_and_expiry']\n",
    "explicit_expRem = better_exp_explicitRem['avg_days_bw_rchg_and_expiry']\n",
    "print('Explicit customer experience')\n",
    "#perform_ttest(explicit_expRem,explicit_exp)\n",
    "statistic_value,pvalue=stats.ttest_ind(explicit_expRem, explicit_exp)\n",
    "print('statistic_value = ',statistic_value)\n",
    "print('pvalue = ',pvalue)\n",
    "check_nullhypothesis(pvalue)"
   ]
  },
  {
   "cell_type": "markdown",
   "metadata": {},
   "source": [
    "f) Customers who complain (poor explicit experience - cnt_open_qrc) are associated with having poor implicit network experience (pcnt_dropped_calls and any other network quality or coverage feature)"
   ]
  },
  {
   "cell_type": "code",
   "execution_count": 205,
   "metadata": {},
   "outputs": [
    {
     "name": "stdout",
     "output_type": "stream",
     "text": [
      "Null hypothesis rejected, Alternate hypothesis is accepted\n"
     ]
    }
   ],
   "source": [
    "poor_exp_explicit=df_clean [ df_clean['cnt_open_qrc'] > (df_clean['cnt_open_qrc']).mean()]\n",
    "dropped_calls=poor_exp_explicit['pcnt_dropped_calls']\n",
    "par_1=poor_exp_explicit['rsrp_voice_pcnt_poor_duration']\n",
    "par_2=poor_exp_explicit['rsrp_data_pcnt_poor_duration']\n",
    "par_3=poor_exp_explicit['mean_cqi_voice_pcnt_poor_duration']\n",
    "par_4=poor_exp_explicit['sinr_voice_pcnt_poor_duration']\n",
    "par_5=poor_exp_explicit['sinr_data_pcnt_poor_duration']\n",
    "\n",
    "stats_value,p_value=stats.f_oneway(dropped_calls, par_1, par_2, par_3,par_4, par_5)\n",
    "check_nullhypothesis(p_value)"
   ]
  },
  {
   "cell_type": "markdown",
   "metadata": {},
   "source": [
    "### Q 3 \n",
    "One of the main interests for the company is to predict recharge delay (which could be considered a continuous outcome) of each customer, that is on which day before or after the plan expiration the customer will do their next recharge, based on historical data. Ghansoli Raja has asked you do deliver a report based on a model for such predictive effort, given your acclaimed expertise on the field."
   ]
  },
  {
   "cell_type": "code",
   "execution_count": 211,
   "metadata": {},
   "outputs": [],
   "source": [
    "df_model_features = df_clean\n",
    "\n",
    "df_model_features = pd.get_dummies(df_model_features, columns=[\n",
    "    \"ownership\",\n",
    "    \"activation_plan_code\",\n",
    "    \"mnp_flag\",\n",
    "    \"current_plan_code\",\n",
    "    \"current_active_plan_mrp\",\n",
    "    \"current_active_plan_validity\",\n",
    "    \"last_cycle_plan_mrp\",\n",
    "    \"last_cycle_plan_validity\",\n",
    "    \"device_avg_asp\"\n",
    "])"
   ]
  },
  {
   "cell_type": "code",
   "execution_count": 213,
   "metadata": {},
   "outputs": [],
   "source": [
    "rechange_delay_df = df_model_features[\"recharge_delay\"]\n",
    "df_model_features = df_model_features.drop([\"mnp_flag_1\", \"recharge_delay\"], axis=1)"
   ]
  },
  {
   "cell_type": "code",
   "execution_count": 195,
   "metadata": {},
   "outputs": [
    {
     "data": {
      "text/html": [
       "<table class=\"simpletable\">\n",
       "<caption>OLS Regression Results</caption>\n",
       "<tr>\n",
       "  <th>Dep. Variable:</th>     <td>recharge_delay</td>  <th>  R-squared:         </th> <td>   1.000</td> \n",
       "</tr>\n",
       "<tr>\n",
       "  <th>Model:</th>                   <td>OLS</td>       <th>  Adj. R-squared:    </th> <td>   1.000</td> \n",
       "</tr>\n",
       "<tr>\n",
       "  <th>Method:</th>             <td>Least Squares</td>  <th>  F-statistic:       </th> <td>3.424e+04</td>\n",
       "</tr>\n",
       "<tr>\n",
       "  <th>Date:</th>             <td>Tue, 30 Aug 2022</td> <th>  Prob (F-statistic):</th>  <td>  0.00</td>  \n",
       "</tr>\n",
       "<tr>\n",
       "  <th>Time:</th>                 <td>19:14:26</td>     <th>  Log-Likelihood:    </th> <td>  328.51</td> \n",
       "</tr>\n",
       "<tr>\n",
       "  <th>No. Observations:</th>      <td>   800</td>      <th>  AIC:               </th> <td>  -537.0</td> \n",
       "</tr>\n",
       "<tr>\n",
       "  <th>Df Residuals:</th>          <td>   740</td>      <th>  BIC:               </th> <td>  -256.0</td> \n",
       "</tr>\n",
       "<tr>\n",
       "  <th>Df Model:</th>              <td>    59</td>      <th>                     </th>     <td> </td>    \n",
       "</tr>\n",
       "<tr>\n",
       "  <th>Covariance Type:</th>      <td>nonrobust</td>    <th>                     </th>     <td> </td>    \n",
       "</tr>\n",
       "</table>\n",
       "<table class=\"simpletable\">\n",
       "<tr>\n",
       "                  <td></td>                     <th>coef</th>     <th>std err</th>      <th>t</th>      <th>P>|t|</th>  <th>[0.025</th>    <th>0.975]</th>  \n",
       "</tr>\n",
       "<tr>\n",
       "  <th>const</th>                             <td>   -0.0076</td> <td>    0.007</td> <td>   -1.065</td> <td> 0.287</td> <td>   -0.021</td> <td>    0.006</td>\n",
       "</tr>\n",
       "<tr>\n",
       "  <th>calls_incoming_cnt</th>                <td>   -0.0268</td> <td>    0.000</td> <td>  -71.784</td> <td> 0.000</td> <td>   -0.028</td> <td>   -0.026</td>\n",
       "</tr>\n",
       "<tr>\n",
       "  <th>calls_outgoing_cnt</th>                <td>    0.0052</td> <td>    0.000</td> <td>   13.655</td> <td> 0.000</td> <td>    0.004</td> <td>    0.006</td>\n",
       "</tr>\n",
       "<tr>\n",
       "  <th>calls_incoming_duration</th>           <td>   -0.0003</td> <td>    0.000</td> <td>   -1.574</td> <td> 0.116</td> <td>   -0.001</td> <td> 6.95e-05</td>\n",
       "</tr>\n",
       "<tr>\n",
       "  <th>calls_outgoing_duration</th>           <td>    0.0004</td> <td>    0.000</td> <td>    1.966</td> <td> 0.050</td> <td> 4.81e-07</td> <td>    0.001</td>\n",
       "</tr>\n",
       "<tr>\n",
       "  <th>total_call_count</th>                  <td>   -0.0217</td> <td>    0.001</td> <td>  -41.507</td> <td> 0.000</td> <td>   -0.023</td> <td>   -0.021</td>\n",
       "</tr>\n",
       "<tr>\n",
       "  <th>total_sum_duration</th>                <td> 8.975e-05</td> <td>    0.000</td> <td>    0.785</td> <td> 0.433</td> <td>   -0.000</td> <td>    0.000</td>\n",
       "</tr>\n",
       "<tr>\n",
       "  <th>tot_usage_mb</th>                      <td>-2.598e-07</td> <td> 1.39e-06</td> <td>   -0.187</td> <td> 0.851</td> <td>-2.98e-06</td> <td> 2.46e-06</td>\n",
       "</tr>\n",
       "<tr>\n",
       "  <th>upload_usage_mb</th>                   <td> 1.043e-07</td> <td> 2.51e-06</td> <td>    0.041</td> <td> 0.967</td> <td>-4.83e-06</td> <td> 5.04e-06</td>\n",
       "</tr>\n",
       "<tr>\n",
       "  <th>download_usage_mb</th>                 <td> -3.64e-07</td> <td> 1.32e-06</td> <td>   -0.275</td> <td> 0.784</td> <td>-2.96e-06</td> <td> 2.24e-06</td>\n",
       "</tr>\n",
       "<tr>\n",
       "  <th>days_since_latch</th>                  <td>    0.5128</td> <td>    0.017</td> <td>   30.435</td> <td> 0.000</td> <td>    0.480</td> <td>    0.546</td>\n",
       "</tr>\n",
       "<tr>\n",
       "  <th>cnt_open_qrc</th>                      <td>    0.0259</td> <td>    0.003</td> <td>    8.785</td> <td> 0.000</td> <td>    0.020</td> <td>    0.032</td>\n",
       "</tr>\n",
       "<tr>\n",
       "  <th>avg_days_to_close</th>                 <td>   -0.0006</td> <td>    0.002</td> <td>   -0.281</td> <td> 0.779</td> <td>   -0.004</td> <td>    0.003</td>\n",
       "</tr>\n",
       "<tr>\n",
       "  <th>cnt_call_drops</th>                    <td>   -0.0029</td> <td>    0.005</td> <td>   -0.584</td> <td> 0.559</td> <td>   -0.013</td> <td>    0.007</td>\n",
       "</tr>\n",
       "<tr>\n",
       "  <th>pcnt_dropped_calls</th>                <td>    0.8969</td> <td>    0.007</td> <td>  129.920</td> <td> 0.000</td> <td>    0.883</td> <td>    0.910</td>\n",
       "</tr>\n",
       "<tr>\n",
       "  <th>rsrp_voice_pcnt_poor_duration</th>     <td>    0.0362</td> <td>    0.000</td> <td>  322.556</td> <td> 0.000</td> <td>    0.036</td> <td>    0.036</td>\n",
       "</tr>\n",
       "<tr>\n",
       "  <th>rsrp_data_pcnt_poor_duration</th>      <td>    0.0405</td> <td>    0.000</td> <td>  322.556</td> <td> 0.000</td> <td>    0.040</td> <td>    0.041</td>\n",
       "</tr>\n",
       "<tr>\n",
       "  <th>mean_cqi_voice_pcnt_poor_duration</th> <td>    0.0975</td> <td>    0.000</td> <td>  455.944</td> <td> 0.000</td> <td>    0.097</td> <td>    0.098</td>\n",
       "</tr>\n",
       "<tr>\n",
       "  <th>sinr_voice_pcnt_poor_duration</th>     <td>    0.0292</td> <td>    0.000</td> <td>  282.466</td> <td> 0.000</td> <td>    0.029</td> <td>    0.029</td>\n",
       "</tr>\n",
       "<tr>\n",
       "  <th>sinr_data_pcnt_poor_duration</th>      <td>    0.0331</td> <td>    0.000</td> <td>  282.466</td> <td> 0.000</td> <td>    0.033</td> <td>    0.033</td>\n",
       "</tr>\n",
       "<tr>\n",
       "  <th>age_on_network</th>                    <td>   -0.0107</td> <td>    0.002</td> <td>   -5.906</td> <td> 0.000</td> <td>   -0.014</td> <td>   -0.007</td>\n",
       "</tr>\n",
       "<tr>\n",
       "  <th>cnt_connections</th>                   <td>   -0.7709</td> <td>    0.003</td> <td> -296.784</td> <td> 0.000</td> <td>   -0.776</td> <td>   -0.766</td>\n",
       "</tr>\n",
       "<tr>\n",
       "  <th>cnt_recharges_made</th>                <td>-9.454e-08</td> <td>  1.9e-07</td> <td>   -0.498</td> <td> 0.619</td> <td>-4.67e-07</td> <td> 2.78e-07</td>\n",
       "</tr>\n",
       "<tr>\n",
       "  <th>total_payment_made</th>                <td> -2.38e-05</td> <td> 4.78e-05</td> <td>   -0.498</td> <td> 0.619</td> <td>   -0.000</td> <td>    7e-05</td>\n",
       "</tr>\n",
       "<tr>\n",
       "  <th>cnt_main_plans_taken</th>              <td>-4.793e-08</td> <td> 9.51e-08</td> <td>   -0.504</td> <td> 0.614</td> <td>-2.35e-07</td> <td> 1.39e-07</td>\n",
       "</tr>\n",
       "<tr>\n",
       "  <th>total_main_plans_mrp</th>              <td>-1.207e-05</td> <td> 2.39e-05</td> <td>   -0.504</td> <td> 0.614</td> <td>-5.91e-05</td> <td> 3.49e-05</td>\n",
       "</tr>\n",
       "<tr>\n",
       "  <th>cnt_addon_plans_taken</th>             <td>-4.661e-08</td> <td>  9.5e-08</td> <td>   -0.491</td> <td> 0.624</td> <td>-2.33e-07</td> <td>  1.4e-07</td>\n",
       "</tr>\n",
       "<tr>\n",
       "  <th>total_addon_plans_mrp</th>             <td>-1.173e-05</td> <td> 2.39e-05</td> <td>   -0.491</td> <td> 0.624</td> <td>-5.87e-05</td> <td> 3.52e-05</td>\n",
       "</tr>\n",
       "<tr>\n",
       "  <th>cnt_rchg_offline</th>                  <td>    0.0116</td> <td>    0.013</td> <td>    0.884</td> <td> 0.377</td> <td>   -0.014</td> <td>    0.037</td>\n",
       "</tr>\n",
       "<tr>\n",
       "  <th>cnt_rchg_online</th>                   <td>   -0.0116</td> <td>    0.013</td> <td>   -0.884</td> <td> 0.377</td> <td>   -0.037</td> <td>    0.014</td>\n",
       "</tr>\n",
       "<tr>\n",
       "  <th>cnt_rchg_on_or_before_expiry</th>      <td>  2.01e-05</td> <td>    0.000</td> <td>    0.121</td> <td> 0.903</td> <td>   -0.000</td> <td>    0.000</td>\n",
       "</tr>\n",
       "<tr>\n",
       "  <th>cnt_rchg_after_expiry</th>             <td> -2.02e-05</td> <td>    0.000</td> <td>   -0.122</td> <td> 0.903</td> <td>   -0.000</td> <td>    0.000</td>\n",
       "</tr>\n",
       "<tr>\n",
       "  <th>avg_days_bw_rchg_and_expiry</th>       <td>    0.8105</td> <td>    0.002</td> <td>  361.537</td> <td> 0.000</td> <td>    0.806</td> <td>    0.815</td>\n",
       "</tr>\n",
       "<tr>\n",
       "  <th>stddev_days_bw_rchg_and_expiry</th>    <td>    0.2634</td> <td>    0.002</td> <td>  127.721</td> <td> 0.000</td> <td>    0.259</td> <td>    0.267</td>\n",
       "</tr>\n",
       "<tr>\n",
       "  <th>price_per_day</th>                     <td>    0.0143</td> <td>    0.009</td> <td>    1.639</td> <td> 0.102</td> <td>   -0.003</td> <td>    0.031</td>\n",
       "</tr>\n",
       "<tr>\n",
       "  <th>gb_per_day_quota</th>                  <td>   -0.1215</td> <td>    0.007</td> <td>  -17.271</td> <td> 0.000</td> <td>   -0.135</td> <td>   -0.108</td>\n",
       "</tr>\n",
       "<tr>\n",
       "  <th>pcnt_quota_used</th>                   <td>   -0.1271</td> <td>    0.000</td> <td> -355.054</td> <td> 0.000</td> <td>   -0.128</td> <td>   -0.126</td>\n",
       "</tr>\n",
       "<tr>\n",
       "  <th>ownership_0</th>                       <td>   -0.0007</td> <td>    0.008</td> <td>   -0.094</td> <td> 0.925</td> <td>   -0.016</td> <td>    0.014</td>\n",
       "</tr>\n",
       "<tr>\n",
       "  <th>ownership_1</th>                       <td>   -0.0068</td> <td>    0.008</td> <td>   -0.903</td> <td> 0.367</td> <td>   -0.022</td> <td>    0.008</td>\n",
       "</tr>\n",
       "<tr>\n",
       "  <th>activation_plan_code_1</th>            <td>   -1.8965</td> <td>    0.018</td> <td> -107.519</td> <td> 0.000</td> <td>   -1.931</td> <td>   -1.862</td>\n",
       "</tr>\n",
       "<tr>\n",
       "  <th>activation_plan_code_2</th>            <td>    1.5369</td> <td>    0.019</td> <td>   81.878</td> <td> 0.000</td> <td>    1.500</td> <td>    1.574</td>\n",
       "</tr>\n",
       "<tr>\n",
       "  <th>activation_plan_code_3</th>            <td>   -1.8973</td> <td>    0.018</td> <td> -105.360</td> <td> 0.000</td> <td>   -1.933</td> <td>   -1.862</td>\n",
       "</tr>\n",
       "<tr>\n",
       "  <th>activation_plan_code_4</th>            <td>   -1.8788</td> <td>    0.019</td> <td> -100.129</td> <td> 0.000</td> <td>   -1.916</td> <td>   -1.842</td>\n",
       "</tr>\n",
       "<tr>\n",
       "  <th>activation_plan_code_5</th>            <td>   -1.8751</td> <td>    0.017</td> <td> -109.854</td> <td> 0.000</td> <td>   -1.909</td> <td>   -1.842</td>\n",
       "</tr>\n",
       "<tr>\n",
       "  <th>activation_plan_code_6</th>            <td>   -1.8658</td> <td>    0.018</td> <td> -105.081</td> <td> 0.000</td> <td>   -1.901</td> <td>   -1.831</td>\n",
       "</tr>\n",
       "<tr>\n",
       "  <th>activation_plan_code_7</th>            <td>   -1.8744</td> <td>    0.018</td> <td> -104.977</td> <td> 0.000</td> <td>   -1.909</td> <td>   -1.839</td>\n",
       "</tr>\n",
       "<tr>\n",
       "  <th>activation_plan_code_8</th>            <td>   -1.8918</td> <td>    0.019</td> <td>  -98.883</td> <td> 0.000</td> <td>   -1.929</td> <td>   -1.854</td>\n",
       "</tr>\n",
       "<tr>\n",
       "  <th>activation_plan_code_9</th>            <td>   13.5430</td> <td>    0.020</td> <td>  683.490</td> <td> 0.000</td> <td>   13.504</td> <td>   13.582</td>\n",
       "</tr>\n",
       "<tr>\n",
       "  <th>activation_plan_code_10</th>           <td>   -1.9078</td> <td>    0.018</td> <td> -103.350</td> <td> 0.000</td> <td>   -1.944</td> <td>   -1.872</td>\n",
       "</tr>\n",
       "<tr>\n",
       "  <th>mnp_flag_0</th>                        <td>   -0.0259</td> <td>    0.015</td> <td>   -1.689</td> <td> 0.092</td> <td>   -0.056</td> <td>    0.004</td>\n",
       "</tr>\n",
       "<tr>\n",
       "  <th>current_plan_code_1</th>               <td>    0.0009</td> <td>    0.018</td> <td>    0.050</td> <td> 0.960</td> <td>   -0.035</td> <td>    0.037</td>\n",
       "</tr>\n",
       "<tr>\n",
       "  <th>current_plan_code_2</th>               <td>   -0.0210</td> <td>    0.018</td> <td>   -1.165</td> <td> 0.244</td> <td>   -0.056</td> <td>    0.014</td>\n",
       "</tr>\n",
       "<tr>\n",
       "  <th>current_plan_code_3</th>               <td>    0.0589</td> <td>    0.018</td> <td>    3.182</td> <td> 0.002</td> <td>    0.023</td> <td>    0.095</td>\n",
       "</tr>\n",
       "<tr>\n",
       "  <th>current_plan_code_4</th>               <td>   -0.0274</td> <td>    0.019</td> <td>   -1.433</td> <td> 0.152</td> <td>   -0.065</td> <td>    0.010</td>\n",
       "</tr>\n",
       "<tr>\n",
       "  <th>current_plan_code_5</th>               <td>    0.0164</td> <td>    0.019</td> <td>    0.857</td> <td> 0.392</td> <td>   -0.021</td> <td>    0.054</td>\n",
       "</tr>\n",
       "<tr>\n",
       "  <th>current_plan_code_6</th>               <td>   -0.0045</td> <td>    0.018</td> <td>   -0.250</td> <td> 0.802</td> <td>   -0.040</td> <td>    0.031</td>\n",
       "</tr>\n",
       "<tr>\n",
       "  <th>current_plan_code_7</th>               <td>   -0.0032</td> <td>    0.019</td> <td>   -0.169</td> <td> 0.866</td> <td>   -0.040</td> <td>    0.034</td>\n",
       "</tr>\n",
       "<tr>\n",
       "  <th>current_plan_code_8</th>               <td>   -0.0028</td> <td>    0.017</td> <td>   -0.159</td> <td> 0.873</td> <td>   -0.037</td> <td>    0.031</td>\n",
       "</tr>\n",
       "<tr>\n",
       "  <th>current_plan_code_9</th>               <td>   -0.0362</td> <td>    0.018</td> <td>   -1.964</td> <td> 0.050</td> <td>   -0.072</td> <td>-7.43e-06</td>\n",
       "</tr>\n",
       "<tr>\n",
       "  <th>current_plan_code_10</th>              <td>    0.0115</td> <td>    0.018</td> <td>    0.646</td> <td> 0.518</td> <td>   -0.023</td> <td>    0.046</td>\n",
       "</tr>\n",
       "<tr>\n",
       "  <th>current_active_plan_mrp_99</th>        <td>    0.0257</td> <td>    0.006</td> <td>    4.043</td> <td> 0.000</td> <td>    0.013</td> <td>    0.038</td>\n",
       "</tr>\n",
       "<tr>\n",
       "  <th>current_active_plan_mrp_128</th>       <td>    0.0152</td> <td>    0.008</td> <td>    1.905</td> <td> 0.057</td> <td>   -0.000</td> <td>    0.031</td>\n",
       "</tr>\n",
       "<tr>\n",
       "  <th>current_active_plan_mrp_300</th>       <td>    0.0135</td> <td>    0.010</td> <td>    1.311</td> <td> 0.190</td> <td>   -0.007</td> <td>    0.034</td>\n",
       "</tr>\n",
       "<tr>\n",
       "  <th>current_active_plan_mrp_500</th>       <td>   -0.0199</td> <td>    0.008</td> <td>   -2.426</td> <td> 0.016</td> <td>   -0.036</td> <td>   -0.004</td>\n",
       "</tr>\n",
       "<tr>\n",
       "  <th>current_active_plan_mrp_999</th>       <td>   -0.0093</td> <td>    0.008</td> <td>   -1.137</td> <td> 0.256</td> <td>   -0.025</td> <td>    0.007</td>\n",
       "</tr>\n",
       "<tr>\n",
       "  <th>current_active_plan_mrp_1500</th>      <td>   -0.0288</td> <td>    0.007</td> <td>   -4.000</td> <td> 0.000</td> <td>   -0.043</td> <td>   -0.015</td>\n",
       "</tr>\n",
       "<tr>\n",
       "  <th>current_active_plan_mrp_2999</th>      <td>   -0.0039</td> <td>    0.006</td> <td>   -0.615</td> <td> 0.539</td> <td>   -0.016</td> <td>    0.008</td>\n",
       "</tr>\n",
       "<tr>\n",
       "  <th>current_active_plan_validity_15</th>   <td>    0.0257</td> <td>    0.006</td> <td>    4.043</td> <td> 0.000</td> <td>    0.013</td> <td>    0.038</td>\n",
       "</tr>\n",
       "<tr>\n",
       "  <th>current_active_plan_validity_28</th>   <td>    0.0152</td> <td>    0.008</td> <td>    1.905</td> <td> 0.057</td> <td>   -0.000</td> <td>    0.031</td>\n",
       "</tr>\n",
       "<tr>\n",
       "  <th>current_active_plan_validity_90</th>   <td>    0.0135</td> <td>    0.010</td> <td>    1.311</td> <td> 0.190</td> <td>   -0.007</td> <td>    0.034</td>\n",
       "</tr>\n",
       "<tr>\n",
       "  <th>current_active_plan_validity_120</th>  <td>   -0.0199</td> <td>    0.008</td> <td>   -2.426</td> <td> 0.016</td> <td>   -0.036</td> <td>   -0.004</td>\n",
       "</tr>\n",
       "<tr>\n",
       "  <th>current_active_plan_validity_180</th>  <td>   -0.0093</td> <td>    0.008</td> <td>   -1.137</td> <td> 0.256</td> <td>   -0.025</td> <td>    0.007</td>\n",
       "</tr>\n",
       "<tr>\n",
       "  <th>current_active_plan_validity_365</th>  <td>   -0.0288</td> <td>    0.007</td> <td>   -4.000</td> <td> 0.000</td> <td>   -0.043</td> <td>   -0.015</td>\n",
       "</tr>\n",
       "<tr>\n",
       "  <th>current_active_plan_validity_700</th>  <td>   -0.0039</td> <td>    0.006</td> <td>   -0.615</td> <td> 0.539</td> <td>   -0.016</td> <td>    0.008</td>\n",
       "</tr>\n",
       "<tr>\n",
       "  <th>last_cycle_plan_mrp_99</th>            <td>   -0.1302</td> <td>    0.010</td> <td>  -13.612</td> <td> 0.000</td> <td>   -0.149</td> <td>   -0.111</td>\n",
       "</tr>\n",
       "<tr>\n",
       "  <th>last_cycle_plan_mrp_128</th>           <td>   -0.1025</td> <td>    0.009</td> <td>  -10.945</td> <td> 0.000</td> <td>   -0.121</td> <td>   -0.084</td>\n",
       "</tr>\n",
       "<tr>\n",
       "  <th>last_cycle_plan_mrp_300</th>           <td>   -0.0509</td> <td>    0.008</td> <td>   -6.578</td> <td> 0.000</td> <td>   -0.066</td> <td>   -0.036</td>\n",
       "</tr>\n",
       "<tr>\n",
       "  <th>last_cycle_plan_mrp_500</th>           <td>   -0.0031</td> <td>    0.008</td> <td>   -0.390</td> <td> 0.697</td> <td>   -0.019</td> <td>    0.013</td>\n",
       "</tr>\n",
       "<tr>\n",
       "  <th>last_cycle_plan_mrp_999</th>           <td>    0.0462</td> <td>    0.008</td> <td>    6.067</td> <td> 0.000</td> <td>    0.031</td> <td>    0.061</td>\n",
       "</tr>\n",
       "<tr>\n",
       "  <th>last_cycle_plan_mrp_1500</th>          <td>    0.0872</td> <td>    0.010</td> <td>    8.961</td> <td> 0.000</td> <td>    0.068</td> <td>    0.106</td>\n",
       "</tr>\n",
       "<tr>\n",
       "  <th>last_cycle_plan_mrp_2999</th>          <td>    0.1458</td> <td>    0.017</td> <td>    8.784</td> <td> 0.000</td> <td>    0.113</td> <td>    0.178</td>\n",
       "</tr>\n",
       "<tr>\n",
       "  <th>last_cycle_plan_validity_15</th>       <td>   -0.1302</td> <td>    0.010</td> <td>  -13.612</td> <td> 0.000</td> <td>   -0.149</td> <td>   -0.111</td>\n",
       "</tr>\n",
       "<tr>\n",
       "  <th>last_cycle_plan_validity_28</th>       <td>   -0.1025</td> <td>    0.009</td> <td>  -10.945</td> <td> 0.000</td> <td>   -0.121</td> <td>   -0.084</td>\n",
       "</tr>\n",
       "<tr>\n",
       "  <th>last_cycle_plan_validity_90</th>       <td>   -0.0509</td> <td>    0.008</td> <td>   -6.578</td> <td> 0.000</td> <td>   -0.066</td> <td>   -0.036</td>\n",
       "</tr>\n",
       "<tr>\n",
       "  <th>last_cycle_plan_validity_120</th>      <td>   -0.0031</td> <td>    0.008</td> <td>   -0.390</td> <td> 0.697</td> <td>   -0.019</td> <td>    0.013</td>\n",
       "</tr>\n",
       "<tr>\n",
       "  <th>last_cycle_plan_validity_180</th>      <td>    0.0462</td> <td>    0.008</td> <td>    6.067</td> <td> 0.000</td> <td>    0.031</td> <td>    0.061</td>\n",
       "</tr>\n",
       "<tr>\n",
       "  <th>last_cycle_plan_validity_365</th>      <td>    0.0872</td> <td>    0.010</td> <td>    8.961</td> <td> 0.000</td> <td>    0.068</td> <td>    0.106</td>\n",
       "</tr>\n",
       "<tr>\n",
       "  <th>last_cycle_plan_validity_700</th>      <td>    0.1458</td> <td>    0.017</td> <td>    8.784</td> <td> 0.000</td> <td>    0.113</td> <td>    0.178</td>\n",
       "</tr>\n",
       "<tr>\n",
       "  <th>device_avg_asp_1</th>                  <td>    0.0065</td> <td>    0.012</td> <td>    0.542</td> <td> 0.588</td> <td>   -0.017</td> <td>    0.030</td>\n",
       "</tr>\n",
       "<tr>\n",
       "  <th>device_avg_asp_2</th>                  <td>    0.0080</td> <td>    0.013</td> <td>    0.636</td> <td> 0.525</td> <td>   -0.017</td> <td>    0.033</td>\n",
       "</tr>\n",
       "<tr>\n",
       "  <th>device_avg_asp_3</th>                  <td>   -0.0147</td> <td>    0.012</td> <td>   -1.235</td> <td> 0.217</td> <td>   -0.038</td> <td>    0.009</td>\n",
       "</tr>\n",
       "<tr>\n",
       "  <th>device_avg_asp_4</th>                  <td>   -0.0101</td> <td>    0.012</td> <td>   -0.817</td> <td> 0.414</td> <td>   -0.034</td> <td>    0.014</td>\n",
       "</tr>\n",
       "<tr>\n",
       "  <th>device_avg_asp_5</th>                  <td>    0.0027</td> <td>    0.013</td> <td>    0.208</td> <td> 0.835</td> <td>   -0.023</td> <td>    0.028</td>\n",
       "</tr>\n",
       "</table>\n",
       "<table class=\"simpletable\">\n",
       "<tr>\n",
       "  <th>Omnibus:</th>       <td>138.878</td> <th>  Durbin-Watson:     </th> <td>   2.065</td>\n",
       "</tr>\n",
       "<tr>\n",
       "  <th>Prob(Omnibus):</th> <td> 0.000</td>  <th>  Jarque-Bera (JB):  </th> <td>  30.864</td>\n",
       "</tr>\n",
       "<tr>\n",
       "  <th>Skew:</th>          <td>-0.003</td>  <th>  Prob(JB):          </th> <td>1.99e-07</td>\n",
       "</tr>\n",
       "<tr>\n",
       "  <th>Kurtosis:</th>      <td> 2.038</td>  <th>  Cond. No.          </th> <td>8.73e+16</td>\n",
       "</tr>\n",
       "</table><br/><br/>Notes:<br/>[1] Standard Errors assume that the covariance matrix of the errors is correctly specified.<br/>[2] The smallest eigenvalue is 7.3e-23. This might indicate that there are<br/>strong multicollinearity problems or that the design matrix is singular."
      ],
      "text/plain": [
       "<class 'statsmodels.iolib.summary.Summary'>\n",
       "\"\"\"\n",
       "                            OLS Regression Results                            \n",
       "==============================================================================\n",
       "Dep. Variable:         recharge_delay   R-squared:                       1.000\n",
       "Model:                            OLS   Adj. R-squared:                  1.000\n",
       "Method:                 Least Squares   F-statistic:                 3.424e+04\n",
       "Date:                Tue, 30 Aug 2022   Prob (F-statistic):               0.00\n",
       "Time:                        19:14:26   Log-Likelihood:                 328.51\n",
       "No. Observations:                 800   AIC:                            -537.0\n",
       "Df Residuals:                     740   BIC:                            -256.0\n",
       "Df Model:                          59                                         \n",
       "Covariance Type:            nonrobust                                         \n",
       "=====================================================================================================\n",
       "                                        coef    std err          t      P>|t|      [0.025      0.975]\n",
       "-----------------------------------------------------------------------------------------------------\n",
       "const                                -0.0076      0.007     -1.065      0.287      -0.021       0.006\n",
       "calls_incoming_cnt                   -0.0268      0.000    -71.784      0.000      -0.028      -0.026\n",
       "calls_outgoing_cnt                    0.0052      0.000     13.655      0.000       0.004       0.006\n",
       "calls_incoming_duration              -0.0003      0.000     -1.574      0.116      -0.001    6.95e-05\n",
       "calls_outgoing_duration               0.0004      0.000      1.966      0.050    4.81e-07       0.001\n",
       "total_call_count                     -0.0217      0.001    -41.507      0.000      -0.023      -0.021\n",
       "total_sum_duration                 8.975e-05      0.000      0.785      0.433      -0.000       0.000\n",
       "tot_usage_mb                      -2.598e-07   1.39e-06     -0.187      0.851   -2.98e-06    2.46e-06\n",
       "upload_usage_mb                    1.043e-07   2.51e-06      0.041      0.967   -4.83e-06    5.04e-06\n",
       "download_usage_mb                  -3.64e-07   1.32e-06     -0.275      0.784   -2.96e-06    2.24e-06\n",
       "days_since_latch                      0.5128      0.017     30.435      0.000       0.480       0.546\n",
       "cnt_open_qrc                          0.0259      0.003      8.785      0.000       0.020       0.032\n",
       "avg_days_to_close                    -0.0006      0.002     -0.281      0.779      -0.004       0.003\n",
       "cnt_call_drops                       -0.0029      0.005     -0.584      0.559      -0.013       0.007\n",
       "pcnt_dropped_calls                    0.8969      0.007    129.920      0.000       0.883       0.910\n",
       "rsrp_voice_pcnt_poor_duration         0.0362      0.000    322.556      0.000       0.036       0.036\n",
       "rsrp_data_pcnt_poor_duration          0.0405      0.000    322.556      0.000       0.040       0.041\n",
       "mean_cqi_voice_pcnt_poor_duration     0.0975      0.000    455.944      0.000       0.097       0.098\n",
       "sinr_voice_pcnt_poor_duration         0.0292      0.000    282.466      0.000       0.029       0.029\n",
       "sinr_data_pcnt_poor_duration          0.0331      0.000    282.466      0.000       0.033       0.033\n",
       "age_on_network                       -0.0107      0.002     -5.906      0.000      -0.014      -0.007\n",
       "cnt_connections                      -0.7709      0.003   -296.784      0.000      -0.776      -0.766\n",
       "cnt_recharges_made                -9.454e-08    1.9e-07     -0.498      0.619   -4.67e-07    2.78e-07\n",
       "total_payment_made                 -2.38e-05   4.78e-05     -0.498      0.619      -0.000       7e-05\n",
       "cnt_main_plans_taken              -4.793e-08   9.51e-08     -0.504      0.614   -2.35e-07    1.39e-07\n",
       "total_main_plans_mrp              -1.207e-05   2.39e-05     -0.504      0.614   -5.91e-05    3.49e-05\n",
       "cnt_addon_plans_taken             -4.661e-08    9.5e-08     -0.491      0.624   -2.33e-07     1.4e-07\n",
       "total_addon_plans_mrp             -1.173e-05   2.39e-05     -0.491      0.624   -5.87e-05    3.52e-05\n",
       "cnt_rchg_offline                      0.0116      0.013      0.884      0.377      -0.014       0.037\n",
       "cnt_rchg_online                      -0.0116      0.013     -0.884      0.377      -0.037       0.014\n",
       "cnt_rchg_on_or_before_expiry        2.01e-05      0.000      0.121      0.903      -0.000       0.000\n",
       "cnt_rchg_after_expiry              -2.02e-05      0.000     -0.122      0.903      -0.000       0.000\n",
       "avg_days_bw_rchg_and_expiry           0.8105      0.002    361.537      0.000       0.806       0.815\n",
       "stddev_days_bw_rchg_and_expiry        0.2634      0.002    127.721      0.000       0.259       0.267\n",
       "price_per_day                         0.0143      0.009      1.639      0.102      -0.003       0.031\n",
       "gb_per_day_quota                     -0.1215      0.007    -17.271      0.000      -0.135      -0.108\n",
       "pcnt_quota_used                      -0.1271      0.000   -355.054      0.000      -0.128      -0.126\n",
       "ownership_0                          -0.0007      0.008     -0.094      0.925      -0.016       0.014\n",
       "ownership_1                          -0.0068      0.008     -0.903      0.367      -0.022       0.008\n",
       "activation_plan_code_1               -1.8965      0.018   -107.519      0.000      -1.931      -1.862\n",
       "activation_plan_code_2                1.5369      0.019     81.878      0.000       1.500       1.574\n",
       "activation_plan_code_3               -1.8973      0.018   -105.360      0.000      -1.933      -1.862\n",
       "activation_plan_code_4               -1.8788      0.019   -100.129      0.000      -1.916      -1.842\n",
       "activation_plan_code_5               -1.8751      0.017   -109.854      0.000      -1.909      -1.842\n",
       "activation_plan_code_6               -1.8658      0.018   -105.081      0.000      -1.901      -1.831\n",
       "activation_plan_code_7               -1.8744      0.018   -104.977      0.000      -1.909      -1.839\n",
       "activation_plan_code_8               -1.8918      0.019    -98.883      0.000      -1.929      -1.854\n",
       "activation_plan_code_9               13.5430      0.020    683.490      0.000      13.504      13.582\n",
       "activation_plan_code_10              -1.9078      0.018   -103.350      0.000      -1.944      -1.872\n",
       "mnp_flag_0                           -0.0259      0.015     -1.689      0.092      -0.056       0.004\n",
       "current_plan_code_1                   0.0009      0.018      0.050      0.960      -0.035       0.037\n",
       "current_plan_code_2                  -0.0210      0.018     -1.165      0.244      -0.056       0.014\n",
       "current_plan_code_3                   0.0589      0.018      3.182      0.002       0.023       0.095\n",
       "current_plan_code_4                  -0.0274      0.019     -1.433      0.152      -0.065       0.010\n",
       "current_plan_code_5                   0.0164      0.019      0.857      0.392      -0.021       0.054\n",
       "current_plan_code_6                  -0.0045      0.018     -0.250      0.802      -0.040       0.031\n",
       "current_plan_code_7                  -0.0032      0.019     -0.169      0.866      -0.040       0.034\n",
       "current_plan_code_8                  -0.0028      0.017     -0.159      0.873      -0.037       0.031\n",
       "current_plan_code_9                  -0.0362      0.018     -1.964      0.050      -0.072   -7.43e-06\n",
       "current_plan_code_10                  0.0115      0.018      0.646      0.518      -0.023       0.046\n",
       "current_active_plan_mrp_99            0.0257      0.006      4.043      0.000       0.013       0.038\n",
       "current_active_plan_mrp_128           0.0152      0.008      1.905      0.057      -0.000       0.031\n",
       "current_active_plan_mrp_300           0.0135      0.010      1.311      0.190      -0.007       0.034\n",
       "current_active_plan_mrp_500          -0.0199      0.008     -2.426      0.016      -0.036      -0.004\n",
       "current_active_plan_mrp_999          -0.0093      0.008     -1.137      0.256      -0.025       0.007\n",
       "current_active_plan_mrp_1500         -0.0288      0.007     -4.000      0.000      -0.043      -0.015\n",
       "current_active_plan_mrp_2999         -0.0039      0.006     -0.615      0.539      -0.016       0.008\n",
       "current_active_plan_validity_15       0.0257      0.006      4.043      0.000       0.013       0.038\n",
       "current_active_plan_validity_28       0.0152      0.008      1.905      0.057      -0.000       0.031\n",
       "current_active_plan_validity_90       0.0135      0.010      1.311      0.190      -0.007       0.034\n",
       "current_active_plan_validity_120     -0.0199      0.008     -2.426      0.016      -0.036      -0.004\n",
       "current_active_plan_validity_180     -0.0093      0.008     -1.137      0.256      -0.025       0.007\n",
       "current_active_plan_validity_365     -0.0288      0.007     -4.000      0.000      -0.043      -0.015\n",
       "current_active_plan_validity_700     -0.0039      0.006     -0.615      0.539      -0.016       0.008\n",
       "last_cycle_plan_mrp_99               -0.1302      0.010    -13.612      0.000      -0.149      -0.111\n",
       "last_cycle_plan_mrp_128              -0.1025      0.009    -10.945      0.000      -0.121      -0.084\n",
       "last_cycle_plan_mrp_300              -0.0509      0.008     -6.578      0.000      -0.066      -0.036\n",
       "last_cycle_plan_mrp_500              -0.0031      0.008     -0.390      0.697      -0.019       0.013\n",
       "last_cycle_plan_mrp_999               0.0462      0.008      6.067      0.000       0.031       0.061\n",
       "last_cycle_plan_mrp_1500              0.0872      0.010      8.961      0.000       0.068       0.106\n",
       "last_cycle_plan_mrp_2999              0.1458      0.017      8.784      0.000       0.113       0.178\n",
       "last_cycle_plan_validity_15          -0.1302      0.010    -13.612      0.000      -0.149      -0.111\n",
       "last_cycle_plan_validity_28          -0.1025      0.009    -10.945      0.000      -0.121      -0.084\n",
       "last_cycle_plan_validity_90          -0.0509      0.008     -6.578      0.000      -0.066      -0.036\n",
       "last_cycle_plan_validity_120         -0.0031      0.008     -0.390      0.697      -0.019       0.013\n",
       "last_cycle_plan_validity_180          0.0462      0.008      6.067      0.000       0.031       0.061\n",
       "last_cycle_plan_validity_365          0.0872      0.010      8.961      0.000       0.068       0.106\n",
       "last_cycle_plan_validity_700          0.1458      0.017      8.784      0.000       0.113       0.178\n",
       "device_avg_asp_1                      0.0065      0.012      0.542      0.588      -0.017       0.030\n",
       "device_avg_asp_2                      0.0080      0.013      0.636      0.525      -0.017       0.033\n",
       "device_avg_asp_3                     -0.0147      0.012     -1.235      0.217      -0.038       0.009\n",
       "device_avg_asp_4                     -0.0101      0.012     -0.817      0.414      -0.034       0.014\n",
       "device_avg_asp_5                      0.0027      0.013      0.208      0.835      -0.023       0.028\n",
       "==============================================================================\n",
       "Omnibus:                      138.878   Durbin-Watson:                   2.065\n",
       "Prob(Omnibus):                  0.000   Jarque-Bera (JB):               30.864\n",
       "Skew:                          -0.003   Prob(JB):                     1.99e-07\n",
       "Kurtosis:                       2.038   Cond. No.                     8.73e+16\n",
       "==============================================================================\n",
       "\n",
       "Notes:\n",
       "[1] Standard Errors assume that the covariance matrix of the errors is correctly specified.\n",
       "[2] The smallest eigenvalue is 7.3e-23. This might indicate that there are\n",
       "strong multicollinearity problems or that the design matrix is singular.\n",
       "\"\"\""
      ]
     },
     "execution_count": 195,
     "metadata": {},
     "output_type": "execute_result"
    }
   ],
   "source": [
    "x = sm.add_constant(q3_df)\n",
    "train_x, test_x, train_y, test_y = sklearn.model_selection.train_test_split(\n",
    "    x, rechange_delay_df, test_size=0.2, random_state=123\n",
    ")\n",
    "\n",
    "lmod = sm.OLS(train_y, train_x).fit()\n",
    "lmod.summary()"
   ]
  },
  {
   "cell_type": "code",
   "execution_count": 196,
   "metadata": {},
   "outputs": [
    {
     "data": {
      "text/plain": [
       "array([ 5.48499238, -1.35409902,  5.68499552, -9.83807397,  4.42320796,\n",
       "       -0.66513033,  8.48674597, 16.13464253, -0.87665479,  3.26339354])"
      ]
     },
     "execution_count": 196,
     "metadata": {},
     "output_type": "execute_result"
    }
   ],
   "source": [
    "lmod.predict()[:10]"
   ]
  },
  {
   "cell_type": "code",
   "execution_count": 197,
   "metadata": {},
   "outputs": [
    {
     "data": {
      "text/html": [
       "<div>\n",
       "<style scoped>\n",
       "    .dataframe tbody tr th:only-of-type {\n",
       "        vertical-align: middle;\n",
       "    }\n",
       "\n",
       "    .dataframe tbody tr th {\n",
       "        vertical-align: top;\n",
       "    }\n",
       "\n",
       "    .dataframe thead th {\n",
       "        text-align: right;\n",
       "    }\n",
       "</style>\n",
       "<table border=\"1\" class=\"dataframe\">\n",
       "  <thead>\n",
       "    <tr style=\"text-align: right;\">\n",
       "      <th></th>\n",
       "      <th>mean</th>\n",
       "      <th>mean_se</th>\n",
       "      <th>mean_ci_lower</th>\n",
       "      <th>mean_ci_upper</th>\n",
       "      <th>obs_ci_lower</th>\n",
       "      <th>obs_ci_upper</th>\n",
       "    </tr>\n",
       "  </thead>\n",
       "  <tbody>\n",
       "    <tr>\n",
       "      <th>512</th>\n",
       "      <td>5.484992</td>\n",
       "      <td>0.045058</td>\n",
       "      <td>5.396536</td>\n",
       "      <td>5.573449</td>\n",
       "      <td>5.145684</td>\n",
       "      <td>5.824301</td>\n",
       "    </tr>\n",
       "    <tr>\n",
       "      <th>685</th>\n",
       "      <td>-1.354099</td>\n",
       "      <td>0.044851</td>\n",
       "      <td>-1.442150</td>\n",
       "      <td>-1.266048</td>\n",
       "      <td>-1.693302</td>\n",
       "      <td>-1.014896</td>\n",
       "    </tr>\n",
       "    <tr>\n",
       "      <th>997</th>\n",
       "      <td>5.684996</td>\n",
       "      <td>0.044838</td>\n",
       "      <td>5.596970</td>\n",
       "      <td>5.773021</td>\n",
       "      <td>5.345799</td>\n",
       "      <td>6.024192</td>\n",
       "    </tr>\n",
       "    <tr>\n",
       "      <th>927</th>\n",
       "      <td>-9.838074</td>\n",
       "      <td>0.044379</td>\n",
       "      <td>-9.925199</td>\n",
       "      <td>-9.750949</td>\n",
       "      <td>-10.177038</td>\n",
       "      <td>-9.499110</td>\n",
       "    </tr>\n",
       "    <tr>\n",
       "      <th>376</th>\n",
       "      <td>4.423208</td>\n",
       "      <td>0.046239</td>\n",
       "      <td>4.332433</td>\n",
       "      <td>4.513983</td>\n",
       "      <td>4.083288</td>\n",
       "      <td>4.763128</td>\n",
       "    </tr>\n",
       "    <tr>\n",
       "      <th>788</th>\n",
       "      <td>-0.665130</td>\n",
       "      <td>0.042384</td>\n",
       "      <td>-0.748337</td>\n",
       "      <td>-0.581924</td>\n",
       "      <td>-1.003108</td>\n",
       "      <td>-0.327153</td>\n",
       "    </tr>\n",
       "    <tr>\n",
       "      <th>91</th>\n",
       "      <td>8.486746</td>\n",
       "      <td>0.042443</td>\n",
       "      <td>8.403422</td>\n",
       "      <td>8.570070</td>\n",
       "      <td>8.148739</td>\n",
       "      <td>8.824753</td>\n",
       "    </tr>\n",
       "    <tr>\n",
       "      <th>170</th>\n",
       "      <td>16.134643</td>\n",
       "      <td>0.044795</td>\n",
       "      <td>16.046702</td>\n",
       "      <td>16.222583</td>\n",
       "      <td>15.795468</td>\n",
       "      <td>16.473817</td>\n",
       "    </tr>\n",
       "    <tr>\n",
       "      <th>584</th>\n",
       "      <td>-0.876655</td>\n",
       "      <td>0.077074</td>\n",
       "      <td>-1.027964</td>\n",
       "      <td>-0.725346</td>\n",
       "      <td>-1.237487</td>\n",
       "      <td>-0.515822</td>\n",
       "    </tr>\n",
       "    <tr>\n",
       "      <th>90</th>\n",
       "      <td>3.263394</td>\n",
       "      <td>0.041237</td>\n",
       "      <td>3.182439</td>\n",
       "      <td>3.344348</td>\n",
       "      <td>2.925963</td>\n",
       "      <td>3.600824</td>\n",
       "    </tr>\n",
       "  </tbody>\n",
       "</table>\n",
       "</div>"
      ],
      "text/plain": [
       "          mean   mean_se  mean_ci_lower  mean_ci_upper  obs_ci_lower  \\\n",
       "512   5.484992  0.045058       5.396536       5.573449      5.145684   \n",
       "685  -1.354099  0.044851      -1.442150      -1.266048     -1.693302   \n",
       "997   5.684996  0.044838       5.596970       5.773021      5.345799   \n",
       "927  -9.838074  0.044379      -9.925199      -9.750949    -10.177038   \n",
       "376   4.423208  0.046239       4.332433       4.513983      4.083288   \n",
       "788  -0.665130  0.042384      -0.748337      -0.581924     -1.003108   \n",
       "91    8.486746  0.042443       8.403422       8.570070      8.148739   \n",
       "170  16.134643  0.044795      16.046702      16.222583     15.795468   \n",
       "584  -0.876655  0.077074      -1.027964      -0.725346     -1.237487   \n",
       "90    3.263394  0.041237       3.182439       3.344348      2.925963   \n",
       "\n",
       "     obs_ci_upper  \n",
       "512      5.824301  \n",
       "685     -1.014896  \n",
       "997      6.024192  \n",
       "927     -9.499110  \n",
       "376      4.763128  \n",
       "788     -0.327153  \n",
       "91       8.824753  \n",
       "170     16.473817  \n",
       "584     -0.515822  \n",
       "90       3.600824  "
      ]
     },
     "execution_count": 197,
     "metadata": {},
     "output_type": "execute_result"
    }
   ],
   "source": [
    "lmod.get_prediction().summary_frame()[:10]"
   ]
  },
  {
   "cell_type": "code",
   "execution_count": 198,
   "metadata": {},
   "outputs": [
    {
     "data": {
      "image/png": "[encoded data removed]",
      "text/plain": [
       "<Figure size 640x480 with 1 Axes>"
      ]
     },
     "metadata": {},
     "output_type": "display_data"
    }
   ],
   "source": [
    "sm.qqplot(lmod.resid,line=\"q\")\n",
    "plt.title(\"Q-Q plot of Standardized Residuals\")\n",
    "plt.show()"
   ]
  },
  {
   "cell_type": "markdown",
   "metadata": {},
   "source": [
    "### Q3 B)\n",
    "After you deliver your report, Ghansoli Raja wonders about the most important predictors of the recharge behaviour relationship depicted in question 3a. Only some of the features of the original dataset should be really meaningful. Then, he suggests to completely redo your analysis to see if you can find a (possibly, different) subset of important (significant) predictors."
   ]
  },
  {
   "cell_type": "code",
   "execution_count": 199,
   "metadata": {},
   "outputs": [
    {
     "data": {
      "text/plain": [
       "24.616556771906808"
      ]
     },
     "execution_count": 199,
     "metadata": {},
     "output_type": "execute_result"
    }
   ],
   "source": [
    "# we are using lasso fit\n",
    "\n",
    "from sklearn.linear_model import LassoCV, Lasso\n",
    "model = LassoCV(cv=5, random_state=0, max_iter=10000)\n",
    "model.fit(train_x, train_y)\n",
    "model.alpha_"
   ]
  },
  {
   "cell_type": "code",
   "execution_count": 200,
   "metadata": {},
   "outputs": [
    {
     "data": {
      "text/plain": [
       "array([3.49694112e-03, 0.00000000e+00, 1.21302423e-02, 0.00000000e+00,\n",
       "       2.56059261e-04, 0.00000000e+00, 7.56006682e-05, 0.00000000e+00,\n",
       "       0.00000000e+00, 0.00000000e+00])"
      ]
     },
     "execution_count": 200,
     "metadata": {},
     "output_type": "execute_result"
    }
   ],
   "source": [
    "lasso_best = Lasso(alpha=model.alpha_)\n",
    "lasso_best.fit(train_x, train_y)\n",
    "importance = np.abs(lasso_best.coef_)[1:]\n",
    "importance[:10]"
   ]
  },
  {
   "cell_type": "code",
   "execution_count": 201,
   "metadata": {},
   "outputs": [
    {
     "data": {
      "text/html": [
       "<table class=\"simpletable\">\n",
       "<caption>OLS Regression Results</caption>\n",
       "<tr>\n",
       "  <th>Dep. Variable:</th>     <td>recharge_delay</td>  <th>  R-squared:         </th> <td>   0.581</td> \n",
       "</tr>\n",
       "<tr>\n",
       "  <th>Model:</th>                   <td>OLS</td>       <th>  Adj. R-squared:    </th> <td>   0.576</td> \n",
       "</tr>\n",
       "<tr>\n",
       "  <th>Method:</th>             <td>Least Squares</td>  <th>  F-statistic:       </th> <td>   109.4</td> \n",
       "</tr>\n",
       "<tr>\n",
       "  <th>Date:</th>             <td>Tue, 30 Aug 2022</td> <th>  Prob (F-statistic):</th> <td>1.21e-141</td>\n",
       "</tr>\n",
       "<tr>\n",
       "  <th>Time:</th>                 <td>19:16:30</td>     <th>  Log-Likelihood:    </th> <td> -2488.6</td> \n",
       "</tr>\n",
       "<tr>\n",
       "  <th>No. Observations:</th>      <td>   800</td>      <th>  AIC:               </th> <td>   4999.</td> \n",
       "</tr>\n",
       "<tr>\n",
       "  <th>Df Residuals:</th>          <td>   789</td>      <th>  BIC:               </th> <td>   5051.</td> \n",
       "</tr>\n",
       "<tr>\n",
       "  <th>Df Model:</th>              <td>    10</td>      <th>                     </th>     <td> </td>    \n",
       "</tr>\n",
       "<tr>\n",
       "  <th>Covariance Type:</th>      <td>nonrobust</td>    <th>                     </th>     <td> </td>    \n",
       "</tr>\n",
       "</table>\n",
       "<table class=\"simpletable\">\n",
       "<tr>\n",
       "                  <td></td>                     <th>coef</th>     <th>std err</th>      <th>t</th>      <th>P>|t|</th>  <th>[0.025</th>    <th>0.975]</th>  \n",
       "</tr>\n",
       "<tr>\n",
       "  <th>const</th>                             <td>    0.1441</td> <td>    0.845</td> <td>    0.170</td> <td> 0.865</td> <td>   -1.515</td> <td>    1.803</td>\n",
       "</tr>\n",
       "<tr>\n",
       "  <th>calls_incoming_cnt</th>                <td>   -0.0431</td> <td>    0.012</td> <td>   -3.585</td> <td> 0.000</td> <td>   -0.067</td> <td>   -0.019</td>\n",
       "</tr>\n",
       "<tr>\n",
       "  <th>calls_incoming_duration</th>           <td>    0.0089</td> <td>    0.007</td> <td>    1.210</td> <td> 0.226</td> <td>   -0.006</td> <td>    0.023</td>\n",
       "</tr>\n",
       "<tr>\n",
       "  <th>total_call_count</th>                  <td>   -0.0006</td> <td>    0.003</td> <td>   -0.185</td> <td> 0.853</td> <td>   -0.007</td> <td>    0.006</td>\n",
       "</tr>\n",
       "<tr>\n",
       "  <th>tot_usage_mb</th>                      <td>-1.222e-05</td> <td> 2.55e-05</td> <td>   -0.478</td> <td> 0.632</td> <td>-6.24e-05</td> <td> 3.79e-05</td>\n",
       "</tr>\n",
       "<tr>\n",
       "  <th>rsrp_data_pcnt_poor_duration</th>      <td>    0.0678</td> <td>    0.007</td> <td>    9.711</td> <td> 0.000</td> <td>    0.054</td> <td>    0.082</td>\n",
       "</tr>\n",
       "<tr>\n",
       "  <th>mean_cqi_voice_pcnt_poor_duration</th> <td>    0.0992</td> <td>    0.007</td> <td>   14.579</td> <td> 0.000</td> <td>    0.086</td> <td>    0.113</td>\n",
       "</tr>\n",
       "<tr>\n",
       "  <th>sinr_data_pcnt_poor_duration</th>      <td>    0.0582</td> <td>    0.007</td> <td>    8.697</td> <td> 0.000</td> <td>    0.045</td> <td>    0.071</td>\n",
       "</tr>\n",
       "<tr>\n",
       "  <th>total_payment_made</th>                <td>   -0.0004</td> <td>  4.6e-05</td> <td>   -8.053</td> <td> 0.000</td> <td>   -0.000</td> <td>   -0.000</td>\n",
       "</tr>\n",
       "<tr>\n",
       "  <th>total_main_plans_mrp</th>              <td>-5.336e-05</td> <td> 6.89e-05</td> <td>   -0.774</td> <td> 0.439</td> <td>   -0.000</td> <td> 8.19e-05</td>\n",
       "</tr>\n",
       "<tr>\n",
       "  <th>pcnt_quota_used</th>                   <td>   -0.1181</td> <td>    0.007</td> <td>  -16.133</td> <td> 0.000</td> <td>   -0.132</td> <td>   -0.104</td>\n",
       "</tr>\n",
       "</table>\n",
       "<table class=\"simpletable\">\n",
       "<tr>\n",
       "  <th>Omnibus:</th>       <td>220.935</td> <th>  Durbin-Watson:     </th> <td>   1.949</td> \n",
       "</tr>\n",
       "<tr>\n",
       "  <th>Prob(Omnibus):</th> <td> 0.000</td>  <th>  Jarque-Bera (JB):  </th> <td> 548.560</td> \n",
       "</tr>\n",
       "<tr>\n",
       "  <th>Skew:</th>          <td> 1.439</td>  <th>  Prob(JB):          </th> <td>7.62e-120</td>\n",
       "</tr>\n",
       "<tr>\n",
       "  <th>Kurtosis:</th>      <td> 5.858</td>  <th>  Cond. No.          </th> <td>9.60e+04</td> \n",
       "</tr>\n",
       "</table><br/><br/>Notes:<br/>[1] Standard Errors assume that the covariance matrix of the errors is correctly specified.<br/>[2] The condition number is large, 9.6e+04. This might indicate that there are<br/>strong multicollinearity or other numerical problems."
      ],
      "text/plain": [
       "<class 'statsmodels.iolib.summary.Summary'>\n",
       "\"\"\"\n",
       "                            OLS Regression Results                            \n",
       "==============================================================================\n",
       "Dep. Variable:         recharge_delay   R-squared:                       0.581\n",
       "Model:                            OLS   Adj. R-squared:                  0.576\n",
       "Method:                 Least Squares   F-statistic:                     109.4\n",
       "Date:                Tue, 30 Aug 2022   Prob (F-statistic):          1.21e-141\n",
       "Time:                        19:16:30   Log-Likelihood:                -2488.6\n",
       "No. Observations:                 800   AIC:                             4999.\n",
       "Df Residuals:                     789   BIC:                             5051.\n",
       "Df Model:                          10                                         \n",
       "Covariance Type:            nonrobust                                         \n",
       "=====================================================================================================\n",
       "                                        coef    std err          t      P>|t|      [0.025      0.975]\n",
       "-----------------------------------------------------------------------------------------------------\n",
       "const                                 0.1441      0.845      0.170      0.865      -1.515       1.803\n",
       "calls_incoming_cnt                   -0.0431      0.012     -3.585      0.000      -0.067      -0.019\n",
       "calls_incoming_duration               0.0089      0.007      1.210      0.226      -0.006       0.023\n",
       "total_call_count                     -0.0006      0.003     -0.185      0.853      -0.007       0.006\n",
       "tot_usage_mb                      -1.222e-05   2.55e-05     -0.478      0.632   -6.24e-05    3.79e-05\n",
       "rsrp_data_pcnt_poor_duration          0.0678      0.007      9.711      0.000       0.054       0.082\n",
       "mean_cqi_voice_pcnt_poor_duration     0.0992      0.007     14.579      0.000       0.086       0.113\n",
       "sinr_data_pcnt_poor_duration          0.0582      0.007      8.697      0.000       0.045       0.071\n",
       "total_payment_made                   -0.0004    4.6e-05     -8.053      0.000      -0.000      -0.000\n",
       "total_main_plans_mrp              -5.336e-05   6.89e-05     -0.774      0.439      -0.000    8.19e-05\n",
       "pcnt_quota_used                      -0.1181      0.007    -16.133      0.000      -0.132      -0.104\n",
       "==============================================================================\n",
       "Omnibus:                      220.935   Durbin-Watson:                   1.949\n",
       "Prob(Omnibus):                  0.000   Jarque-Bera (JB):              548.560\n",
       "Skew:                           1.439   Prob(JB):                    7.62e-120\n",
       "Kurtosis:                       5.858   Cond. No.                     9.60e+04\n",
       "==============================================================================\n",
       "\n",
       "Notes:\n",
       "[1] Standard Errors assume that the covariance matrix of the errors is correctly specified.\n",
       "[2] The condition number is large, 9.6e+04. This might indicate that there are\n",
       "strong multicollinearity or other numerical problems.\n",
       "\"\"\""
      ]
     },
     "execution_count": 201,
     "metadata": {},
     "output_type": "execute_result"
    }
   ],
   "source": [
    "columns = np.array(q3_df.columns)[importance > 0]\n",
    "x = sm.add_constant(q3_df[columns])\n",
    "\n",
    "train_x, test_x, train_y, test_y = sklearn.model_selection.train_test_split(\n",
    "    x, q3_rechange_delay_df, test_size=0.2, random_state=123\n",
    ")\n",
    "train_x_tmp = sm.add_constant(train_x)\n",
    "\n",
    "lmod = sm.OLS(train_y, train_x_tmp).fit()\n",
    "lmod.summary()"
   ]
  },
  {
   "cell_type": "code",
   "execution_count": 202,
   "metadata": {},
   "outputs": [
    {
     "data": {
      "text/plain": [
       "array([ 6.55439783, -1.70628733,  1.99211212, -6.0426985 ,  4.62455227,\n",
       "       -3.28825371, 12.31191848,  1.70074408, -2.58948679,  5.6063261 ])"
      ]
     },
     "execution_count": 202,
     "metadata": {},
     "output_type": "execute_result"
    }
   ],
   "source": [
    "lmod.predict()[:10]"
   ]
  },
  {
   "cell_type": "code",
   "execution_count": 203,
   "metadata": {},
   "outputs": [
    {
     "data": {
      "text/html": [
       "<div>\n",
       "<style scoped>\n",
       "    .dataframe tbody tr th:only-of-type {\n",
       "        vertical-align: middle;\n",
       "    }\n",
       "\n",
       "    .dataframe tbody tr th {\n",
       "        vertical-align: top;\n",
       "    }\n",
       "\n",
       "    .dataframe thead th {\n",
       "        text-align: right;\n",
       "    }\n",
       "</style>\n",
       "<table border=\"1\" class=\"dataframe\">\n",
       "  <thead>\n",
       "    <tr style=\"text-align: right;\">\n",
       "      <th></th>\n",
       "      <th>mean</th>\n",
       "      <th>mean_se</th>\n",
       "      <th>mean_ci_lower</th>\n",
       "      <th>mean_ci_upper</th>\n",
       "      <th>obs_ci_lower</th>\n",
       "      <th>obs_ci_upper</th>\n",
       "    </tr>\n",
       "  </thead>\n",
       "  <tbody>\n",
       "    <tr>\n",
       "      <th>512</th>\n",
       "      <td>6.554398</td>\n",
       "      <td>0.561093</td>\n",
       "      <td>5.452987</td>\n",
       "      <td>7.655809</td>\n",
       "      <td>-4.233331</td>\n",
       "      <td>17.342127</td>\n",
       "    </tr>\n",
       "    <tr>\n",
       "      <th>685</th>\n",
       "      <td>-1.706287</td>\n",
       "      <td>0.641040</td>\n",
       "      <td>-2.964634</td>\n",
       "      <td>-0.447941</td>\n",
       "      <td>-12.511167</td>\n",
       "      <td>9.098593</td>\n",
       "    </tr>\n",
       "    <tr>\n",
       "      <th>997</th>\n",
       "      <td>1.992112</td>\n",
       "      <td>0.675057</td>\n",
       "      <td>0.666992</td>\n",
       "      <td>3.317232</td>\n",
       "      <td>-8.820748</td>\n",
       "      <td>12.804972</td>\n",
       "    </tr>\n",
       "    <tr>\n",
       "      <th>927</th>\n",
       "      <td>-6.042698</td>\n",
       "      <td>0.581525</td>\n",
       "      <td>-7.184217</td>\n",
       "      <td>-4.901180</td>\n",
       "      <td>-16.834596</td>\n",
       "      <td>4.749199</td>\n",
       "    </tr>\n",
       "    <tr>\n",
       "      <th>376</th>\n",
       "      <td>4.624552</td>\n",
       "      <td>0.639767</td>\n",
       "      <td>3.368705</td>\n",
       "      <td>5.880400</td>\n",
       "      <td>-6.180037</td>\n",
       "      <td>15.429141</td>\n",
       "    </tr>\n",
       "    <tr>\n",
       "      <th>788</th>\n",
       "      <td>-3.288254</td>\n",
       "      <td>0.464882</td>\n",
       "      <td>-4.200806</td>\n",
       "      <td>-2.375701</td>\n",
       "      <td>-14.058339</td>\n",
       "      <td>7.481832</td>\n",
       "    </tr>\n",
       "    <tr>\n",
       "      <th>91</th>\n",
       "      <td>12.311918</td>\n",
       "      <td>0.538132</td>\n",
       "      <td>11.255579</td>\n",
       "      <td>13.368258</td>\n",
       "      <td>1.528698</td>\n",
       "      <td>23.095139</td>\n",
       "    </tr>\n",
       "    <tr>\n",
       "      <th>170</th>\n",
       "      <td>1.700744</td>\n",
       "      <td>0.620581</td>\n",
       "      <td>0.482559</td>\n",
       "      <td>2.918929</td>\n",
       "      <td>-9.099532</td>\n",
       "      <td>12.501020</td>\n",
       "    </tr>\n",
       "    <tr>\n",
       "      <th>584</th>\n",
       "      <td>-2.589487</td>\n",
       "      <td>1.175385</td>\n",
       "      <td>-4.896739</td>\n",
       "      <td>-0.282234</td>\n",
       "      <td>-13.566071</td>\n",
       "      <td>8.387098</td>\n",
       "    </tr>\n",
       "    <tr>\n",
       "      <th>90</th>\n",
       "      <td>5.606326</td>\n",
       "      <td>0.566013</td>\n",
       "      <td>4.495256</td>\n",
       "      <td>6.717396</td>\n",
       "      <td>-5.182393</td>\n",
       "      <td>16.395046</td>\n",
       "    </tr>\n",
       "  </tbody>\n",
       "</table>\n",
       "</div>"
      ],
      "text/plain": [
       "          mean   mean_se  mean_ci_lower  mean_ci_upper  obs_ci_lower  \\\n",
       "512   6.554398  0.561093       5.452987       7.655809     -4.233331   \n",
       "685  -1.706287  0.641040      -2.964634      -0.447941    -12.511167   \n",
       "997   1.992112  0.675057       0.666992       3.317232     -8.820748   \n",
       "927  -6.042698  0.581525      -7.184217      -4.901180    -16.834596   \n",
       "376   4.624552  0.639767       3.368705       5.880400     -6.180037   \n",
       "788  -3.288254  0.464882      -4.200806      -2.375701    -14.058339   \n",
       "91   12.311918  0.538132      11.255579      13.368258      1.528698   \n",
       "170   1.700744  0.620581       0.482559       2.918929     -9.099532   \n",
       "584  -2.589487  1.175385      -4.896739      -0.282234    -13.566071   \n",
       "90    5.606326  0.566013       4.495256       6.717396     -5.182393   \n",
       "\n",
       "     obs_ci_upper  \n",
       "512     17.342127  \n",
       "685      9.098593  \n",
       "997     12.804972  \n",
       "927      4.749199  \n",
       "376     15.429141  \n",
       "788      7.481832  \n",
       "91      23.095139  \n",
       "170     12.501020  \n",
       "584      8.387098  \n",
       "90      16.395046  "
      ]
     },
     "execution_count": 203,
     "metadata": {},
     "output_type": "execute_result"
    }
   ],
   "source": [
    "lmod.get_prediction().summary_frame()[:10]"
   ]
  },
  {
   "cell_type": "code",
   "execution_count": 204,
   "metadata": {},
   "outputs": [
    {
     "data": {
      "image/png": "[encoded data removed]",
      "text/plain": [
       "<Figure size 640x480 with 1 Axes>"
      ]
     },
     "metadata": {},
     "output_type": "display_data"
    }
   ],
   "source": [
    "sm.qqplot(lmod.resid,line=\"q\")\n",
    "plt.title(\"Q-Q plot of Standardized Residuals\")\n",
    "plt.show()"
   ]
  },
  {
   "cell_type": "code",
   "execution_count": null,
   "metadata": {},
   "outputs": [],
   "source": []
  },
  {
   "cell_type": "markdown",
   "metadata": {},
   "source": [
    "## End of Project\n",
    "### AKASH DESHWANI - 23PGAI0035"
   ]
  }
 ],
 "metadata": {
  "kernelspec": {
   "display_name": "Python 3.9.13 ('base')",
   "language": "python",
   "name": "python3"
  },
  "language_info": {
   "codemirror_mode": {
    "name": "ipython",
    "version": 3
   },
   "file_extension": ".py",
   "mimetype": "text/x-python",
   "name": "python",
   "nbconvert_exporter": "python",
   "pygments_lexer": "ipython3",
   "version": "3.9.13"
  },
  "orig_nbformat": 4,
  "vscode": {
   "interpreter": {
    "hash": "77ce1daac4cc618906302d44b9c26097bb5a0acb9a6503c2e9d50863c642619c"
   }
  }
 },
 "nbformat": 4,
 "nbformat_minor": 2
}
