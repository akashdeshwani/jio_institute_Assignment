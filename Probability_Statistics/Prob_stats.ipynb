{
 "cells": [
  {
   "cell_type": "code",
   "execution_count": 1,
   "id": "a9eae61a-c250-4f93-9719-65a78e1c0690",
   "metadata": {},
   "outputs": [],
   "source": [
    "import numpy as np\n",
    "from scipy.stats import poisson\n",
    "\n",
    "np.random.seed(444)"
   ]
  },
  {
   "cell_type": "code",
   "execution_count": 28,
   "id": "6260bf6c-b373-4c6a-9d45-980c25c2d0d0",
   "metadata": {},
   "outputs": [],
   "source": [
    "def check_length_3(no_of_breaks=None):\n",
    "    if no_of_breaks == 0:\n",
    "        return 0\n",
    "    breaks = []\n",
    "    for i in range(no_of_breaks):\n",
    "        breaks.append(np.random.random())\n",
    "        \n",
    "    breaks.sort()\n",
    "    length_of_parts = []\n",
    "    full_length = 1\n",
    "    length_of_parts.append(breaks[0])\n",
    "    for i in range(1, no_of_breaks):\n",
    "        length_of_part = breaks[i] - breaks[i-1]\n",
    "        length_of_parts.append(length_of_part)\n",
    "    length_of_parts.append( 1 - breaks[no_of_breaks - 1])\n",
    "    min_length = min(length_of_parts)\n",
    "    if min_length < 0.03:\n",
    "        return 1\n",
    "    return 0"
   ]
  },
  {
   "cell_type": "code",
   "execution_count": 29,
   "id": "260d25f8-df68-454d-a43a-f542779e0ec3",
   "metadata": {},
   "outputs": [
    {
     "name": "stdout",
     "output_type": "stream",
     "text": [
      "probability for 0.03 is  0.47771\n"
     ]
    }
   ],
   "source": [
    "no_of_iterations = 100000\n",
    "no_of_breaks = 4\n",
    "\n",
    "result = 0\n",
    "for i in range(no_of_iterations):\n",
    "    # sum of result\n",
    "    result = result + check_length_3(no_of_breaks)\n",
    "\n",
    "result = result/no_of_iterations\n",
    "print(\"probability for 0.03 is \", result)"
   ]
  },
  {
   "cell_type": "code",
   "execution_count": 30,
   "id": "4b539417-0041-418e-a02e-1d184ad5dacc",
   "metadata": {},
   "outputs": [
    {
     "name": "stdout",
     "output_type": "stream",
     "text": [
      "probability for 0.03 is  0.4613647771\n"
     ]
    }
   ],
   "source": [
    "no_of_iterations = 100000\n",
    "poission_random_list = np.random.poisson(lam=no_of_breaks, size=no_of_iterations)\n",
    "\n",
    "for i in range(no_of_iterations):\n",
    "    result = result + check_length_3(poission_random_list[i])\n",
    "\n",
    "result = result/no_of_iterations\n",
    "print(\"probability for 0.03 is \", result)"
   ]
  },
  {
   "cell_type": "code",
   "execution_count": null,
   "id": "c10d5573-95a7-48f0-a94f-1544fcb1e335",
   "metadata": {},
   "outputs": [],
   "source": []
  }
 ],
 "metadata": {
  "kernelspec": {
   "display_name": "Python 3 (ipykernel)",
   "language": "python",
   "name": "python3"
  },
  "language_info": {
   "codemirror_mode": {
    "name": "ipython",
    "version": 3
   },
   "file_extension": ".py",
   "mimetype": "text/x-python",
   "name": "python",
   "nbconvert_exporter": "python",
   "pygments_lexer": "ipython3",
   "version": "3.10.2"
  }
 },
 "nbformat": 4,
 "nbformat_minor": 5
}
